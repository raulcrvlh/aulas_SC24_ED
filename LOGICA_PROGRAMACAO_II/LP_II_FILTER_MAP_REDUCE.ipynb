{
 "cells": [
  {
   "cell_type": "markdown",
   "metadata": {},
   "source": [
    "# Vamos relembrar alguns conceitos sobre funções"
   ]
  },
  {
   "cell_type": "markdown",
   "metadata": {},
   "source": [
    "Uma função é um objeto utilizado para **fazer determinadas ações**.\n",
    "\n",
    "Podemos pensar como uma máquina que quando inserimos argumentos nos seus parâmetros faz algo e pode ou não retornar algo."
   ]
  },
  {
   "cell_type": "code",
   "execution_count": 11,
   "metadata": {},
   "outputs": [
    {
     "data": {
      "text/plain": [
       "'saida: argumento_1. instrução aplicada'"
      ]
     },
     "execution_count": 11,
     "metadata": {},
     "output_type": "execute_result"
    }
   ],
   "source": [
    "def nome_da_funcao(parametro1='argumento_1'):\n",
    "    instrucoes = str(parametro1) + \". instrução aplicada\"\n",
    "    saida = 'saida: ' + instrucoes\n",
    "\n",
    "    return saida\n",
    "\n",
    "nome_da_funcao()"
   ]
  },
  {
   "cell_type": "markdown",
   "metadata": {},
   "source": [
    "O que fizemos acima é:\n",
    "\n",
    "* usamos \"def\" para deixr claro para o Python que estamos **definindo** uma função;\n",
    "* Demos um **nome** para a função;\n",
    "* Em parênteses, determinamos quais serão os parâmetros que quando a função for utilizada será \"preenchida\" pelos argumentos -- esses são os inputs, e em python, esses elementos podem ser opcionais!\n",
    "* Depois, realizamos uma série de instruções. Nesse caso, concatenamos dois textos.\n",
    "* Ao fim, dizemos o que a função irá retornar -- esses são os outputs, e em Python esse elemento pode ser opcional!"
   ]
  },
  {
   "cell_type": "markdown",
   "metadata": {},
   "source": [
    "Importante lembrar que as variáveis criadas dentro da função como padrão ficarão dentro do escopo da função. Isto é, não serão salvas se você chama-las fora"
   ]
  },
  {
   "cell_type": "markdown",
   "metadata": {},
   "source": [
    "### Funções com funções\n",
    "\n",
    "Uma funçaõ, assim como outras \"informações\" que aprendemos, também consegue ser atribuída a uma variável."
   ]
  },
  {
   "cell_type": "code",
   "execution_count": 12,
   "metadata": {},
   "outputs": [],
   "source": [
    "var1 = 2\n",
    "var2 = sum"
   ]
  },
  {
   "cell_type": "markdown",
   "metadata": {},
   "source": [
    "As funções também conseguem ser passadas como argumento para outras funções. Essa combinação entre funções pode ser útil quando queremos executar uma mesma sequência de passos"
   ]
  },
  {
   "cell_type": "markdown",
   "metadata": {},
   "source": [
    "vamos a um exemplo:"
   ]
  },
  {
   "cell_type": "code",
   "execution_count": 13,
   "metadata": {},
   "outputs": [],
   "source": [
    "def funcao(n):\n",
    "    return n\n"
   ]
  },
  {
   "cell_type": "code",
   "execution_count": 14,
   "metadata": {},
   "outputs": [
    {
     "data": {
      "text/plain": [
       "<function __main__.funcao(n)>"
      ]
     },
     "execution_count": 14,
     "metadata": {},
     "output_type": "execute_result"
    }
   ],
   "source": [
    "funcao # não estamos chamando a função"
   ]
  },
  {
   "cell_type": "code",
   "execution_count": 15,
   "metadata": {},
   "outputs": [
    {
     "data": {
      "text/plain": [
       "function"
      ]
     },
     "execution_count": 15,
     "metadata": {},
     "output_type": "execute_result"
    }
   ],
   "source": [
    "type(funcao)"
   ]
  },
  {
   "cell_type": "code",
   "execution_count": 16,
   "metadata": {},
   "outputs": [
    {
     "data": {
      "text/plain": [
       "4"
      ]
     },
     "execution_count": 16,
     "metadata": {},
     "output_type": "execute_result"
    }
   ],
   "source": [
    "def outra_funcao(numero, funcao):\n",
    "    return funcao(numero) * numero\n",
    "\n",
    "outra_funcao(2, funcao)"
   ]
  },
  {
   "cell_type": "markdown",
   "metadata": {},
   "source": [
    "vamos a outro exemplo:"
   ]
  },
  {
   "cell_type": "code",
   "execution_count": 17,
   "metadata": {},
   "outputs": [],
   "source": [
    "def soma(a, b):\n",
    "    return a + b\n",
    "\n",
    "def subtracao(a, b):\n",
    "    return a - b\n",
    "\n",
    "def multi(a, b):\n",
    "    return a * b\n",
    "\n",
    "def div(a, b):\n",
    "    return a / b"
   ]
  },
  {
   "cell_type": "code",
   "execution_count": 18,
   "metadata": {},
   "outputs": [
    {
     "data": {
      "text/plain": [
       "10"
      ]
     },
     "execution_count": 18,
     "metadata": {},
     "output_type": "execute_result"
    }
   ],
   "source": [
    "def operador_para_funcao(operador):\n",
    "    if operador == '+':\n",
    "        return soma\n",
    "    elif operador == '-':\n",
    "        return subtracao\n",
    "    elif operador == '*':\n",
    "        return multi\n",
    "    elif operador == '/':\n",
    "        return div\n",
    "    else:\n",
    "        print(f'não reconheci o operador {operador}')\n",
    "\n",
    "operador_para_funcao('*')\n",
    "operador_para_funcao('*')(5,2)"
   ]
  },
  {
   "cell_type": "markdown",
   "metadata": {},
   "source": [
    "Como vimos:\n",
    "\n",
    "* As funções se passadas sem parênteses () podem ser utilizadas dentro de outras funções.\n",
    "* Conseguimos passar uma função como argumento e utiliza-la dentro da função\n",
    "\n",
    "Agenda 09/ago (não necessariamente nessa ordem):\n",
    "\n",
    "* visita do time pedagógico para saber represetante da turma\n",
    "* lembrar onde paramos\n",
    "* filter/map/reduce\n",
    "* outras definições de parâmetro de função\n",
    "* exercício\n",
    "* compartilhar projeto e explicar"
   ]
  },
  {
   "cell_type": "markdown",
   "metadata": {},
   "source": [
    "### função filter()\n",
    "\n",
    "documentação: https://docs.python.org/3/library/functions.html#filter"
   ]
  },
  {
   "cell_type": "code",
   "execution_count": 23,
   "metadata": {},
   "outputs": [
    {
     "data": {
      "text/plain": [
       "(1, 3)"
      ]
     },
     "execution_count": 23,
     "metadata": {},
     "output_type": "execute_result"
    }
   ],
   "source": [
    "# função que recebe outra função como um dos seus argumentos (filter checa se algo é verdadeiro ou falso)\n",
    "# filter(function, iterable(list, tuple, etc))\n",
    "\n",
    "def is_impar(n):\n",
    "    if n%2:\n",
    "        return True\n",
    "    else:\n",
    "        return False\n",
    "\n",
    "lista = [1,2,3,4]\n",
    "tuple(filter(is_impar, lista))\n"
   ]
  },
  {
   "cell_type": "code",
   "execution_count": 22,
   "metadata": {},
   "outputs": [
    {
     "name": "stdout",
     "output_type": "stream",
     "text": [
      "1\n",
      "3\n"
     ]
    }
   ],
   "source": [
    "for x in filter(is_impar, lista):\n",
    "    print(x)\n"
   ]
  },
  {
   "cell_type": "markdown",
   "metadata": {},
   "source": [
    "### função map()\n",
    "\n",
    "links úteis:\n",
    "* https://docs.python.org/3/library/functions.html#map\n",
    "* https://www.geeksforgeeks.org/python-map-function/"
   ]
  },
  {
   "cell_type": "code",
   "execution_count": 25,
   "metadata": {},
   "outputs": [
    {
     "data": {
      "text/plain": [
       "(1, 4, 9, 16)"
      ]
     },
     "execution_count": 25,
     "metadata": {},
     "output_type": "execute_result"
    }
   ],
   "source": [
    "# map(function, iterable(list, tuple, etc.))\n",
    "# aplica a função para cada elemento do iterável (mapeia todos os elementos e aplica a função sobre cada um)\n",
    "# é uma \"alternativa\" para o for\n",
    "\n",
    "def quadrado(n):\n",
    "    return n ** 2\n",
    "\n",
    "lista1 = [1,2,3,4]\n",
    "tuple(map(quadrado, lista1))"
   ]
  },
  {
   "cell_type": "code",
   "execution_count": 26,
   "metadata": {},
   "outputs": [
    {
     "data": {
      "text/plain": [
       "(True, False, True, False)"
      ]
     },
     "execution_count": 26,
     "metadata": {},
     "output_type": "execute_result"
    }
   ],
   "source": [
    "tuple(map(is_impar, lista1)) # mesmo exemplo do filter, porém usando map. ele itera sobre cada elemento e retorna se é par ou ímpar"
   ]
  },
  {
   "cell_type": "code",
   "execution_count": 27,
   "metadata": {},
   "outputs": [
    {
     "data": {
      "text/plain": [
       "(1, 4, 27, 64)"
      ]
     },
     "execution_count": 27,
     "metadata": {},
     "output_type": "execute_result"
    }
   ],
   "source": [
    "def potencia(base, expoente):\n",
    "    return base ** expoente\n",
    "\n",
    "lista = [1,2,3,4]\n",
    "lista2 = [2,2,3,3]\n",
    "tuple(map(potencia, lista, lista2))"
   ]
  },
  {
   "cell_type": "code",
   "execution_count": 28,
   "metadata": {},
   "outputs": [
    {
     "data": {
      "text/plain": [
       "(1, 4, 27, 64)"
      ]
     },
     "execution_count": 28,
     "metadata": {},
     "output_type": "execute_result"
    }
   ],
   "source": [
    "lista3 = [1,2,3,4,5,6,7,8,9]\n",
    "tuple(map(potencia, lista3, lista2)) # considera o tamanho da menor lista para fazer a iteração"
   ]
  },
  {
   "cell_type": "code",
   "execution_count": 29,
   "metadata": {},
   "outputs": [
    {
     "data": {
      "text/plain": [
       "('nome é o nome da chave', 'idade é o nome da chave')"
      ]
     },
     "execution_count": 29,
     "metadata": {},
     "output_type": "execute_result"
    }
   ],
   "source": [
    "def concatenar(a):\n",
    "    return str(a) + \" é o nome da chave\"\n",
    "\n",
    "tuple(map(concatenar, {\"nome\": \"raul\", \"idade\": 50}))"
   ]
  },
  {
   "cell_type": "code",
   "execution_count": 31,
   "metadata": {},
   "outputs": [
    {
     "data": {
      "text/plain": [
       "('raul é o nome do valor', '50 é o nome do valor')"
      ]
     },
     "execution_count": 31,
     "metadata": {},
     "output_type": "execute_result"
    }
   ],
   "source": [
    "def concatenar(a):\n",
    "    return str(a) + \" é o nome do valor\"\n",
    "\n",
    "tuple(map(concatenar, {\"nome\": \"raul\", \"idade\": 50}.values()))"
   ]
  },
  {
   "cell_type": "markdown",
   "metadata": {},
   "source": [
    "### função reduce()\n",
    "\n",
    "documentação: https://docs.python.org/3/library/functools.html\n",
    "\n",
    "vamos fazer algo um pouco diferente dessa vez, vamos importar (import) algo de uma biblioteca biblioteca, mais especificamente a função reduce dessa biblioteca."
   ]
  },
  {
   "cell_type": "code",
   "execution_count": 32,
   "metadata": {},
   "outputs": [
    {
     "data": {
      "text/plain": [
       "85"
      ]
     },
     "execution_count": 32,
     "metadata": {},
     "output_type": "execute_result"
    }
   ],
   "source": [
    "from functools import reduce\n",
    "\n",
    "def soma(a, b):\n",
    "    return a + b\n",
    "lista_reduce = [5,8,9,27,36]\n",
    "reduce(soma, lista_reduce)"
   ]
  },
  {
   "cell_type": "code",
   "execution_count": 35,
   "metadata": {},
   "outputs": [
    {
     "data": {
      "text/plain": [
       "5"
      ]
     },
     "execution_count": 35,
     "metadata": {},
     "output_type": "execute_result"
    }
   ],
   "source": [
    "def maior_numero(a, b):\n",
    "    if b > a:\n",
    "        return b\n",
    "    else:\n",
    "        return a\n",
    "\n",
    "reduce(maior_numero, [1,2,3,4,5])"
   ]
  },
  {
   "cell_type": "code",
   "execution_count": 37,
   "metadata": {},
   "outputs": [
    {
     "data": {
      "text/plain": [
       "88"
      ]
     },
     "execution_count": 37,
     "metadata": {},
     "output_type": "execute_result"
    }
   ],
   "source": [
    "def maior_numero_2(x, y):\n",
    "    return x if x > y else y\n",
    "\n",
    "reduce(maior_numero_2, [50,77,88,45,66])"
   ]
  },
  {
   "cell_type": "code",
   "execution_count": 45,
   "metadata": {},
   "outputs": [
    {
     "data": {
      "text/plain": [
       "-1"
      ]
     },
     "execution_count": 45,
     "metadata": {},
     "output_type": "execute_result"
    }
   ],
   "source": [
    "def subtracao(x, y):\n",
    "    return x - y\n",
    "\n",
    "reduce(subtracao, [5, 6])"
   ]
  },
  {
   "cell_type": "markdown",
   "metadata": {},
   "source": [
    "### Destaques aprendizado map/reduce/filter:\n",
    "\n",
    "* mais um kit de ferramentas que pode ser utilizado passando uma função dentro de outra\n",
    "* é mais 'sucinto' de escrever do que um for loop\n",
    "* pode ser bastante performático\n",
    "\n",
    "### Parâmetros de funções\n",
    "\n",
    "Quando estudamos funções, aprendemos que elas podem fornecer uma resposta (return) e podem ter parâmetros.\n",
    "* Também vimos que a função poderia retornar exatamente um resultado.\n",
    "* Para os parâmetros: Vimos que o número de argumentos a serem passados era fixo para cada função. Um argumento para cada parâmetro que declaramos na definição da função.\n",
    "\n",
    "Em alguns casos, mais flexibilidade seria útil.\n",
    "\n",
    "### Funções com retorno múltiplo\n",
    "\n",
    "Vejamos um caso simples: uma função que responde os valores máximo e mínimo de uma coleção."
   ]
  },
  {
   "cell_type": "code",
   "execution_count": 1,
   "metadata": {},
   "outputs": [],
   "source": [
    "def min_max(colecao):\n",
    "    menor = min(colecao)\n",
    "    maior = max(colecao)\n",
    "    return menor, maior # retorna uma tupla\n",
    "\n",
    "resposta = min_max([5,8,9,27,3,5,4])"
   ]
  },
  {
   "cell_type": "code",
   "execution_count": 42,
   "metadata": {},
   "outputs": [
    {
     "name": "stdout",
     "output_type": "stream",
     "text": [
      "3 27\n"
     ]
    }
   ],
   "source": [
    "# min = resposta[0]\n",
    "# max = resposta[1]\n",
    "\n",
    "# print(min, max)"
   ]
  },
  {
   "cell_type": "code",
   "execution_count": 3,
   "metadata": {},
   "outputs": [
    {
     "name": "stdout",
     "output_type": "stream",
     "text": [
      "3\n",
      "27\n"
     ]
    }
   ],
   "source": [
    "menor, maior = min_max([5,8,9,27,3,5,4])\n",
    "print(menor)\n",
    "print(maior)"
   ]
  },
  {
   "cell_type": "markdown",
   "metadata": {},
   "source": []
  },
  {
   "cell_type": "markdown",
   "metadata": {},
   "source": [
    "Você pode retornar os valores separados por vírgula. Vamos imprimir o resultado e verificar o que acontece."
   ]
  },
  {
   "cell_type": "code",
   "execution_count": null,
   "metadata": {},
   "outputs": [],
   "source": []
  },
  {
   "cell_type": "code",
   "execution_count": null,
   "metadata": {},
   "outputs": [],
   "source": []
  },
  {
   "cell_type": "code",
   "execution_count": null,
   "metadata": {},
   "outputs": [],
   "source": []
  },
  {
   "cell_type": "markdown",
   "metadata": {},
   "source": [
    "Por que retornar uma tupla?"
   ]
  },
  {
   "cell_type": "code",
   "execution_count": null,
   "metadata": {},
   "outputs": [],
   "source": []
  },
  {
   "cell_type": "code",
   "execution_count": null,
   "metadata": {},
   "outputs": [],
   "source": []
  },
  {
   "cell_type": "code",
   "execution_count": null,
   "metadata": {},
   "outputs": [],
   "source": []
  },
  {
   "cell_type": "markdown",
   "metadata": {},
   "source": [
    "Como podemos ver, conseguimos atribuir uma varíavel para o menor e o maior valor. Mas será que não existe uma forma melhor de fazer isso?"
   ]
  },
  {
   "cell_type": "code",
   "execution_count": null,
   "metadata": {},
   "outputs": [],
   "source": []
  },
  {
   "cell_type": "markdown",
   "metadata": {},
   "source": [
    "Por que é importante lembrarmos/sabermos isso?"
   ]
  },
  {
   "cell_type": "code",
   "execution_count": null,
   "metadata": {},
   "outputs": [],
   "source": [
    "# X_train, X_test, y_train, y_train = train_test_split(X,y)"
   ]
  },
  {
   "cell_type": "markdown",
   "metadata": {},
   "source": [
    "Vamos resumir então:\n",
    "\n",
    "* Quando utilizamos valores separados por vírgula em Python, os valores são agrupados em uma tupla, mesmo que não estejamos utilizando parênteses.\n",
    "* Essa informação é relevante porque podemos separar a tupla em várias variáveis usando a mesma sintaxe:"
   ]
  },
  {
   "cell_type": "code",
   "execution_count": null,
   "metadata": {},
   "outputs": [],
   "source": []
  },
  {
   "cell_type": "markdown",
   "metadata": {},
   "source": [
    "No exemplo acima é mais perceptível a sensação de que a função retornou 2 valores e o programa recebeu esses 2 valores individualmente.\n",
    "\n",
    "Por dentro, tupla. Por fora, retorno múltiplo."
   ]
  },
  {
   "cell_type": "markdown",
   "metadata": {},
   "source": [
    "### Parâmetros com valores padrão\n",
    "\n",
    "Uma primeira forma de trabalhar com a ideia de parâmetros opcionais é atribuir valores padrão para nossos parâmetros. Quando fazemos isso, quando a função for chamada, o parâmetro pode ou não ser passado. Caso ele não seja passado, é adotado o valor padrão.\n",
    "\n",
    "Devemos primeiro colocar os parâmetros \"comuns\" (conhecidos como *argumentos posicionais*) para depois colocar os argumentos com valor padrão. Imagine, por exemplo, uma função que padroniza strings jogando todo seu conteúdo para upper ou lower. Podemos implementá-la da seguinte maneira:"
   ]
  },
  {
   "cell_type": "code",
   "execution_count": 19,
   "metadata": {},
   "outputs": [
    {
     "name": "stdout",
     "output_type": "stream",
     "text": [
      "sem passar o segundo argumento\n",
      "passando segundo argumento true\n",
      "PASSANDO SEGUNDO ARGUMENTO FALSE\n"
     ]
    }
   ],
   "source": [
    "def padroniza_string(texto, lower=True):\n",
    "    if lower:\n",
    "        return texto.lower()\n",
    "    else:\n",
    "        return texto.upper()\n",
    "\n",
    "print(padroniza_string('Sem passar o SEGUNDO argumento'))\n",
    "print(padroniza_string('Passando SEGUNDO argumento True', lower=True))\n",
    "print(padroniza_string('Passando SEGUNDO argumento False', lower=False))"
   ]
  },
  {
   "cell_type": "markdown",
   "metadata": {},
   "source": [
    "### Funções com quantidade variável de argumentos\n",
    "\n",
    "Talvez você já tenha notado que o *print* é uma função. Se não notou, esse é um bom momento para pensar a respeito. Nós sempre usamos com parênteses, nós passamos informações dentro dos parênteses (os dados a serem impressos) e ele faz um monte de coisa automaticamente: converte todos os dados passados para *string*, contatena todas as *strings* com um espaço entre elas e as escreve na tela.\n",
    "\n",
    "Algo que o *print* tem que as nossas funções não tinham é a capacidade de receber uma quantidade variável de parâmetros. Nós podemos passar 0 dados (e, neste caso, ele apenas pulará uma linha), 1 dado, 2 dados, 3 dados... Quantos dados quisermos, separados por vírgula, e ele funcionará para todos esses casos. Se até o momento temos que declarar todos os parâmetros, como fazer para que múltiplos dados possam ser passados?"
   ]
  },
  {
   "cell_type": "code",
   "execution_count": 6,
   "metadata": {},
   "outputs": [
    {
     "name": "stdout",
     "output_type": "stream",
     "text": [
      "minha lista é: [1, 2, 3, 4, 5], e tem 5 elementos. sua média é 3.0\n"
     ]
    }
   ],
   "source": [
    "lista = [1,2,3,4,5]\n",
    "print(f\"minha lista é: {lista}, e tem {len(lista)} elementos. sua média é {sum(lista)/len(lista)}\")"
   ]
  },
  {
   "cell_type": "markdown",
   "metadata": {},
   "source": [
    "#### Agrupando parâmetros\n",
    "A solução é utilizar o operador * que, neste caso, não será uma multiplicação.\n",
    "\n",
    "* Ao colocarmos o * ao lado do nome de um parâmetro na definição da função, estamos dizendo que aquele argumento será uma coleção. Mais especificamente, uma tupla.\n",
    "    * Porém, o usuário não irá passar uma tupla. Ele irá passar quantos argumentos ele quiser (inclusive nenhum se quiser), e o Python automaticamente criará uma tupla com eles.\n",
    "* Já ao colocarmos o * junto de de um argumento da função que iremos chamar, ele irá 'desempacotar' o argumento que passamos.\n",
    "\n",
    "Vamos começar por esse segundo caso"
   ]
  },
  {
   "cell_type": "code",
   "execution_count": 7,
   "metadata": {},
   "outputs": [],
   "source": [
    "tupla_exemplo = (1,2,3,4)"
   ]
  },
  {
   "cell_type": "code",
   "execution_count": 8,
   "metadata": {},
   "outputs": [
    {
     "name": "stdout",
     "output_type": "stream",
     "text": [
      "(1, 2, 3, 4)\n"
     ]
    }
   ],
   "source": [
    "print(tupla_exemplo)"
   ]
  },
  {
   "cell_type": "code",
   "execution_count": 9,
   "metadata": {},
   "outputs": [
    {
     "name": "stdout",
     "output_type": "stream",
     "text": [
      "1 2 3 4\n"
     ]
    }
   ],
   "source": [
    "print(*tupla_exemplo)"
   ]
  },
  {
   "cell_type": "markdown",
   "metadata": {},
   "source": [
    "O operador * e a atribuição de múltiplas variáveis"
   ]
  },
  {
   "cell_type": "code",
   "execution_count": 11,
   "metadata": {},
   "outputs": [
    {
     "data": {
      "text/plain": [
       "[3, 4]"
      ]
     },
     "execution_count": 11,
     "metadata": {},
     "output_type": "execute_result"
    }
   ],
   "source": [
    "lista = [1,2,3,4]\n",
    "a, b, *c = lista\n",
    "c"
   ]
  },
  {
   "cell_type": "code",
   "execution_count": null,
   "metadata": {},
   "outputs": [],
   "source": []
  },
  {
   "cell_type": "code",
   "execution_count": null,
   "metadata": {},
   "outputs": [],
   "source": []
  },
  {
   "cell_type": "markdown",
   "metadata": {},
   "source": [
    "O que aconteceu no código que executamos acima? Desempacotamos utilizando *\n",
    "\n",
    "\n",
    "Agora que aprendemos esses conceitos, vamos criar uma função que tem comportamento de receber argumentos similar ao do *print()*\n",
    "\n",
    "vamos criar uma função de somatório que pode receber uma quantidade arbitrária de números (argumentos)."
   ]
  },
  {
   "cell_type": "code",
   "execution_count": 15,
   "metadata": {},
   "outputs": [
    {
     "name": "stdout",
     "output_type": "stream",
     "text": [
      "(1, 2, 5)\n",
      "<class 'tuple'>\n"
     ]
    },
    {
     "data": {
      "text/plain": [
       "8"
      ]
     },
     "execution_count": 15,
     "metadata": {},
     "output_type": "execute_result"
    }
   ],
   "source": [
    "# *args\n",
    "\n",
    "def somatorio(*args):\n",
    "    print(args) # aqui não coloca *\n",
    "    print(type(args))\n",
    "    soma = 0\n",
    "    for i in args:\n",
    "        soma += i\n",
    "\n",
    "    return soma\n",
    "\n",
    "\n",
    "somatorio(1,2,5) # empacota em uma tupla"
   ]
  },
  {
   "cell_type": "code",
   "execution_count": null,
   "metadata": {},
   "outputs": [],
   "source": []
  },
  {
   "cell_type": "markdown",
   "metadata": {},
   "source": [
    "#### Expandindo uma coleção\n",
    "\n",
    "O exemplo acima funciona muito bem quando o usuário da função possui vários dados avulsos, pois ele os agrupa em uma coleção. Mas o que acontece quando os dados já estão agrupados?"
   ]
  },
  {
   "cell_type": "code",
   "execution_count": 28,
   "metadata": {},
   "outputs": [
    {
     "name": "stdout",
     "output_type": "stream",
     "text": [
      "(1, 2, 5, 7, 8, 9)\n",
      "<class 'tuple'>\n"
     ]
    },
    {
     "data": {
      "text/plain": [
       "32"
      ]
     },
     "execution_count": 28,
     "metadata": {},
     "output_type": "execute_result"
    }
   ],
   "source": [
    "def somatorio(*args):\n",
    "    print(args) # aqui não coloca *\n",
    "    print(type(args))\n",
    "    soma = 0\n",
    "    for i in args:\n",
    "        soma += i\n",
    "\n",
    "    return soma\n",
    "\n",
    "lista = [1,2,5,7,8,9]\n",
    "somatorio(*lista) # desempacota a lista e passa como argumento para o for"
   ]
  },
  {
   "cell_type": "code",
   "execution_count": 26,
   "metadata": {},
   "outputs": [
    {
     "name": "stdout",
     "output_type": "stream",
     "text": [
      "({'nome': 'raul', 'idade': 30},)\n",
      "{'nome': 'raul', 'idade': 30}\n",
      "('nome', 'idade')\n",
      "nome\n",
      "idade\n",
      "('raul', 30)\n",
      "raul\n",
      "30\n"
     ]
    }
   ],
   "source": [
    "def concatenar(*texto):\n",
    "    print(texto)\n",
    "    for t in texto:\n",
    "        print(t)\n",
    "    # return str(a) + \":\"\n",
    "\n",
    "dicionario = {\"nome\": \"raul\", \"idade\": 30}\n",
    "concatenar(dicionario)\n",
    "concatenar(*dicionario)\n",
    "concatenar(*dicionario.values())"
   ]
  },
  {
   "cell_type": "markdown",
   "metadata": {},
   "source": [
    "Note que o programa dará erro, pois como os print dentro da função ilustram, foi criada uma tupla, e na primeira posição da tupla foi armazenada a lista. Isso não funciona com a lógica que projetamos.\n",
    "\n",
    "Para casos que quisermos utilizar dessa maneira, utilizaremos o operador * na chamada da função também.\n",
    "* Na definição da função, o operador * indica que devemos agrupar itens (argumentos) avulsos em uma coleção.\n",
    "\n",
    "* Na chamada, ele indica que uma coleção deve ser expandida em itens avulsos."
   ]
  },
  {
   "cell_type": "code",
   "execution_count": null,
   "metadata": {},
   "outputs": [],
   "source": []
  },
  {
   "cell_type": "markdown",
   "metadata": {},
   "source": [
    "No programa acima, a lista é expandida em 5 valores avulsos, e em seguida a função agrupa os 5 itens em uma tupla chamada \"numeros\"."
   ]
  },
  {
   "cell_type": "code",
   "execution_count": 20,
   "metadata": {},
   "outputs": [
    {
     "data": {
      "text/plain": [
       "6"
      ]
     },
     "execution_count": 20,
     "metadata": {},
     "output_type": "execute_result"
    }
   ],
   "source": [
    "# só lembrando que existem várias formas de realizar a soma.\n",
    "# por exemplo essa aqui eu somo direto\n",
    "def colecao_somatorio(numeros):\n",
    "  return sum(numeros)\n",
    "\n",
    "\n",
    "colecao_somatorio([1,2,3])"
   ]
  },
  {
   "cell_type": "markdown",
   "metadata": {},
   "source": [
    "E vale mencionar/reforçar também que os parâmetros com * terão seus argumentos opicionais, podendo ou não serem preenchidos.\n",
    "\n",
    "Vamos criar uma função de multiplicação como exemplo."
   ]
  },
  {
   "cell_type": "code",
   "execution_count": null,
   "metadata": {},
   "outputs": [],
   "source": []
  },
  {
   "cell_type": "markdown",
   "metadata": {},
   "source": [
    "### Outros parâmetros opcionais\n",
    "\n",
    "Outra possibilidade são funções com parâmetros opcionais. Note que isso é diferente de termos quantidade variável de argumentos para um mesmo parâmetro.\n",
    "\n",
    "No caso da quantidade variável de argumentos para um mesmo parâmetro, normalmente são diversos argumentos com a mesma utilidade (números a serem somados, valores a serem exibidos etc).\n",
    "\n",
    "Já estudamos uma forma de parâmetros opcionais utilizando valores padrão.\n",
    "\n",
    "Mas para funções com uma grande quantidade de parâmetros e/ou de variação na utilização do parâmetros opcionais, existe outra forma utilizando dicionários, apelidada como ```**kwargs```."
   ]
  },
  {
   "cell_type": "markdown",
   "metadata": {},
   "source": [
    "### Criando **kwargs\n",
    "\n",
    "Para criar parâmetros opcionais, usaremos **, e os parâmetros passados serão agrupados em um dicionário: o nome do parâmetro será a chave do dicionário, e o valor será... O valor desse dicionário."
   ]
  },
  {
   "cell_type": "code",
   "execution_count": 29,
   "metadata": {},
   "outputs": [
    {
     "name": "stdout",
     "output_type": "stream",
     "text": [
      "{'nome': 'raul', 'qtd_filhos': 1}\n",
      "<class 'dict'>\n"
     ]
    }
   ],
   "source": [
    "def teste(**parametro):\n",
    "    print(parametro)\n",
    "    print(type(parametro))\n",
    "\n",
    "teste(nome = 'raul', qtd_filhos = 1)"
   ]
  },
  {
   "cell_type": "code",
   "execution_count": 39,
   "metadata": {},
   "outputs": [
    {
     "name": "stdout",
     "output_type": "stream",
     "text": [
      "{'nome': 'raul', 'cpf': '06974654979'}\n",
      "informações básicas encontradas\n",
      "nome cadastrado: raul\n",
      "O CPF do usuário é 06974654979\n"
     ]
    }
   ],
   "source": [
    "def cadastro(**usuario): # pode receber diferentes informações, como CPF, nome, etc., mas não necessáriamente vai receber\n",
    "    print(usuario)\n",
    "    if not ('nome' in usuario) and not ('cpf' in usuario):\n",
    "        print('Nenhum dado básico do usuário foi encontrado.')\n",
    "    else:\n",
    "        print('informações básicas encontradas')\n",
    "        if 'nome' in usuario:\n",
    "            print(f'nome cadastrado: {usuario['nome']}')\n",
    "        if 'cpf' in usuario:\n",
    "            print(f'O CPF do usuário é {usuario['cpf']}')\n",
    "\n",
    "cadastro(nome = 'raul', cpf = '06974654979')"
   ]
  },
  {
   "cell_type": "code",
   "execution_count": null,
   "metadata": {},
   "outputs": [],
   "source": []
  },
  {
   "cell_type": "code",
   "execution_count": null,
   "metadata": {},
   "outputs": [],
   "source": []
  },
  {
   "cell_type": "markdown",
   "metadata": {},
   "source": [
    "E se eu adicionar um argumento que eu não mapeei nas condições da minha função?"
   ]
  },
  {
   "cell_type": "code",
   "execution_count": 40,
   "metadata": {},
   "outputs": [
    {
     "name": "stdout",
     "output_type": "stream",
     "text": [
      "{'idade': 50}\n",
      "Nenhum dado básico do usuário foi encontrado.\n"
     ]
    }
   ],
   "source": [
    "cadastro(idade = 50)"
   ]
  },
  {
   "cell_type": "markdown",
   "metadata": {},
   "source": [
    "### Expandindo um dicionário\n",
    "\n",
    "Analogamente ao caso dos argumentos múltiplos, é possível que o usuário da função ja tenha os dados organizados em um dicionário. Neste caso, basta usar ** na chamada da função para expandir o dicionário em vários parâmetros opcionais."
   ]
  },
  {
   "cell_type": "code",
   "execution_count": 43,
   "metadata": {},
   "outputs": [
    {
     "ename": "TypeError",
     "evalue": "cadastro() takes 0 positional arguments but 1 was given",
     "output_type": "error",
     "traceback": [
      "\u001b[1;31m---------------------------------------------------------------------------\u001b[0m",
      "\u001b[1;31mTypeError\u001b[0m                                 Traceback (most recent call last)",
      "Cell \u001b[1;32mIn[43], line 3\u001b[0m\n\u001b[0;32m      1\u001b[0m maria \u001b[38;5;241m=\u001b[39m {\u001b[38;5;124m'\u001b[39m\u001b[38;5;124mnome\u001b[39m\u001b[38;5;124m'\u001b[39m: \u001b[38;5;124m'\u001b[39m\u001b[38;5;124mmaria\u001b[39m\u001b[38;5;124m'\u001b[39m, \u001b[38;5;124m'\u001b[39m\u001b[38;5;124midade\u001b[39m\u001b[38;5;124m'\u001b[39m: \u001b[38;5;241m30\u001b[39m, \u001b[38;5;124m'\u001b[39m\u001b[38;5;124mcpf\u001b[39m\u001b[38;5;124m'\u001b[39m: \u001b[38;5;124m'\u001b[39m\u001b[38;5;124m06987456325\u001b[39m\u001b[38;5;124m'\u001b[39m}\n\u001b[1;32m----> 3\u001b[0m \u001b[43mcadastro\u001b[49m\u001b[43m(\u001b[49m\u001b[43mmaria\u001b[49m\u001b[43m)\u001b[49m\n",
      "\u001b[1;31mTypeError\u001b[0m: cadastro() takes 0 positional arguments but 1 was given"
     ]
    }
   ],
   "source": [
    "maria = {'nome': 'maria', 'idade': 30, 'cpf': '06987456325'}\n",
    "\n",
    "cadastro(maria)"
   ]
  },
  {
   "cell_type": "code",
   "execution_count": 44,
   "metadata": {},
   "outputs": [
    {
     "name": "stdout",
     "output_type": "stream",
     "text": [
      "{'nome': 'maria', 'idade': 30, 'cpf': '06987456325'}\n",
      "informações básicas encontradas\n",
      "nome cadastrado: maria\n",
      "O CPF do usuário é 06987456325\n"
     ]
    }
   ],
   "source": [
    "maria = {'nome': 'maria', 'idade': 30, 'cpf': '06987456325'}\n",
    "\n",
    "cadastro(**maria)"
   ]
  },
  {
   "cell_type": "markdown",
   "metadata": {},
   "source": [
    "### Como todos os parâmetros ficam ordenados dentro da criação da função?"
   ]
  },
  {
   "cell_type": "markdown",
   "metadata": {},
   "source": [
    "posicionais obrigatorios\n",
    "\n",
    "padrões\n",
    "\n",
    "*args\n",
    "\n",
    "**kwargs"
   ]
  },
  {
   "cell_type": "code",
   "execution_count": 46,
   "metadata": {},
   "outputs": [
    {
     "data": {
      "text/plain": [
       "('pos_obrig', (1, 2, 3), False, {'nome': 'joão', 'idade': 30})"
      ]
     },
     "execution_count": 46,
     "metadata": {},
     "output_type": "execute_result"
    }
   ],
   "source": [
    "def funcao_com_muitos_parametros(posicional_obrigatorio, *args_tupla, parametros_padroes=True, **kwargs_dict):\n",
    "    return posicional_obrigatorio, args_tupla, parametros_padroes, kwargs_dict\n",
    "\n",
    "funcao_com_muitos_parametros('pos_obrig', 1,2,3, parametros_padroes=False, nome = 'joão', idade = 30)\n"
   ]
  },
  {
   "cell_type": "code",
   "execution_count": null,
   "metadata": {},
   "outputs": [],
   "source": [
    "funcao_com_muitos_parametros()"
   ]
  },
  {
   "cell_type": "markdown",
   "metadata": {},
   "source": [
    "## Exercícios"
   ]
  },
  {
   "cell_type": "markdown",
   "metadata": {},
   "source": [
    "1. Faça um código que faça a subtracao entre elementos de diferentes listas e eleve esse resultado ao quadrado .\n",
    "\n",
    "exemplo:\n",
    "\n",
    "<center>\n",
    "\n",
    "|listas  | 0 | 1 | 2 |\n",
    "--- | --- | --- | --- |\n",
    "lista1| 3 | 5 | 15\n",
    "lista2 | 4 | 4 | 10\n",
    "diferença | -1 | 1 | 5\n",
    "quadrado da diferença | 1 | 1 | 25\n",
    "\n",
    "</center>\n",
    "\n",
    "- sugestão: utilize a função map()"
   ]
  },
  {
   "cell_type": "code",
   "execution_count": 56,
   "metadata": {},
   "outputs": [
    {
     "name": "stdout",
     "output_type": "stream",
     "text": [
      "Diferença ao quadrado: [1, 1, 25]\n"
     ]
    }
   ],
   "source": [
    "lista1 = [3, 5, 15]\n",
    "lista2 = [4, 4, 10]\n",
    "\n",
    "def subtracao_ao_quadrado(x, y):\n",
    "    return (x - y) ** 2\n",
    "\n",
    "resultado = list(map(subtracao_ao_quadrado, lista1, lista2))\n",
    "\n",
    "print(\"Diferença ao quadrado:\", resultado)\n"
   ]
  },
  {
   "cell_type": "markdown",
   "metadata": {},
   "source": [
    "2. Escreva um código que recebe uma tupla ou lista e retorna os elementos que têm uma vogal"
   ]
  },
  {
   "cell_type": "code",
   "execution_count": 47,
   "metadata": {},
   "outputs": [
    {
     "name": "stdout",
     "output_type": "stream",
     "text": [
      "Elementos com vogais: ['casa', 'python', 'hello']\n"
     ]
    }
   ],
   "source": [
    "def contem_vogal(elemento):\n",
    "    vogais = \"aeiouAEIOU\"\n",
    "    for caractere in elemento:\n",
    "        if caractere in vogais:\n",
    "            return True\n",
    "    return False\n",
    "\n",
    "def elementos_com_vogais(colecao):\n",
    "    return list(filter(contem_vogal, colecao))\n",
    "\n",
    "colecao = ['casa', 'python', 'sky', 'hello']\n",
    "resultado = elementos_com_vogais(colecao)\n",
    "\n",
    "print(\"Elementos com vogais:\", resultado)\n"
   ]
  },
  {
   "cell_type": "markdown",
   "metadata": {},
   "source": [
    "3. Faça um código que retorne a multiplicação de todos os elementos da lista.\n",
    "\n",
    "* sugestão: utilize a função reduce()"
   ]
  },
  {
   "cell_type": "code",
   "execution_count": 48,
   "metadata": {},
   "outputs": [
    {
     "name": "stdout",
     "output_type": "stream",
     "text": [
      "Multiplicação de todos os elementos da lista: 210\n"
     ]
    }
   ],
   "source": [
    "from functools import reduce\n",
    "\n",
    "def multiplicar(x, y):\n",
    "    return x * y\n",
    "\n",
    "lista = [2, 3, 5, 7]\n",
    "\n",
    "resultado = reduce(multiplicar, lista)\n",
    "\n",
    "print(\"Multiplicação de todos os elementos da lista:\", resultado)\n"
   ]
  },
  {
   "cell_type": "markdown",
   "metadata": {},
   "source": [
    "4. Faça uma função que sempre some 3 valores e retorne o total de sua soma."
   ]
  },
  {
   "cell_type": "code",
   "execution_count": 50,
   "metadata": {},
   "outputs": [
    {
     "name": "stdout",
     "output_type": "stream",
     "text": [
      "Soma dos três valores: 30\n"
     ]
    }
   ],
   "source": [
    "def soma_tres_valores(a, b, c):\n",
    "    return a + b + c\n",
    "\n",
    "resultado = soma_tres_valores(5, 10, 15)\n",
    "\n",
    "print(\"Soma dos três valores:\", resultado)\n"
   ]
  },
  {
   "cell_type": "markdown",
   "metadata": {},
   "source": [
    "5. Agora faça uma função que pode receber múltiplos argumentos e retorne o total de sua soma."
   ]
  },
  {
   "cell_type": "code",
   "execution_count": 49,
   "metadata": {},
   "outputs": [
    {
     "name": "stdout",
     "output_type": "stream",
     "text": [
      "Soma dos valores: 50\n"
     ]
    }
   ],
   "source": [
    "def soma_multiplos_valores(*args):\n",
    "    return sum(args)\n",
    "\n",
    "resultado = soma_multiplos_valores(5, 10, 15, 20)\n",
    "\n",
    "print(\"Soma dos valores:\", resultado)\n"
   ]
  },
  {
   "cell_type": "markdown",
   "metadata": {},
   "source": [
    "6. Faça uma função que recebe uma quantidade arbitrária de argumentos de qualquer tipo e retorna uma string contendo todas as suas representações separadas por espaço."
   ]
  },
  {
   "cell_type": "code",
   "execution_count": 4,
   "metadata": {},
   "outputs": [
    {
     "name": "stdout",
     "output_type": "stream",
     "text": [
      "Resultado: 10 python 3.14 True [1, 2, 3]\n"
     ]
    }
   ],
   "source": [
    "def juntar_como_string(*args):\n",
    "    return ' '.join(str(arg) for arg in args)\n",
    "\n",
    "resultado = juntar_como_string(10, 'python', 3.14, True, [1, 2, 3])\n",
    "\n",
    "print(\"Resultado:\", resultado)"
   ]
  },
  {
   "cell_type": "markdown",
   "metadata": {},
   "source": [
    "7. Modifique a função anterior para incluir um parâmetro opcional indicando o caractere de separação entre as variáveis. Seu valor padrão será um espaço em branco."
   ]
  },
  {
   "cell_type": "code",
   "execution_count": 6,
   "metadata": {},
   "outputs": [
    {
     "name": "stdout",
     "output_type": "stream",
     "text": [
      "Resultado com espaço: 10 python 3.14 True [1, 2, 3]\n",
      "Resultado com vírgula: 10,python,3.14,True,[1, 2, 3]\n"
     ]
    }
   ],
   "source": [
    "def juntar_como_string(*args, separador=' '):\n",
    "    return separador.join(str(arg) for arg in args)\n",
    "\n",
    "teste_1 = juntar_como_string(10, 'python', 3.14, True, [1, 2, 3])\n",
    "\n",
    "teste_2 = juntar_como_string(10, 'python', 3.14, True, [1, 2, 3],separador=',')\n",
    "\n",
    "print(\"Resultado com espaço:\", teste_1)\n",
    "print(\"Resultado com vírgula:\", teste_2)"
   ]
  },
  {
   "cell_type": "markdown",
   "metadata": {},
   "source": [
    "8. Faça uma função que diga \"Olá usuário\" se nada for passado como argumento, Caso contrário a função dirá Olá e o nome da pessoa."
   ]
  },
  {
   "cell_type": "code",
   "execution_count": 7,
   "metadata": {},
   "outputs": [
    {
     "name": "stdout",
     "output_type": "stream",
     "text": [
      "Olá usuário\n",
      "Olá Maria\n"
     ]
    }
   ],
   "source": [
    "def cumprimentar(nome=\"usuário\"):\n",
    "    print(f\"Olá {nome}\")\n",
    "\n",
    "cumprimentar()\n",
    "\n",
    "cumprimentar(\"Maria\")"
   ]
  },
  {
   "cell_type": "markdown",
   "metadata": {},
   "source": [
    "9. criar uma função que consiga registrar dados sobre animais.\n",
    "- tenha um parâmetro obrigatorio para identificar o animal (ex: gato, cachorro, etc.)\n",
    "- tenha um parâmetro país com padrão Brasil\n",
    "- aceite através de múltiplos parâmetros características desse animal (ex:quantidade_asas, raca, etc)\n",
    "- retornar um texto que contenha o valores que foram inputadas em animal, país e:\n",
    "    - caso tenha alguma outras características extras: também retorna no texto a quantidade de características (parâmetros) que foram registrados e seus nomes.\n",
    "    - caso não tenha característica extra mencionar mencionar no texto de retorno"
   ]
  },
  {
   "cell_type": "code",
   "execution_count": 58,
   "metadata": {},
   "outputs": [
    {
     "name": "stdout",
     "output_type": "stream",
     "text": [
      "Animal: Cachorro\n",
      "País: Brasil\n",
      "Quantidade de características registradas: 3\n",
      "Nomes das características: cor, raca, idade\n",
      "cor: Marrom\n",
      "raca: Labrador\n",
      "idade: 5\n",
      "\n",
      "Animal: Gato\n",
      "País: Argentina\n",
      "Nenhuma característica foi registrada.\n",
      "\n"
     ]
    }
   ],
   "source": [
    "def registrar_animal(animal, pais='Brasil', **caracteristicas):\n",
    "    mensagem = f\"Animal: {animal}\\nPaís: {pais}\\n\"\n",
    "\n",
    "    if caracteristicas:\n",
    "        quantidade_caracteristicas = len(caracteristicas)\n",
    "        nomes_caracteristicas = ', '.join(caracteristicas.keys())\n",
    "        mensagem += f\"Quantidade de características registradas: {quantidade_caracteristicas}\\n\"\n",
    "        mensagem += f\"Nomes das características: {nomes_caracteristicas}\\n\"\n",
    "        \n",
    "        for nome, valor in caracteristicas.items():\n",
    "            mensagem += f\"{nome}: {valor}\\n\"\n",
    "    else:\n",
    "        mensagem += \"Nenhuma característica foi registrada.\\n\"\n",
    "\n",
    "    return mensagem\n",
    "\n",
    "resultado_1 = registrar_animal('Cachorro', cor='Marrom', raca='Labrador', idade=5)\n",
    "resultado_2 = registrar_animal('Gato', pais='Argentina')\n",
    "\n",
    "print(resultado_1)\n",
    "print(resultado_2)"
   ]
  }
 ],
 "metadata": {
  "kernelspec": {
   "display_name": "Python 3",
   "language": "python",
   "name": "python3"
  },
  "language_info": {
   "codemirror_mode": {
    "name": "ipython",
    "version": 3
   },
   "file_extension": ".py",
   "mimetype": "text/x-python",
   "name": "python",
   "nbconvert_exporter": "python",
   "pygments_lexer": "ipython3",
   "version": "3.12.2"
  }
 },
 "nbformat": 4,
 "nbformat_minor": 2
}
