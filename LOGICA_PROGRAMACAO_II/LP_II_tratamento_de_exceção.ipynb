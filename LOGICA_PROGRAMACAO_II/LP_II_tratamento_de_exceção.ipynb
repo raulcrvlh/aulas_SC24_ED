{
  "cells": [
    {
      "cell_type": "markdown",
      "id": "580a1dd1",
      "metadata": {
        "id": "580a1dd1"
      },
      "source": [
        "# Tratamento de Exceção\n",
        "\n",
        "Você já deve ter notado que certas operações podem dar errado em certas circunstâncias, e esses erros provocam o tratamento do nosso programa.\n",
        "\n",
        "Por exemplo, quando solicitamos que o usuário digite um número inteiro e ele digita qualquer outra coisa. O erro ocorre especificamente na conversão da entrada para ```int```. Veja o exemplo abaixo:"
      ]
    },
    {
      "cell_type": "code",
      "execution_count": 1,
      "id": "8b7b1f99",
      "metadata": {
        "colab": {
          "base_uri": "https://localhost:8080/",
          "height": 183
        },
        "id": "8b7b1f99",
        "outputId": "5abf6672-d46e-4b3e-803c-ffb48611dc56"
      },
      "outputs": [
        {
          "ename": "ValueError",
          "evalue": "invalid literal for int() with base 10: 'olá'",
          "output_type": "error",
          "traceback": [
            "\u001b[1;31m---------------------------------------------------------------------------\u001b[0m",
            "\u001b[1;31mValueError\u001b[0m                                Traceback (most recent call last)",
            "Cell \u001b[1;32mIn[1], line 2\u001b[0m\n\u001b[0;32m      1\u001b[0m entrada \u001b[38;5;241m=\u001b[39m \u001b[38;5;124m'\u001b[39m\u001b[38;5;124molá\u001b[39m\u001b[38;5;124m'\u001b[39m\n\u001b[1;32m----> 2\u001b[0m inteiro \u001b[38;5;241m=\u001b[39m \u001b[38;5;28;43mint\u001b[39;49m\u001b[43m(\u001b[49m\u001b[43mentrada\u001b[49m\u001b[43m)\u001b[49m\n",
            "\u001b[1;31mValueError\u001b[0m: invalid literal for int() with base 10: 'olá'"
          ]
        }
      ],
      "source": [
        "entrada = 'olá'\n",
        "inteiro = int(entrada)"
      ]
    },
    {
      "cell_type": "markdown",
      "id": "ae0b071f",
      "metadata": {
        "id": "ae0b071f"
      },
      "source": [
        "Note que o erro possui um nome, ```ValueError```, e uma mensagem explicando o que ocorreu.\n",
        "\n",
        "Vejamos outro exemplo bastante famoso: a divisão por zero."
      ]
    },
    {
      "cell_type": "code",
      "execution_count": null,
      "id": "68d6128f",
      "metadata": {
        "colab": {
          "base_uri": "https://localhost:8080/",
          "height": 166
        },
        "id": "68d6128f",
        "outputId": "7436fca6-dd5f-4671-e5a6-05280e7955f4"
      },
      "outputs": [
        {
          "ename": "ZeroDivisionError",
          "evalue": "division by zero",
          "output_type": "error",
          "traceback": [
            "\u001b[1;31m---------------------------------------------------------------------------\u001b[0m",
            "\u001b[1;31mZeroDivisionError\u001b[0m                         Traceback (most recent call last)",
            "Cell \u001b[1;32mIn[16], line 1\u001b[0m\n\u001b[1;32m----> 1\u001b[0m x \u001b[38;5;241m=\u001b[39m \u001b[38;5;241;43m1\u001b[39;49m\u001b[38;5;241;43m/\u001b[39;49m\u001b[38;5;241;43m0\u001b[39;49m\n",
            "\u001b[1;31mZeroDivisionError\u001b[0m: division by zero"
          ]
        }
      ],
      "source": [
        "x = 1/0"
      ]
    },
    {
      "cell_type": "markdown",
      "id": "0d23c909",
      "metadata": {
        "id": "0d23c909"
      },
      "source": [
        "Observe a mesma estrutura do erro anterior: temos um nome (```ZeroDivisionError```) e uma mensagem explicando o que ocorreu.\n",
        "\n",
        "Esses erros, que não são erros de lógica nem de sintaxe, são o que chamamos de **exceções**. São pequenos problemas que o programa pode encontrar durante sua execução, como não encontrar um arquivo ou uma função receber um valor de tipo inesperado.\n",
        "\n",
        "Vamos começar aprendendo como lidar com códigos que podem provocar erros, evitando o travamento do programa, e em seguida iremos aprender a criar as nossas próprias exceções para alertar outros programadores sobre problemas que possam ter ocorrido em nossas classes e funções."
      ]
    },
    {
      "cell_type": "markdown",
      "id": "cd4ce0d2",
      "metadata": {
        "id": "cd4ce0d2"
      },
      "source": [
        "## Tratando uma exceção\n",
        "\n",
        "Tratar uma exceção significa que quando surgir um dos erros mencionados, nós iremos assumir responsabilidade sobre ele e iremos providenciar algum código alternativo. Dessa maneira, o Python não irá mais travar o nosso programa, e sim desviar seu fluxo para o código fornecido.\n",
        "\n",
        "O bloco mais básico para lidarmos com exceção é o ```try```/```except```.\n",
        "\n",
        "Dentro do ```try``` vamos colocar o pedaço de código com potencial para dar erro. Estamos pedindo que o Python **tente** executar aquele código, cientes de que pode não dar certo.\n",
        "\n",
        "Dentro do ```except```, colocamos o código que deverá ser executado **somente** se algo de errado ocorrer no ```try```. Vejamos um exemplo:"
      ]
    },
    {
      "cell_type": "code",
      "execution_count": null,
      "id": "9d38b539",
      "metadata": {},
      "outputs": [],
      "source": [
        "# try: tentar\n",
        "# except: exceção"
      ]
    },
    {
      "cell_type": "code",
      "execution_count": null,
      "id": "H7BRNS6VdpTc",
      "metadata": {
        "id": "H7BRNS6VdpTc"
      },
      "outputs": [
        {
          "name": "stdout",
          "output_type": "stream",
          "text": [
            "1 / 3 = 0.3333333333333333\n",
            "1 / 2 = 0.5\n",
            "1 / 1 = 1.0\n",
            "1 / 0 = infinito\n"
          ]
        }
      ],
      "source": [
        "numerador = 1\n",
        "\n",
        "for denominador in range(3, -1, -1):\n",
        "    try:\n",
        "        divisao = numerador / denominador\n",
        "        # tento\n",
        "    except:\n",
        "        divisao = 'infinito'\n",
        "        # se tentei e teve algum erro, executa esse bloco de código\n",
        "\n",
        "    print(f'{numerador} / {denominador} = {divisao}')"
      ]
    },
    {
      "cell_type": "markdown",
      "id": "a16a86af",
      "metadata": {
        "id": "a16a86af"
      },
      "source": [
        "O bloco acima já resolve a grande maioria dos problemas. Mas vamos estudar mais algumas possibilidades para deixar nosso tratamento ainda mais sofisticado e especializado.\n",
        "\n",
        "Você deve ter notado que enfatizamos bastante o fato de exceções poderem ter um nome. Esse nome pode nos ajudar a identificar com sucesso qual dos erros possíveis ocorreu e tratá-lo com sucesso.\n",
        "\n",
        "Vamos considerar a função abaixo:"
      ]
    },
    {
      "cell_type": "code",
      "execution_count": 3,
      "id": "53cd126b",
      "metadata": {
        "id": "53cd126b"
      },
      "outputs": [],
      "source": [
        "def divisao(a, b):\n",
        "    return a/b"
      ]
    },
    {
      "cell_type": "markdown",
      "id": "de1ab200",
      "metadata": {
        "id": "de1ab200"
      },
      "source": [
        "Um erro óbvio que pode ocorrer nessa função seria o ```ZeroDivisionError```, que nós obtemos passando 0 como segundo argumento:"
      ]
    },
    {
      "cell_type": "code",
      "execution_count": 4,
      "id": "42faf78c",
      "metadata": {},
      "outputs": [
        {
          "ename": "ZeroDivisionError",
          "evalue": "division by zero",
          "output_type": "error",
          "traceback": [
            "\u001b[1;31m---------------------------------------------------------------------------\u001b[0m",
            "\u001b[1;31mZeroDivisionError\u001b[0m                         Traceback (most recent call last)",
            "Cell \u001b[1;32mIn[4], line 1\u001b[0m\n\u001b[1;32m----> 1\u001b[0m \u001b[43mdivisao\u001b[49m\u001b[43m(\u001b[49m\u001b[38;5;241;43m1\u001b[39;49m\u001b[43m,\u001b[49m\u001b[43m \u001b[49m\u001b[38;5;241;43m0\u001b[39;49m\u001b[43m)\u001b[49m\n",
            "Cell \u001b[1;32mIn[3], line 2\u001b[0m, in \u001b[0;36mdivisao\u001b[1;34m(a, b)\u001b[0m\n\u001b[0;32m      1\u001b[0m \u001b[38;5;28;01mdef\u001b[39;00m \u001b[38;5;21mdivisao\u001b[39m(a, b):\n\u001b[1;32m----> 2\u001b[0m     \u001b[38;5;28;01mreturn\u001b[39;00m \u001b[43ma\u001b[49m\u001b[38;5;241;43m/\u001b[39;49m\u001b[43mb\u001b[49m\n",
            "\u001b[1;31mZeroDivisionError\u001b[0m: division by zero"
          ]
        }
      ],
      "source": [
        "divisao(1, 0)"
      ]
    },
    {
      "cell_type": "markdown",
      "id": "f96523ba",
      "metadata": {
        "id": "f96523ba"
      },
      "source": [
        "Porém, ele não é o único erro possível. O que acontece se passarmos um parâmetro que não seja numérico? ```TypeError```, pois utilizamos tipos inválidos para o operador ```/```."
      ]
    },
    {
      "cell_type": "code",
      "execution_count": 5,
      "id": "ff9b78f8",
      "metadata": {},
      "outputs": [
        {
          "ename": "TypeError",
          "evalue": "unsupported operand type(s) for /: 'str' and 'int'",
          "output_type": "error",
          "traceback": [
            "\u001b[1;31m---------------------------------------------------------------------------\u001b[0m",
            "\u001b[1;31mTypeError\u001b[0m                                 Traceback (most recent call last)",
            "Cell \u001b[1;32mIn[5], line 1\u001b[0m\n\u001b[1;32m----> 1\u001b[0m \u001b[43mdivisao\u001b[49m\u001b[43m(\u001b[49m\u001b[38;5;124;43m'\u001b[39;49m\u001b[38;5;124;43molá\u001b[39;49m\u001b[38;5;124;43m'\u001b[39;49m\u001b[43m,\u001b[49m\u001b[43m \u001b[49m\u001b[38;5;241;43m1\u001b[39;49m\u001b[43m)\u001b[49m\n",
            "Cell \u001b[1;32mIn[3], line 2\u001b[0m, in \u001b[0;36mdivisao\u001b[1;34m(a, b)\u001b[0m\n\u001b[0;32m      1\u001b[0m \u001b[38;5;28;01mdef\u001b[39;00m \u001b[38;5;21mdivisao\u001b[39m(a, b):\n\u001b[1;32m----> 2\u001b[0m     \u001b[38;5;28;01mreturn\u001b[39;00m \u001b[43ma\u001b[49m\u001b[38;5;241;43m/\u001b[39;49m\u001b[43mb\u001b[49m\n",
            "\u001b[1;31mTypeError\u001b[0m: unsupported operand type(s) for /: 'str' and 'int'"
          ]
        }
      ],
      "source": [
        "divisao('olá', 1)"
      ]
    },
    {
      "cell_type": "markdown",
      "id": "79e8f698",
      "metadata": {
        "id": "79e8f698"
      },
      "source": [
        "Podemos colocar diversos ```except``` após o ```try```, cada um testando um tipo diferente de erro. Um último ```except``` genérico irá pegar todos os casos que não se encaixarem nos específicos:"
      ]
    },
    {
      "cell_type": "code",
      "execution_count": 6,
      "id": "kmXGiLqZd2jf",
      "metadata": {
        "id": "kmXGiLqZd2jf"
      },
      "outputs": [
        {
          "name": "stdout",
          "output_type": "stream",
          "text": [
            "Você está dividindo por zero\n",
            "1/0 = infinito\n",
            "1/2 = 0.5\n",
            "1/3 = 0.3333333333333333\n",
            "você não está colocando um tipo aceito\n",
            "1/a = 1/a\n",
            "1/5 = 0.2\n"
          ]
        }
      ],
      "source": [
        "denominadores = [0,2,3,'a',5]\n",
        "\n",
        "for d in denominadores:\n",
        "    try:\n",
        "        div = divisao(1, d)\n",
        "    except ZeroDivisionError:\n",
        "        print('Você está dividindo por zero')\n",
        "        div = 'infinito'\n",
        "    except TypeError:\n",
        "        print('você não está colocando um tipo aceito')\n",
        "        div = f'1/{d}'\n",
        "    except: # como se fosse um else, caso não seja nenhuma das exceções acima\n",
        "        print('outro tipo de exceção')\n",
        "    \n",
        "    print(f'1/{d} = {div}')"
      ]
    },
    {
      "cell_type": "markdown",
      "id": "f9bf6c51",
      "metadata": {
        "id": "f9bf6c51"
      },
      "source": [
        "## O ```else``` no tratamento de exceção\n",
        "\n",
        "Nosso bom e velho ```else```, tipicamente usado em expressões condicionais acompanhando um ```if```, também pode aparecer em blocos ```try```/```except```. Seu efeito é o oposto do ```except```: enquanto o ```except``` é executado quando algo dá errado, o ```else``` só é executado se absolutamente nada der errado. Por exemplo, poderíamos atualizar nosso exemplo anterior utilizando um ```else```:"
      ]
    },
    {
      "cell_type": "code",
      "execution_count": 7,
      "id": "RrHmV5mfd9ns",
      "metadata": {
        "id": "RrHmV5mfd9ns"
      },
      "outputs": [
        {
          "name": "stdout",
          "output_type": "stream",
          "text": [
            "Você está dividindo por zero\n",
            "nada deu errado 1/2 = 0.5\n",
            "nada deu errado 1/3 = 0.3333333333333333\n",
            "você não está colocando um tipo aceito\n",
            "nada deu errado 1/5 = 0.2\n"
          ]
        }
      ],
      "source": [
        "denominadores = [0,2,3,'a',5]\n",
        "\n",
        "for d in denominadores:\n",
        "    try:\n",
        "        div = divisao(1, d)\n",
        "    except ZeroDivisionError:\n",
        "        print('Você está dividindo por zero')\n",
        "        div = 'infinito'\n",
        "    except TypeError:\n",
        "        print('você não está colocando um tipo aceito')\n",
        "        div = f'1/{d}'\n",
        "    except: # como se fosse um else, caso não seja nenhuma das exceções acima\n",
        "        print('outro tipo de exceção')\n",
        "    else:\n",
        "        print(f'nada deu errado 1/{d} = {div}')\n",
        "    \n",
        "    # print(f'1/{d} = {div}')"
      ]
    },
    {
      "cell_type": "markdown",
      "id": "66c9c40a",
      "metadata": {
        "id": "66c9c40a"
      },
      "source": [
        "Note que no exemplo acima não tem problema estarmos atribuindo valor pra ```div``` apenas no bloco ```try```. Ela só será usada no ```else```, ou seja, só será usada se tudo deu certo.\n",
        "\n",
        "**Nota:** várias linguagens possuem construções equivalentes ao ```try```/```except``` (este último frequentemente vira ```catch```), bem como ao ```finally``` e o ```raise``` (frequentemente ```throw``` em outras linguagens), que serão estudados já já. Mas o ```else``` na construção é bastante atípico e na maioria das linguagens ele realmente só serve para blocos condicionais. Por conta disso, é um pouco mais raro de vê-lo sendo usado nesse contexto."
      ]
    },
    {
      "cell_type": "markdown",
      "id": "97c9bc07",
      "metadata": {
        "id": "97c9bc07"
      },
      "source": [
        "## Limpando a bagunça: ```finally```\n",
        "\n",
        "Muitas vezes um erro pode ocorrer quando já realizamos diversas operações. Dentre essas operações, podemos ter solicitado recursos, como por exemplo abrir um arquivo, estabelecer uma conexão com a internet ou alocar uma grande faixa de memória.\n",
        "\n",
        "O que aconteceria, por exemplo, se um comando como ```return``` aparecesse durante o tratamento desse erro após termos solicitado tantos recursos diferentes? O arquivo ficaria aberto, a conexão ficaria aberta, memória seria desperdiçada etc.\n",
        "\n",
        "O ```finally``` garante um local seguro para colocarmos código de limpeza - ou seja, devolver recursos que não serão mais utilizados: fechar arquivos, fechar conexões com servidor etc.\n",
        "\n",
        "Ele **sempre** será executado após um bloco ```try```/```except```, **mesmo que haja um return no no bloco `try` ou `except`**.\n",
        "\n",
        "Veja o exemplo abaixo para entender o que queremos dizer:"
      ]
    },
    {
      "cell_type": "code",
      "execution_count": 8,
      "id": "K3hdGkFked8M",
      "metadata": {
        "id": "K3hdGkFked8M"
      },
      "outputs": [
        {
          "name": "stdout",
          "output_type": "stream",
          "text": [
            "entrou no try\n",
            "agora só falta dar o return do try\n",
            "retorno do try: 0.5\n",
            "entrou no finally\n"
          ]
        }
      ],
      "source": [
        "def teste(den):\n",
        "    try:\n",
        "        print('entrou no try')\n",
        "        x = 1/den\n",
        "        print('agora só falta dar o return do try')\n",
        "        return print(f'retorno do try: {x}')\n",
        "    except:\n",
        "        print('entrou no except')\n",
        "        print('agora falta dar o return do except')\n",
        "        return print(f'retorno do except: infinito')\n",
        "    finally:\n",
        "        print('entrou no finally')\n",
        "\n",
        "teste(2)"
      ]
    },
    {
      "cell_type": "code",
      "execution_count": 9,
      "id": "77ba2232",
      "metadata": {},
      "outputs": [
        {
          "name": "stdout",
          "output_type": "stream",
          "text": [
            "entrou no try\n",
            "entrou no except\n",
            "agora falta dar o return do except\n",
            "retorno do except: infinito\n",
            "entrou no finally\n"
          ]
        }
      ],
      "source": [
        "teste(0)"
      ]
    },
    {
      "cell_type": "markdown",
      "id": "fbc150db",
      "metadata": {
        "id": "fbc150db"
      },
      "source": [
        "Note que o conteúdo do bloco ```finally``` foi executado em ambas as chamadas, mesmo havendo um ```return``` dentro do ```try``` e outro dentro do ```except```. O Python é obrigado a executar o conteúdo de ```finally```.\n",
        "\n",
        "Vejamos um exemplo mais completo: um bloco ```try```/```except``` tentará criar um arquivo. Dentro do ```try```, teremos um bloco ```try```/```except```/```finally```. O ```try``` tentará escrever algumas operações matemáticas no arquivo, o ```except``` exibirá uma mensagem caso uma operação seja inválida, e o ```finally``` garantirá que o arquivo será fechado **independentemente de um erro ter ou não ocorrido**."
      ]
    },
    {
      "cell_type": "code",
      "execution_count": 10,
      "id": "GFLmKUXxekjs",
      "metadata": {
        "id": "GFLmKUXxekjs"
      },
      "outputs": [
        {
          "name": "stdout",
          "output_type": "stream",
          "text": [
            "O número 1.0 foi escrito no arquivo.\n",
            "Fechando o arquivo teste1.txt\n",
            "--------------------\n",
            "Divisão por zero, não escrevemos no arquivo.\n",
            "Fechando o arquivo teste2.txt\n"
          ]
        }
      ],
      "source": [
        "def escreve_arquivo(nome_do_arquivo, denominador):\n",
        "    try:\n",
        "        arq = open(nome_do_arquivo, 'w')\n",
        "        for x in [1]:\n",
        "          try:\n",
        "              div = 1/denominador\n",
        "              arq.write(str(div))\n",
        "              return print(f'O número {div} foi escrito no arquivo.')\n",
        "\n",
        "          except ZeroDivisionError:\n",
        "              return print(f'Divisão por zero, não escrevemos no arquivo.')\n",
        "\n",
        "          except TypeError:\n",
        "              return print('Tipo inválido, não escreveremos no arquivo.')\n",
        "\n",
        "          except:\n",
        "              return print('Erro desconhecido, não escreveremos no arquivo.')\n",
        "\n",
        "          finally:\n",
        "              print(f'Fechando o arquivo {nome_do_arquivo}')\n",
        "              arq.close() # o arquivo SEMPRE será fechado, mesmo que ocorra erro!\n",
        "\n",
        "\n",
        "    except:\n",
        "        return print('Não foi possível abrir o arquivo')\n",
        "\n",
        "\n",
        "escreve_arquivo('teste1.txt', 1)\n",
        "print('-'*20)\n",
        "escreve_arquivo('teste2.txt', 0)"
      ]
    },
    {
      "cell_type": "markdown",
      "id": "095f726d",
      "metadata": {
        "id": "095f726d"
      },
      "source": [
        "## Levantando nossas próprias exceções\n",
        "\n",
        "Quando estamos criando nossos próprios módulos, classes ou funções, muitas vezes vamos nos deparar com situações inválidas. Imprimir uma mensagem de erro não é uma boa ideia, pois o programa pode estar rodando em um servidor, pode ter uma interface gráfica etc.\n",
        "\n",
        "Logo, o ideal seria lançarmos exceções para sinalizar essas situações. Desta forma, se elas forem ignoradas, o programa irá parar, sinalizando para o programador que existe alguma situação que deveria ser tratada. Adicionalmente, podemos criar nossa própria mensagem de erro, sinalizando para o programador que ele deveria fazer algo a respeito.\n",
        "\n",
        "Podemos utilizar a palavra ```raise``` seguida de ```Exception()```, passando entre parênteses a nossa mensagem personalizada de erro."
      ]
    },
    {
      "cell_type": "code",
      "execution_count": 11,
      "id": "pprkQMdifJVX",
      "metadata": {
        "id": "pprkQMdifJVX"
      },
      "outputs": [
        {
          "ename": "Exception",
          "evalue": "Salário inválido! Salários devem ser positivos!",
          "output_type": "error",
          "traceback": [
            "\u001b[1;31m---------------------------------------------------------------------------\u001b[0m",
            "\u001b[1;31mException\u001b[0m                                 Traceback (most recent call last)",
            "Cell \u001b[1;32mIn[11], line 10\u001b[0m\n\u001b[0;32m      7\u001b[0m     salarios\u001b[38;5;241m.\u001b[39mappend(salario)\n\u001b[0;32m      9\u001b[0m cadastrar_salario(\u001b[38;5;241m10\u001b[39m)\n\u001b[1;32m---> 10\u001b[0m \u001b[43mcadastrar_salario\u001b[49m\u001b[43m(\u001b[49m\u001b[38;5;241;43m0\u001b[39;49m\u001b[43m)\u001b[49m\n",
            "Cell \u001b[1;32mIn[11], line 5\u001b[0m, in \u001b[0;36mcadastrar_salario\u001b[1;34m(salario)\u001b[0m\n\u001b[0;32m      3\u001b[0m \u001b[38;5;28;01mdef\u001b[39;00m \u001b[38;5;21mcadastrar_salario\u001b[39m(salario):\n\u001b[0;32m      4\u001b[0m     \u001b[38;5;28;01mif\u001b[39;00m salario \u001b[38;5;241m<\u001b[39m\u001b[38;5;241m=\u001b[39m \u001b[38;5;241m0\u001b[39m:\n\u001b[1;32m----> 5\u001b[0m         \u001b[38;5;28;01mraise\u001b[39;00m \u001b[38;5;167;01mException\u001b[39;00m(\u001b[38;5;124m'\u001b[39m\u001b[38;5;124mSalário inválido! Salários devem ser positivos!\u001b[39m\u001b[38;5;124m'\u001b[39m)\n\u001b[0;32m      7\u001b[0m     salarios\u001b[38;5;241m.\u001b[39mappend(salario)\n",
            "\u001b[1;31mException\u001b[0m: Salário inválido! Salários devem ser positivos!"
          ]
        }
      ],
      "source": [
        "salarios = []\n",
        "\n",
        "def cadastrar_salario(salario):\n",
        "    if salario <= 0:\n",
        "        raise Exception('Salário inválido! Salários devem ser positivos!')\n",
        "\n",
        "    salarios.append(salario)\n",
        "\n",
        "cadastrar_salario(10)\n",
        "cadastrar_salario(0)\n"
      ]
    },
    {
      "cell_type": "code",
      "execution_count": 12,
      "id": "sfz5ULihf6oA",
      "metadata": {
        "id": "sfz5ULihf6oA"
      },
      "outputs": [
        {
          "name": "stdout",
          "output_type": "stream",
          "text": [
            "[10]\n"
          ]
        }
      ],
      "source": [
        "print(salarios)"
      ]
    },
    {
      "cell_type": "markdown",
      "id": "65dcb343",
      "metadata": {
        "id": "65dcb343"
      },
      "source": [
        "Note que na primeira chamada, onde não ocorreu exceção, o salário foi cadastrado na lista (observe o print acima). Já na segunda chamada, nossa função lançou a exceção e parou sua execução.\n",
        "\n",
        "Idealmente, quem pretende utilizar a função deveria fazê-lo agora utilizando ```try```, para manter o programa funcionando e tratar adequadamente o problema."
      ]
    },
    {
      "cell_type": "code",
      "execution_count": 13,
      "id": "OxMFQXEDgLja",
      "metadata": {
        "id": "OxMFQXEDgLja"
      },
      "outputs": [
        {
          "name": "stdout",
          "output_type": "stream",
          "text": [
            "Opa, salário inválido!\n",
            "[5.0, 2.0]\n"
          ]
        }
      ],
      "source": [
        "salarios = []\n",
        "\n",
        "def cadastrar_salario(salario):\n",
        "    if salario <= 0:\n",
        "        raise Exception('Salário inválido! Salários devem ser positivos!')\n",
        "\n",
        "    salarios.append(salario)\n",
        "\n",
        "for i in range(3):\n",
        "    salario = float(input('Digite o salário do funcionário: '))\n",
        "\n",
        "    try:\n",
        "        cadastrar_salario(salario)\n",
        "    except:\n",
        "        print('Opa, salário inválido!')\n",
        "\n",
        "print(salarios)\n",
        "\n"
      ]
    },
    {
      "cell_type": "markdown",
      "id": "qvMouwS_EC8c",
      "metadata": {
        "id": "qvMouwS_EC8c"
      },
      "source": [
        "# Exercícios\n",
        "\n",
        "O programa abaixo apresenta alguns erros de execução. Sem alterar as estruturas de dados originais (lista e dicionário):\n",
        "- faça um tratamento adequado dos erros para exibir as médias corretas de cada aluno ou mensagens de erro significativas para o usuário em português, sem permitir que o programa seja interrompido antes de finalizar sua execução.\n",
        "\n",
        "- para cada tentativa de média dos alunos, exiba a mensagem evidenciando que está começando a processar as informações do aluno e quando tiver terminado de processa-las, independente se deu erro ou não.\n",
        "\n",
        "\n",
        "```python\n",
        "alunos = ['John', 'Paul', 'George', 'Ringo', 'Joao', 'Pete']\n",
        "\n",
        "notas = {\n",
        "    'John':[7.5, 9.0, 8.25, 8.0],\n",
        "    'Paul':[9.0, 8.5, '10.0', 8.5],\n",
        "    'George':[6.0, '7.0', 8.0, 9],\n",
        "    'Ringo':[4.5, 4.0, 6.0, 7.0],\n",
        "    'Pete':[]\n",
        "}\n",
        "\n",
        "for aluno in alunos:\n",
        "    media = sum(notas[aluno])/len(notas[aluno])\n",
        "    print(f'{aluno}:\\t{media}')\n",
        "```"
      ]
    },
    {
      "cell_type": "code",
      "execution_count": 105,
      "id": "xx5jFZ9ThmQT",
      "metadata": {
        "id": "xx5jFZ9ThmQT"
      },
      "outputs": [
        {
          "name": "stdout",
          "output_type": "stream",
          "text": [
            "Iniciando processamento das notas...\n",
            "A média do John é: 8.1875\n",
            "O aluno John teve seu processamento finalizado.\n",
            "Iniciando processamento das notas...\n",
            "A média do Paul é: 9.0\n",
            "O aluno Paul teve seu processamento finalizado.\n",
            "Iniciando processamento das notas...\n",
            "A média do George é: 7.5\n",
            "O aluno George teve seu processamento finalizado.\n",
            "Iniciando processamento das notas...\n",
            "A média do Ringo é: 5.375\n",
            "O aluno Ringo teve seu processamento finalizado.\n",
            "Iniciando processamento das notas...\n",
            "O aluno Joao não está cadastrado no dicionario notas.\n",
            "O aluno Joao teve seu processamento finalizado.\n",
            "Iniciando processamento das notas...\n",
            "O aluno Pete não possui notas cadastradas.\n",
            "O aluno Pete teve seu processamento finalizado.\n"
          ]
        }
      ],
      "source": [
        "alunos = ['John', 'Paul', 'George', 'Ringo', 'Joao', 'Pete']\n",
        "\n",
        "notas = {\n",
        "    'John':[7.5, 9.0, 8.25, 8.0],\n",
        "    'Paul':[9.0, 8.5, '10.0', 8.5],\n",
        "    'George':[6.0, '7.0', 8.0, 9],\n",
        "    'Ringo':[4.5, 4.0, 6.0, 7.0],\n",
        "    'Pete':[]\n",
        "}\n",
        "\n",
        "notas_tratadas = []\n",
        "\n",
        "for aluno in alunos:\n",
        "    print('Iniciando processamento das notas...')\n",
        "    try:\n",
        "        media = sum(notas[aluno]) / len(notas[aluno])\n",
        "        print(f'A média do {aluno} é: {media}')\n",
        "    \n",
        "    except KeyError:\n",
        "        print(f'O aluno {aluno} não está cadastrado no dicionario notas.')\n",
        "    \n",
        "    except ZeroDivisionError:\n",
        "        print(f'O aluno {aluno} não possui notas cadastradas.')\n",
        "        \n",
        "    except TypeError:\n",
        "        for nota in notas[aluno]:\n",
        "            nota = float(nota)\n",
        "            notas_tratadas.append(nota)\n",
        "            media = sum(notas_tratadas) / len(notas[aluno])\n",
        "        print(f'A média do {aluno} é: {media}')\n",
        "        notas_tratadas = []\n",
        "    except:\n",
        "        print(f'O aluno {aluno} teve erro desconhecido na execução.')\n",
        "\n",
        "    finally:\n",
        "        print(f'O aluno {aluno} teve seu processamento finalizado.')\n",
        "            "
      ]
    },
    {
      "cell_type": "markdown",
      "id": "dba7eb32",
      "metadata": {
        "id": "dba7eb32"
      },
      "source": [
        "> Os próximos tópicos utilizam alguns conceitos de **Programação Orientada a Objeto**, como classes, objetos, métodos e herança. Ela está aqui para tornar o material mais completo, mas não é esperado que vocês entendam plenamente os conceitos envolvidos neste momento. Porém, caso se sinta confortável, você pode usar os códigos dos próximos tópicos como um _modelo_ para criar suas próprias exceções."
      ]
    },
    {
      "cell_type": "markdown",
      "id": "5e5281f6",
      "metadata": {
        "id": "5e5281f6"
      },
      "source": [
        "## Criando novas exceções\n",
        "\n",
        "Muitos problemas simples podem ser resolvidos através do ```raise Exception(mensagem)```. Porém, você deve ter notado que o nome da nossa mensagem de erro foi ```Exception```.\n",
        "\n",
        "Exceções geralmente são implementadas através de classes. O \"nome\" dos erros é o nome da classe de cada exceção. Existe uma exceção genérica chamada de ```Exception```. Quando usamos ```raise Exception(mensagem)```, estamos lançando essa exceção genérica junto de uma mensagem de erro personalizada.\n",
        "\n",
        "O problema da nossa abordagem é que por utilizarmos uma exceção genérica não teremos como adicionar um ```except``` específico para nossa mensagem. Vamos criar nossa própria classe para escolher o nome de nosso erro. Exceções personalizadas geralmente **herdam** da classe ```Exception```. Fazemos isso adicionando ```(Exception)``` após o nome de nossa classe.\n",
        "\n",
        "Vamos colocar um construtor que recebe uma mensagem. Podemos definir uma mensagem padrão, caso ninguém passe a mensagem. Em seguida, chamaremos o construtor da superclasse ```(Exception)```. Não se preocupe com os detalhes, veremos isso na aula de herança."
      ]
    },
    {
      "cell_type": "code",
      "execution_count": null,
      "id": "Zvt_6A0Gi5UE",
      "metadata": {
        "id": "Zvt_6A0Gi5UE"
      },
      "outputs": [],
      "source": [
        "# essa é a classe exception que conhecemos\n",
        "Exception('minha mensagem de erro')"
      ]
    },
    {
      "cell_type": "code",
      "execution_count": null,
      "id": "8fARG7vai5XS",
      "metadata": {
        "id": "8fARG7vai5XS"
      },
      "outputs": [],
      "source": [
        "Exception() # recebe um argumento, que é nossa mensagem de erro\n",
        "raise Exception('minha mensagem de erro')"
      ]
    },
    {
      "cell_type": "code",
      "execution_count": 107,
      "id": "Pdh8lmKUi63W",
      "metadata": {
        "id": "Pdh8lmKUi63W"
      },
      "outputs": [],
      "source": [
        "class SalarioInvalido(Exception):\n",
        "    def __init__(self, message='Salários devem ser positivos!'): # vou colocar essa mensagem default\n",
        "        super().__init__(message)"
      ]
    },
    {
      "cell_type": "markdown",
      "id": "3a4a0d8d",
      "metadata": {
        "id": "3a4a0d8d"
      },
      "source": [
        "Agora que criamos nossa exceção, podemos lançá-la:"
      ]
    },
    {
      "cell_type": "code",
      "execution_count": 110,
      "id": "YMneqDWijdTJ",
      "metadata": {
        "id": "YMneqDWijdTJ"
      },
      "outputs": [
        {
          "ename": "SalarioInvalido",
          "evalue": "0",
          "output_type": "error",
          "traceback": [
            "\u001b[1;31m---------------------------------------------------------------------------\u001b[0m",
            "\u001b[1;31mSalarioInvalido\u001b[0m                           Traceback (most recent call last)",
            "Cell \u001b[1;32mIn[110], line 8\u001b[0m\n\u001b[0;32m      5\u001b[0m         \u001b[38;5;28;01mraise\u001b[39;00m SalarioInvalido(salario)\n\u001b[0;32m      6\u001b[0m     \u001b[38;5;28;01mreturn\u001b[39;00m lista \u001b[38;5;241m+\u001b[39m [salario]\n\u001b[1;32m----> 8\u001b[0m \u001b[43mcadastrar_salario\u001b[49m\u001b[43m(\u001b[49m\u001b[38;5;241;43m0\u001b[39;49m\u001b[43m,\u001b[49m\u001b[43mlista_salarios\u001b[49m\u001b[43m)\u001b[49m\n",
            "Cell \u001b[1;32mIn[110], line 5\u001b[0m, in \u001b[0;36mcadastrar_salario\u001b[1;34m(salario, lista)\u001b[0m\n\u001b[0;32m      3\u001b[0m \u001b[38;5;28;01mdef\u001b[39;00m \u001b[38;5;21mcadastrar_salario\u001b[39m(salario: \u001b[38;5;28mfloat\u001b[39m, lista: \u001b[38;5;28mlist\u001b[39m):\n\u001b[0;32m      4\u001b[0m     \u001b[38;5;28;01mif\u001b[39;00m salario \u001b[38;5;241m<\u001b[39m\u001b[38;5;241m=\u001b[39m \u001b[38;5;241m0\u001b[39m:\n\u001b[1;32m----> 5\u001b[0m         \u001b[38;5;28;01mraise\u001b[39;00m SalarioInvalido(salario)\n\u001b[0;32m      6\u001b[0m     \u001b[38;5;28;01mreturn\u001b[39;00m lista \u001b[38;5;241m+\u001b[39m [salario]\n",
            "\u001b[1;31mSalarioInvalido\u001b[0m: 0"
          ]
        }
      ],
      "source": [
        "lista_salarios = []\n",
        "\n",
        "def cadastrar_salario(salario: float, lista: list):\n",
        "    if salario <= 0:\n",
        "        raise SalarioInvalido(salario)\n",
        "    return lista + [salario]\n",
        "\n",
        "cadastrar_salario(0,lista_salarios)"
      ]
    },
    {
      "cell_type": "markdown",
      "id": "5541d3d5",
      "metadata": {
        "id": "5541d3d5"
      },
      "source": [
        "Agora sim temos um erro com seu próprio nome e uma mensagem padrão. Mas note que quem está usando a nossa exceção pode personalizar a mensagem se quiser, basta passar uma mensagem diferente entre parênteses. O tipo do erro ainda será o mesmo e ambos deverão ser identificados como ```SalarioInvalido``` no ```Except```."
      ]
    },
    {
      "cell_type": "code",
      "execution_count": 113,
      "id": "v2QcOj-9jjX4",
      "metadata": {
        "id": "v2QcOj-9jjX4"
      },
      "outputs": [
        {
          "ename": "SalarioInvalido",
          "evalue": "Deixa de ser mão-de-vaca e pague seus funcionários!",
          "output_type": "error",
          "traceback": [
            "\u001b[1;31m---------------------------------------------------------------------------\u001b[0m",
            "\u001b[1;31mSalarioInvalido\u001b[0m                           Traceback (most recent call last)",
            "Cell \u001b[1;32mIn[113], line 9\u001b[0m\n\u001b[0;32m      5\u001b[0m         \u001b[38;5;28;01mraise\u001b[39;00m SalarioInvalido(\u001b[38;5;124m'\u001b[39m\u001b[38;5;124mDeixa de ser mão-de-vaca e pague seus funcionários!\u001b[39m\u001b[38;5;124m'\u001b[39m)\n\u001b[0;32m      7\u001b[0m     salarios\u001b[38;5;241m.\u001b[39mappend(salario)\n\u001b[1;32m----> 9\u001b[0m \u001b[43mcadastrar_salario\u001b[49m\u001b[43m(\u001b[49m\u001b[38;5;241;43m0\u001b[39;49m\u001b[43m)\u001b[49m\n",
            "Cell \u001b[1;32mIn[113], line 5\u001b[0m, in \u001b[0;36mcadastrar_salario\u001b[1;34m(salario)\u001b[0m\n\u001b[0;32m      3\u001b[0m \u001b[38;5;28;01mdef\u001b[39;00m \u001b[38;5;21mcadastrar_salario\u001b[39m(salario):\n\u001b[0;32m      4\u001b[0m     \u001b[38;5;28;01mif\u001b[39;00m salario \u001b[38;5;241m<\u001b[39m\u001b[38;5;241m=\u001b[39m \u001b[38;5;241m0\u001b[39m:\n\u001b[1;32m----> 5\u001b[0m         \u001b[38;5;28;01mraise\u001b[39;00m SalarioInvalido(\u001b[38;5;124m'\u001b[39m\u001b[38;5;124mDeixa de ser mão-de-vaca e pague seus funcionários!\u001b[39m\u001b[38;5;124m'\u001b[39m)\n\u001b[0;32m      7\u001b[0m     salarios\u001b[38;5;241m.\u001b[39mappend(salario)\n",
            "\u001b[1;31mSalarioInvalido\u001b[0m: Deixa de ser mão-de-vaca e pague seus funcionários!"
          ]
        }
      ],
      "source": [
        "salarios = []\n",
        "\n",
        "def cadastrar_salario(salario):\n",
        "    if salario <= 0:\n",
        "        raise SalarioInvalido('Deixa de ser mão-de-vaca e pague seus funcionários!')\n",
        "\n",
        "    salarios.append(salario)\n",
        "\n",
        "cadastrar_salario(0)"
      ]
    },
    {
      "cell_type": "markdown",
      "id": "03acc2d5",
      "metadata": {
        "id": "03acc2d5"
      },
      "source": [
        "Bom, para finalizar, vale sempre lembrar que podemos tratar essa exceção específica:\n",
        "\n"
      ]
    },
    {
      "cell_type": "code",
      "execution_count": 115,
      "id": "26ci4avZjlOs",
      "metadata": {
        "id": "26ci4avZjlOs"
      },
      "outputs": [
        {
          "name": "stdout",
          "output_type": "stream",
          "text": [
            "Nosso RH é uma vergonha :(\n",
            "[5.0, 15.0]\n"
          ]
        }
      ],
      "source": [
        "salarios = []\n",
        "\n",
        "def cadastrar_salario(salario):\n",
        "  if salario <= 0:\n",
        "    raise SalarioInvalido()\n",
        "\n",
        "  salarios.append(salario)\n",
        "\n",
        "for i in range(3):\n",
        "  try:\n",
        "    salario = float(input('Digite o salário do funcionário: '))\n",
        "    cadastrar_salario(salario)\n",
        "  except SalarioInvalido:\n",
        "    print('Nosso RH é uma vergonha :(')\n",
        "  except:\n",
        "    print('Exceção genérica lalala')\n",
        "\n",
        "print(salarios)"
      ]
    },
    {
      "cell_type": "markdown",
      "id": "562bf7a0",
      "metadata": {
        "id": "562bf7a0"
      },
      "source": [
        "## ~~Finally~~ Finalmente..."
      ]
    },
    {
      "cell_type": "markdown",
      "id": "a59729ec",
      "metadata": {
        "id": "a59729ec"
      },
      "source": [
        "O tópico parece extenso, mas é bastante simples e você irá usar apenas o que precisar.\n",
        "\n",
        "Como usuário de um módulo, você deverá saber se existem situações onde ele pode lançar exceções, e neste caso usar o ```try```/```exception``` para tratá-las.\n",
        "\n",
        "Caso haja necessidade de dar tratamentos diferentes para exceções diferentes, você pode utilizar múltiplos ```except```, mas isso é totalmente opcional.\n",
        "\n",
        "No ```except``` você também pode usar o ```as``` para apelidar sua exceção e, assim, acessar seus atributos caso necessário.\n",
        "\n",
        "Caso haja necessidade de realizar qualquer \"limpeza\", como fechar arquivos e conexões, você pode usar o ```finally```.\n",
        "\n",
        "---\n",
        "\n",
        "Como criador de módulos, é útil lançar exceções sempre que você encontrar uma situação onde você acredita que uma tarefa deveria ser abandonada porque algum valor ou situação errada ocorreu. Nunca sinalize essas situações com um ```print```, sempre prefira utilizar o ```raise``` para lançar exceções, pois elas irão aparecer no terminal assim como o ```print```, mas também irão aparecer em logs e podem ser detectadas em código.\n",
        "\n",
        "Caso você deseje criar exceções específicas para situações específicas, crie uma classe herdeira de ```Exception``` e não se esqueça de invocar o ```super().__init__``` passando sua mensagem. Nessa classe você pode personalizar mensagens e até mesmo armazenar informações úteis sobre o erro."
      ]
    },
    {
      "cell_type": "code",
      "execution_count": null,
      "id": "604db649",
      "metadata": {
        "id": "604db649"
      },
      "outputs": [],
      "source": []
    },
    {
      "cell_type": "markdown",
      "id": "E6Nnlq3OfzfB",
      "metadata": {
        "id": "E6Nnlq3OfzfB"
      },
      "source": [
        "# links úteis\n",
        "\n",
        "\n",
        "- documentação de exceptions built-in:  https://docs.python.org/3/library/exceptions.html\n",
        "\n",
        "- the zen of python: https://www.python.org/doc/humor/#the-zen-of-python"
      ]
    },
    {
      "cell_type": "code",
      "execution_count": null,
      "id": "DV1Eugzjf0pb",
      "metadata": {
        "id": "DV1Eugzjf0pb"
      },
      "outputs": [],
      "source": []
    }
  ],
  "metadata": {
    "colab": {
      "provenance": []
    },
    "kernelspec": {
      "display_name": "Python 3 (ipykernel)",
      "language": "python",
      "name": "python3"
    },
    "language_info": {
      "codemirror_mode": {
        "name": "ipython",
        "version": 3
      },
      "file_extension": ".py",
      "mimetype": "text/x-python",
      "name": "python",
      "nbconvert_exporter": "python",
      "pygments_lexer": "ipython3",
      "version": "3.12.2"
    }
  },
  "nbformat": 4,
  "nbformat_minor": 5
}
