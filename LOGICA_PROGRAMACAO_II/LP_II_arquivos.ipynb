{
  "cells": [
    {
      "cell_type": "markdown",
      "metadata": {
        "id": "772zT7AIyLoQ"
      },
      "source": [
        "# Arquivos\n",
        "\n",
        "Uma característica que nenhum de nossos programas teve agora é a **persistência** de dados. Sempre que nossos programas eram executados, eles precisavam que os usuários digitassem todos os dados de entrada novamente, e após exibir os dados de saída na tela, o programa era fechado e esses dados eram perdidos para sempre.\n",
        "\n",
        "A persistência se dá através de **arquivos**: estruturas abstratas para armazenar dados em uma memória permanente, como o disco rígido, um _drive_ USB ou um servidor _web_."
      ]
    },
    {
      "cell_type": "code",
      "execution_count": null,
      "metadata": {
        "id": "KRHeFY6ntEA2"
      },
      "outputs": [],
      "source": []
    },
    {
      "cell_type": "markdown",
      "metadata": {
        "id": "pjePIztxsLpf"
      },
      "source": [
        "\n",
        "## Arquivos em Python\n",
        "O Python possui algumas funções prontas para manipular arquivos binários puros (onde, conhecendo a estrutura interna de qualquer formato, podemos salvar qualquer tipo de arquivo) e para manipular arquivos de texto (onde os binários são decodificados como _strings_).\n",
        "\n",
        "Focaremos no básico de manipulação de arquivo de texto, pois, na prática, quando formos trabalhar com arquivos mais complexos, é provável que usaremos bibliotecas específicas para lidar com eles, e elas já terão funções próprias para ler e salvar esses arquivos da maneira correta.\n",
        "\n"
      ]
    },
    {
      "cell_type": "markdown",
      "metadata": {
        "id": "5sSjIEtVsPbw"
      },
      "source": [
        "### Abrindo e fechando arquivos\n",
        "Podemos criar arquivos novos ou abrir arquivos já existentes utilizando a função _open()_. Ela possui 2 argumentos: uma com o caminho do arquivo e outra com o modo de operação. Para saber mais:\n",
        "<br>\n",
        "https://www.w3schools.com/python/ref_func_open.asp\n",
        "<br>\n",
        "https://docs.python.org/3/library/functions.html#open\n",
        "<br>\n",
        "\n",
        "| Modo   | Símbolo | Descrição                                                                                                                             |\n",
        "|--------|---------|---------------------------------------------------------------------------------------------------------------------------------------|\n",
        "| _create new_  | x       | Abre exclusivamente para criar, dando falha se o arquivo já existir                                                                                                       |\n",
        "| _write_  | w       | Abre um arquivo para escrever. Caso arquivo não exista cria um novo arquivo                                                                                                                  |\n",
        "| _append_ | a       | Abre um arquivo existente para adicionar informações ao seu final                                                                     |\n",
        "| _read_   | r       | Abre para ler um arquivo existente. Esse é o argumento padrão do parâmetro _mode_ na função _open()_                                                                        |\n",
        "| _update_ | +       | Abre para atualizar. ao ser combinado com outros modos, permite alteração de arquivo já existente tanto para escrever quanto para ler. exemplo: r+ abre um arquivo existente e permite modificá-lo) |\n",
        "\n",
        "Após abrirmos (ou criarmos) um arquivo, podemos realizar diversas operações. Ao final de todas elas, devemos **fechar** o nosso arquivo usando a função _close()_. Essa etapa é importante por 2 motivos:\n",
        "* 1. Se alteramos o arquivo mas não o fechamos, as alterações não serão salvas.\n",
        "* 2. Se esquecermos de fechar um arquivo, outros programas podem ter problemas de acesso a ele.\n",
        "\n",
        "A função _open_ retorna alguns dados que devem ser salvos em uma variável que será responsável por guardar alguns dados de acesso ao arquivo, para uso interno do Python.\n"
      ]
    },
    {
      "cell_type": "markdown",
      "metadata": {
        "id": "I-VV7i1RsTnX"
      },
      "source": [
        "\n",
        "### Escrevendo arquivos\n",
        "Para entender melhor o _open_ e o _close_, façamos um programinha que escreve algo em um arquivo. Além das duas funções que já vimos, também utilizaremos a função _write_, que escreve um texto em um arquivo. É quase como um _print_ mais simples, mas ele aceita apenas uma _string_."
      ]
    },
    {
      "cell_type": "code",
      "execution_count": 3,
      "metadata": {
        "id": "WeqL516MtVXH"
      },
      "outputs": [],
      "source": [
        "arquivo = open('ola.txt', 'x', encoding='utf-8')\n",
        "arquivo.write('olá mundo')\n",
        "arquivo.close()"
      ]
    },
    {
      "cell_type": "code",
      "execution_count": 4,
      "metadata": {
        "id": "n6YtC4hKtVcz"
      },
      "outputs": [
        {
          "ename": "FileExistsError",
          "evalue": "[Errno 17] File exists: 'ola.txt'",
          "output_type": "error",
          "traceback": [
            "\u001b[1;31m---------------------------------------------------------------------------\u001b[0m",
            "\u001b[1;31mFileExistsError\u001b[0m                           Traceback (most recent call last)",
            "Cell \u001b[1;32mIn[4], line 1\u001b[0m\n\u001b[1;32m----> 1\u001b[0m arquivo \u001b[38;5;241m=\u001b[39m \u001b[38;5;28;43mopen\u001b[39;49m\u001b[43m(\u001b[49m\u001b[38;5;124;43m'\u001b[39;49m\u001b[38;5;124;43mola.txt\u001b[39;49m\u001b[38;5;124;43m'\u001b[39;49m\u001b[43m,\u001b[49m\u001b[43m \u001b[49m\u001b[38;5;124;43m'\u001b[39;49m\u001b[38;5;124;43mx\u001b[39;49m\u001b[38;5;124;43m'\u001b[39;49m\u001b[43m,\u001b[49m\u001b[43m \u001b[49m\u001b[43mencoding\u001b[49m\u001b[38;5;241;43m=\u001b[39;49m\u001b[38;5;124;43m'\u001b[39;49m\u001b[38;5;124;43mutf-8\u001b[39;49m\u001b[38;5;124;43m'\u001b[39;49m\u001b[43m)\u001b[49m\n\u001b[0;32m      2\u001b[0m arquivo\u001b[38;5;241m.\u001b[39mwrite(\u001b[38;5;124m'\u001b[39m\u001b[38;5;124molá mundo\u001b[39m\u001b[38;5;124m'\u001b[39m)\n\u001b[0;32m      3\u001b[0m arquivo\u001b[38;5;241m.\u001b[39mclose()\n",
            "File \u001b[1;32m~\\AppData\\Roaming\\Python\\Python312\\site-packages\\IPython\\core\\interactiveshell.py:324\u001b[0m, in \u001b[0;36m_modified_open\u001b[1;34m(file, *args, **kwargs)\u001b[0m\n\u001b[0;32m    317\u001b[0m \u001b[38;5;28;01mif\u001b[39;00m file \u001b[38;5;129;01min\u001b[39;00m {\u001b[38;5;241m0\u001b[39m, \u001b[38;5;241m1\u001b[39m, \u001b[38;5;241m2\u001b[39m}:\n\u001b[0;32m    318\u001b[0m     \u001b[38;5;28;01mraise\u001b[39;00m \u001b[38;5;167;01mValueError\u001b[39;00m(\n\u001b[0;32m    319\u001b[0m         \u001b[38;5;124mf\u001b[39m\u001b[38;5;124m\"\u001b[39m\u001b[38;5;124mIPython won\u001b[39m\u001b[38;5;124m'\u001b[39m\u001b[38;5;124mt let you open fd=\u001b[39m\u001b[38;5;132;01m{\u001b[39;00mfile\u001b[38;5;132;01m}\u001b[39;00m\u001b[38;5;124m by default \u001b[39m\u001b[38;5;124m\"\u001b[39m\n\u001b[0;32m    320\u001b[0m         \u001b[38;5;124m\"\u001b[39m\u001b[38;5;124mas it is likely to crash IPython. If you know what you are doing, \u001b[39m\u001b[38;5;124m\"\u001b[39m\n\u001b[0;32m    321\u001b[0m         \u001b[38;5;124m\"\u001b[39m\u001b[38;5;124myou can use builtins\u001b[39m\u001b[38;5;124m'\u001b[39m\u001b[38;5;124m open.\u001b[39m\u001b[38;5;124m\"\u001b[39m\n\u001b[0;32m    322\u001b[0m     )\n\u001b[1;32m--> 324\u001b[0m \u001b[38;5;28;01mreturn\u001b[39;00m \u001b[43mio_open\u001b[49m\u001b[43m(\u001b[49m\u001b[43mfile\u001b[49m\u001b[43m,\u001b[49m\u001b[43m \u001b[49m\u001b[38;5;241;43m*\u001b[39;49m\u001b[43margs\u001b[49m\u001b[43m,\u001b[49m\u001b[43m \u001b[49m\u001b[38;5;241;43m*\u001b[39;49m\u001b[38;5;241;43m*\u001b[39;49m\u001b[43mkwargs\u001b[49m\u001b[43m)\u001b[49m\n",
            "\u001b[1;31mFileExistsError\u001b[0m: [Errno 17] File exists: 'ola.txt'"
          ]
        }
      ],
      "source": [
        "arquivo = open('ola.txt', 'x', encoding='utf-8')\n",
        "arquivo.write('olá mundo')\n",
        "arquivo.close()"
      ]
    },
    {
      "cell_type": "code",
      "execution_count": 5,
      "metadata": {
        "id": "xcMdK5fKtViB"
      },
      "outputs": [],
      "source": []
    },
    {
      "cell_type": "code",
      "execution_count": null,
      "metadata": {
        "id": "g0WJVGrDtVog"
      },
      "outputs": [],
      "source": []
    },
    {
      "cell_type": "markdown",
      "metadata": {
        "id": "WBGkdTzoFvqq"
      },
      "source": [
        "Por que deu erro aqui?\n",
        "\n",
        "<br> <br> <br> <br> <br>\n",
        "\n",
        "Utilizamos o modo 'x' que ele cria um novo arquivo se não existir esse nome"
      ]
    },
    {
      "cell_type": "markdown",
      "metadata": {
        "id": "4w_vgLojJ86M"
      },
      "source": [
        "Agora podemos utilizar o modo W para escrever \"por cima\" caso já tenha um arquivo com esse nome"
      ]
    },
    {
      "cell_type": "code",
      "execution_count": 12,
      "metadata": {
        "id": "NOCGtbr-tZ3O"
      },
      "outputs": [],
      "source": [
        "arquivo = open('ola.txt', 'w', encoding='utf-8')\n",
        "arquivo.write('olá mundo 2') # sobrescreve todo o texto existente dentro do arquivo\n",
        "arquivo.close()"
      ]
    },
    {
      "cell_type": "code",
      "execution_count": 13,
      "metadata": {
        "id": "hLrjNxjotZ-P"
      },
      "outputs": [],
      "source": [
        "arquivo = open('ola.txt', 'a', encoding='utf-8')\n",
        "arquivo.write('\\nolá mundo de novo') # \\n para escrever em uma nova linha\n",
        "arquivo.close()"
      ]
    },
    {
      "cell_type": "code",
      "execution_count": null,
      "metadata": {
        "id": "vhpGQUhbtaFm"
      },
      "outputs": [],
      "source": []
    },
    {
      "cell_type": "code",
      "execution_count": null,
      "metadata": {
        "id": "7fpkcNDftaOP"
      },
      "outputs": [],
      "source": []
    },
    {
      "cell_type": "code",
      "execution_count": null,
      "metadata": {
        "id": "wBr3PlOktaVi"
      },
      "outputs": [],
      "source": []
    },
    {
      "cell_type": "markdown",
      "metadata": {
        "id": "AI_DZWMyyLoW"
      },
      "source": [
        "Após executar a célula acima, abra a pasta onde seu _notebook_ está salvo. Note que apareceu um ```ola.txt``` lá. Abra-o e verifique seu conteúdo.\n",
        "\n",
        "### Lendo arquivos\n",
        "Para ler um arquivo existente, não basta usar o _open_ para abri-lo. É necessário carregar seu conteúdo para uma _string_, de modo que possamos trabalhar com o texto da mesma forma que sempre trabalhamos. A função _read_ faz o oposto da _write_: ela retorna o texto existente no arquivo.\n",
        "\n",
        "Rode a célula abaixo."
      ]
    },
    {
      "cell_type": "code",
      "execution_count": 14,
      "metadata": {
        "id": "YW5ulT91tdYw"
      },
      "outputs": [
        {
          "name": "stdout",
          "output_type": "stream",
          "text": [
            "olá mundo 2\n",
            "olá mundo de novo\n"
          ]
        }
      ],
      "source": [
        "arquivo = open('ola.txt', 'r', encoding='utf-8')\n",
        "conteudo = arquivo.read()\n",
        "print(conteudo)\n",
        "arquivo.close()"
      ]
    },
    {
      "cell_type": "code",
      "execution_count": 15,
      "metadata": {
        "id": "anHmcf1dtdfN"
      },
      "outputs": [
        {
          "name": "stdout",
          "output_type": "stream",
          "text": [
            "<class 'str'>\n"
          ]
        }
      ],
      "source": [
        "print(type(conteudo))"
      ]
    },
    {
      "cell_type": "code",
      "execution_count": 16,
      "metadata": {
        "id": "KSs7NLOjtdpT"
      },
      "outputs": [
        {
          "name": "stdout",
          "output_type": "stream",
          "text": [
            "linha: olá mundo 2\n",
            "linha: olá mundo de novo\n"
          ]
        }
      ],
      "source": [
        "for linha in conteudo.split('\\n'):\n",
        "    print(f'linha: {linha}')"
      ]
    },
    {
      "cell_type": "markdown",
      "metadata": {
        "id": "bghlUqY2yLoX"
      },
      "source": [
        "## Gerenciador de contexto\n",
        "\n",
        "Uma forma alternativa e \"mais segura\" de trabalhar com arquivos é utilizando um _gerenciador de contextos_. O gerenciador de contextos é, de maneira resumida, um pequeno bloco de código que realiza algumas tarefas e tratamentos de erro de maneira automatizada para nós.\n",
        "\n",
        "Com ele não precisamos nos preocupar em fechar o arquivo ao final da manipulação, pois ele irá fechar automaticamente para nós ao final do bloco."
      ]
    },
    {
      "cell_type": "code",
      "execution_count": 21,
      "metadata": {
        "id": "QS9UVM3StfpC"
      },
      "outputs": [
        {
          "name": "stdout",
          "output_type": "stream",
          "text": [
            "Olá Mundo 2\n",
            "Olá Mundo De Novo\n"
          ]
        },
        {
          "ename": "ValueError",
          "evalue": "I/O operation on closed file.",
          "output_type": "error",
          "traceback": [
            "\u001b[1;31m---------------------------------------------------------------------------\u001b[0m",
            "\u001b[1;31mValueError\u001b[0m                                Traceback (most recent call last)",
            "Cell \u001b[1;32mIn[21], line 6\u001b[0m\n\u001b[0;32m      3\u001b[0m     \u001b[38;5;28mprint\u001b[39m(conteudo\u001b[38;5;241m.\u001b[39mtitle())\n\u001b[0;32m      4\u001b[0m     \u001b[38;5;66;03m# fecha o arquivo no final\u001b[39;00m\n\u001b[1;32m----> 6\u001b[0m conteudo2 \u001b[38;5;241m=\u001b[39m \u001b[43marquivo\u001b[49m\u001b[38;5;241;43m.\u001b[39;49m\u001b[43mread\u001b[49m\u001b[43m(\u001b[49m\u001b[43m)\u001b[49m \u001b[38;5;66;03m# não consegue ler o arquivo que está fechado\u001b[39;00m\n",
            "\u001b[1;31mValueError\u001b[0m: I/O operation on closed file."
          ]
        }
      ],
      "source": [
        "with open('ola.txt', 'r', encoding='utf-8') as arquivo:\n",
        "    conteudo = arquivo.read()\n",
        "    print(conteudo.title())\n",
        "    # fecha automaticamente o arquivo no final\n",
        "\n",
        "conteudo2 = arquivo.read() # não consegue ler o arquivo que está fechado"
      ]
    },
    {
      "cell_type": "markdown",
      "metadata": {
        "id": "JTfzIeHdyLoY"
      },
      "source": [
        "No restante dos exemplos **seguiremos utilizando a primeira forma que aprendemos para reforçar que, por dentro, há sempre uma abertura e um fechamento de arquivo**. Mas sinta-se livre para utilizar a nova forma sempre que quiser!"
      ]
    },
    {
      "cell_type": "markdown",
      "metadata": {
        "id": "sLlFH2BK4D7l"
      },
      "source": [
        "## Utilizando o Google Colab e lendo arquivos do meu Google Drive"
      ]
    },
    {
      "cell_type": "markdown",
      "metadata": {
        "id": "-Do25hum4NBa"
      },
      "source": [
        "- Uma característica diferente que o Google Colab tem das outras IDEs populares é o fato dela estar online e ter facilidade de utilizar o Google Drive"
      ]
    },
    {
      "cell_type": "markdown",
      "metadata": {
        "id": "6ay7QnwT5JQ3"
      },
      "source": [
        "- Por que pode ser importante utilizar o Google Drive?\n",
        " - Permite você guardar e ler informações de um local na nuvem\n",
        " - Se utilizarmos o diretório padrão ele só persistirá durante o a sessão presente"
      ]
    },
    {
      "cell_type": "code",
      "execution_count": 22,
      "metadata": {
        "id": "h1LzcSmithws"
      },
      "outputs": [
        {
          "ename": "ModuleNotFoundError",
          "evalue": "No module named 'google'",
          "output_type": "error",
          "traceback": [
            "\u001b[1;31m---------------------------------------------------------------------------\u001b[0m",
            "\u001b[1;31mModuleNotFoundError\u001b[0m                       Traceback (most recent call last)",
            "Cell \u001b[1;32mIn[22], line 1\u001b[0m\n\u001b[1;32m----> 1\u001b[0m \u001b[38;5;28;01mfrom\u001b[39;00m \u001b[38;5;21;01mgoogle\u001b[39;00m \u001b[38;5;28;01mimport\u001b[39;00m drive\n\u001b[0;32m      2\u001b[0m drive\u001b[38;5;241m.\u001b[39mmount(\u001b[38;5;124m'\u001b[39m\u001b[38;5;124m/content/drive\u001b[39m\u001b[38;5;124m'\u001b[39m)\n",
            "\u001b[1;31mModuleNotFoundError\u001b[0m: No module named 'google'"
          ]
        }
      ],
      "source": [
        "# from google.colab import drive\n",
        "# drive.mount('/content/drive')"
      ]
    },
    {
      "cell_type": "markdown",
      "metadata": {
        "id": "SWboC5IG5CZF"
      },
      "source": [
        "Agora conseguimos interagir com os arquivos do Google Drive da mesma maneira se fosse em outro diretório"
      ]
    },
    {
      "cell_type": "code",
      "execution_count": null,
      "metadata": {
        "id": "Bl7rHBLutzKz"
      },
      "outputs": [],
      "source": []
    },
    {
      "cell_type": "code",
      "execution_count": null,
      "metadata": {
        "id": "vnPRFpKftzQz"
      },
      "outputs": [],
      "source": []
    },
    {
      "cell_type": "code",
      "execution_count": null,
      "metadata": {
        "id": "wotuW_V8tzV1"
      },
      "outputs": [],
      "source": []
    },
    {
      "cell_type": "code",
      "execution_count": null,
      "metadata": {
        "id": "P3u-OAyUtzb_"
      },
      "outputs": [],
      "source": []
    },
    {
      "cell_type": "markdown",
      "metadata": {
        "id": "P4JV5LgqyLoZ"
      },
      "source": [
        "# Exercícios - parte 1"
      ]
    },
    {
      "cell_type": "markdown",
      "metadata": {
        "id": "z074EawTI1YZ"
      },
      "source": [
        "\n",
        "Use o conteúdo ensinado até o momento para realizar os exercícios abaixo.\n",
        "\n",
        "Para os exercícios envolvendo números, você pode utilizar o arquivo ```numeros.txt``` fornecido junto deste _notebook_ . link do arquivo ```numeros.txt```: https://drive.google.com/file/d/1iKodt0gYVQnwNZ0-FXnW4HBQp8ZS2Ml9/view?usp=sharing\n"
      ]
    },
    {
      "cell_type": "markdown",
      "metadata": {
        "id": "J4f662BQWWDg"
      },
      "source": [
        "1) Escreva um código que lê um arquivo de texto contendo uma série de números separados por quebra de linha (```'\\n'```) e os adiciona a uma lista. Imprima a lista na tela."
      ]
    },
    {
      "cell_type": "code",
      "execution_count": 61,
      "metadata": {
        "id": "4ZUy0YvPuBAp"
      },
      "outputs": [
        {
          "name": "stdout",
          "output_type": "stream",
          "text": [
            "[90, 81, 94, 65, 48, 41, 7, 67, 71, 98, 7, 18, 75, 16, 36, 67, 37, 6, 79, 94, 79, 16, 4, 100, 3, 56, 50, 51, 70, 16, 44, 96, 73, 71, 3, 41, 68, 21, 3, 95, 38, 37, 83, 28, 8, 8, 55, 45, 21, 64, 43, 92, 62]\n"
          ]
        }
      ],
      "source": [
        "numeros = open('numeros.txt', 'r', encoding='utf-8')\n",
        "conteudo = numeros.read().split()\n",
        "lista_numeros = list(map(int, conteudo))\n",
        "print(lista_numeros)"
      ]
    },
    {
      "cell_type": "markdown",
      "metadata": {
        "id": "MJcx_fadyLoa"
      },
      "source": [
        "2) Escreva um programa que lê um arquivo de texto contendo uma série de números inteiros separados por quebra de linha (```\\n```) e escreva na tela o somatório dos números."
      ]
    },
    {
      "cell_type": "code",
      "execution_count": 60,
      "metadata": {
        "id": "Nkt4DcFCuCAT"
      },
      "outputs": [
        {
          "name": "stdout",
          "output_type": "stream",
          "text": [
            "2641\n"
          ]
        }
      ],
      "source": [
        "numeros = open('numeros.txt', 'r', encoding='utf-8')\n",
        "conteudo = numeros.read().split()\n",
        "lista_numeros = list(map(int, conteudo))\n",
        "# soma = []\n",
        "# for n in lista_numeros:\n",
        "#     soma.append(n)\n",
        "\n",
        "resultado = sum(lista_numeros)\n",
        "print(resultado)\n",
        "numeros.close()"
      ]
    },
    {
      "cell_type": "markdown",
      "metadata": {
        "id": "TGRNFGKLVZOU"
      },
      "source": [
        "3) Crie uma função que cheque se um número inteiro é primo (divisível por apenas 1 e por ele mesmo) ou não.\n",
        "- Se for primo retornar \"primo\"\n",
        "- Caso contrário, retorne \"não-primo\""
      ]
    },
    {
      "cell_type": "code",
      "execution_count": 52,
      "metadata": {
        "id": "r7x9VUEuuDyO"
      },
      "outputs": [
        {
          "name": "stdout",
          "output_type": "stream",
          "text": [
            "[(2, 'PRIMO'), (3, 'PRIMO'), (4, 'NÃO-PRIMO'), (5, 'PRIMO'), (10, 'NÃO-PRIMO'), (13, 'PRIMO'), (17, 'PRIMO'), (20, 'NÃO-PRIMO')]\n"
          ]
        }
      ],
      "source": [
        "def is_primo(n):\n",
        "    if n < 2:\n",
        "        return 'NÃO-PRIMO'\n",
        "    for i in range(2, int(n**0.5) + 1):\n",
        "        if n % i == 0:\n",
        "            return 'NÃO-PRIMO'\n",
        "    return 'PRIMO'\n",
        "\n",
        "def verifica_primos(lista):\n",
        "    return [(num, is_primo(num)) for num in lista]\n",
        "\n",
        "# Exemplo de uso\n",
        "numeros = [2, 3, 4, 5, 10, 13, 17, 20]\n",
        "resultado = verifica_primos(numeros)\n",
        "print(resultado)\n"
      ]
    },
    {
      "cell_type": "code",
      "execution_count": 45,
      "metadata": {},
      "outputs": [
        {
          "name": "stdout",
          "output_type": "stream",
          "text": [
            "90: não-primo\n",
            "81: não-primo\n",
            "94: não-primo\n",
            "65: não-primo\n",
            "48: não-primo\n",
            "41: primo\n",
            "7: primo\n",
            "67: primo\n",
            "71: primo\n",
            "98: não-primo\n",
            "7: primo\n",
            "18: não-primo\n",
            "75: não-primo\n",
            "16: não-primo\n",
            "36: não-primo\n",
            "67: primo\n",
            "37: primo\n",
            "6: não-primo\n",
            "79: primo\n",
            "94: não-primo\n",
            "79: primo\n",
            "16: não-primo\n",
            "4: não-primo\n",
            "100: não-primo\n",
            "3: primo\n",
            "56: não-primo\n",
            "50: não-primo\n",
            "51: não-primo\n",
            "70: não-primo\n",
            "16: não-primo\n",
            "44: não-primo\n",
            "96: não-primo\n",
            "73: primo\n",
            "71: primo\n",
            "3: primo\n",
            "41: primo\n",
            "68: não-primo\n",
            "21: não-primo\n",
            "3: primo\n",
            "95: não-primo\n",
            "38: não-primo\n",
            "37: primo\n",
            "83: primo\n",
            "28: não-primo\n",
            "8: não-primo\n",
            "8: não-primo\n",
            "55: não-primo\n",
            "45: não-primo\n",
            "21: não-primo\n",
            "64: não-primo\n",
            "43: primo\n",
            "92: não-primo\n",
            "62: não-primo\n"
          ]
        }
      ],
      "source": [
        "# solução José\n",
        "def checar_primo(numero):\n",
        "    if numero <= 1:\n",
        "        return \"não-primo\"\n",
        "    \n",
        "    for i in range(2, numero):\n",
        "        if numero % i == 0:\n",
        "            return \"não-primo\"\n",
        "    \n",
        "    return \"primo\"\n",
        "\n",
        "# Lista de números para verificar\n",
        "numeros = [90, 81, 94, 65, 48, 41, 7, 67, 71, 98, 7, 18, 75, 16, 36, 67, 37, 6, 79, 94, 79, 16, 4, 100, 3, 56, 50, 51, 70, 16, 44, 96, 73, 71, 3, 41, 68, 21, 3, 95, 38, 37, 83, 28, 8, 8, 55, 45, 21, 64, 43, 92, 62]\n",
        "\n",
        "# Checar cada número e imprimir o resultado\n",
        "for numero in numeros:\n",
        "    resultado = checar_primo(numero)\n",
        "    print(f\"{numero}: {resultado}\")"
      ]
    },
    {
      "cell_type": "code",
      "execution_count": 50,
      "metadata": {},
      "outputs": [
        {
          "name": "stdout",
          "output_type": "stream",
          "text": [
            "[{90: 'não-primo\\n'}, {81: 'não-primo\\n'}, {94: 'não-primo\\n'}, {65: 'não-primo\\n'}, {48: 'não-primo\\n'}, {41: 'primo\\n'}, {7: 'primo\\n'}, {67: 'primo\\n'}, {71: 'primo\\n'}, {98: 'não-primo\\n'}, {7: 'primo\\n'}, {18: 'não-primo\\n'}, {75: 'não-primo\\n'}, {16: 'não-primo\\n'}, {36: 'não-primo\\n'}, {67: 'primo\\n'}, {37: 'primo\\n'}, {6: 'não-primo\\n'}, {79: 'primo\\n'}, {94: 'não-primo\\n'}, {79: 'primo\\n'}, {16: 'não-primo\\n'}, {4: 'não-primo\\n'}, {100: 'não-primo\\n'}, {3: 'não-primo\\n'}, {56: 'não-primo\\n'}, {50: 'não-primo\\n'}, {51: 'não-primo\\n'}, {70: 'não-primo\\n'}, {16: 'não-primo\\n'}, {44: 'não-primo\\n'}, {96: 'não-primo\\n'}, {73: 'primo\\n'}, {71: 'primo\\n'}, {3: 'não-primo\\n'}, {41: 'primo\\n'}, {68: 'não-primo\\n'}, {21: 'não-primo\\n'}, {3: 'não-primo\\n'}, {95: 'não-primo\\n'}, {38: 'não-primo\\n'}, {37: 'primo\\n'}, {83: 'primo\\n'}, {28: 'não-primo\\n'}, {8: 'não-primo\\n'}, {8: 'não-primo\\n'}, {55: 'não-primo\\n'}, {45: 'não-primo\\n'}, {21: 'não-primo\\n'}, {64: 'não-primo\\n'}, {43: 'primo\\n'}, {92: 'não-primo\\n'}, {62: 'não-primo\\n'}]\n"
          ]
        }
      ],
      "source": [
        "# Solução Teophilo\n",
        "arquivo = open('numeros.txt', 'r')\n",
        "conteudo = arquivo.read()\n",
        "lista_numeros = conteudo.split()\n",
        "lista_numeros = list(map(int, lista_numeros))\n",
        "\n",
        "def is_primo(lista):\n",
        "    lista_tipo = {}\n",
        "    if lista % 2 != 0 and lista % 3 != 0 and lista % 5 != 0:\n",
        "        lista_tipo[lista] = 'primo'\n",
        "    else:\n",
        "        lista_tipo[lista] = 'não-primo'\n",
        "\n",
        "    return lista_tipo\n",
        "\n",
        "\n",
        "new_lista = list(map(is_primo, lista_numeros))\n",
        "print(new_lista)\n",
        "arquivo.close()"
      ]
    },
    {
      "cell_type": "markdown",
      "metadata": {
        "id": "htCtkGbQyLoa"
      },
      "source": [
        "4) Escreva um programa que lê um arquivo de texto contendo uma série de números separados por quebra de linha (```\\n```). Crie um novo arquivo onde você irá escrever \"primo\" ou \"não-primo\" na linha correspondente a cada número.\n",
        "\n",
        "- Importante: Além dos argumento que já passamos comumente para o open(), passe o argumento 'utf-8' para parâmetro encoding dentro do open()."
      ]
    },
    {
      "cell_type": "code",
      "execution_count": 73,
      "metadata": {
        "id": "rItLhfB2uFaV"
      },
      "outputs": [],
      "source": [
        "numeros = open('numeros.txt', 'r', encoding='utf-8')\n",
        "conteudo = numeros.read().split()\n",
        "lista_numeros = list(map(int, conteudo))\n",
        "\n",
        "numeros_primos = open('numeros_primos.txt', 'w+', encoding='utf-8')\n",
        "\n",
        "for numero in lista_numeros:\n",
        "    verificacao = is_primo(numero)\n",
        "\n",
        "    numeros_primos.write(str(numero) + ' - ' + verificacao + '\\n')\n",
        "\n",
        "numeros.close()\n",
        "numeros_primos.close()"
      ]
    },
    {
      "cell_type": "markdown",
      "metadata": {
        "id": "sDHELy-EyLoc"
      },
      "source": [
        "# Arquivos CSV\n",
        "Muitos dados interessantes ou importantes estão disponíveis na forma de tabela. A capacidade de manipular planilhas foi determinante no sucesso dos computadores pessoais, dada sua importância para empresas e indivíduos.\n",
        "\n",
        "Aprenderemos a manipular dados utilizando um dos formatos de planilha mais amplamente utilizados na _web_: o formato CSV. Mas antes, como podemos representar tabelas em Python?\n",
        "\n",
        "## Tabelas em Python\n",
        "Conforme já mencionamos, temos módulos prontos para realizar muitas tarefas para nós. Um dos módulos mais populares em Python é o _pandas_, que mesmo não vindo instalado por padrão é provavelmente o módulo mais usado para manipular planilhas. Porém, como este é um curso introdutório, convém entendermos um pouquinho de lógica de como manipular uma tabela para futuramente sermos capazes de trabalhar corretamente com os módulos prontos.\n",
        "\n",
        "Uma das formas mais simples de se representar uma tabela em Python seria através de uma lista de listas. Nossa lista principal seria a tabela como um todo, e cada lista interna seria uma linha da tabela.\n",
        "\n",
        "Para acessar um elemento individual, utilizamos 2 índices: o primeiro indica a lista interna (linha) e o segundo o elemento individual na lista (coluna). Para percorrer a tabela inteira, utilizamos 2 _for_ aninhados: o mais externo fixa uma linha e o mais interno percorre cada elemento daquela linha."
      ]
    },
    {
      "cell_type": "markdown",
      "metadata": {},
      "source": [
        "comma separated values (csv)\n",
        "\n",
        "    nome  |  idade  |  local de nascimento\n",
        "\n",
        "    raul  |   30    |   ivaiporã\n",
        "\n",
        "nome,idade,localdenascimento\n",
        "\n",
        "raul,30,ivaiporã"
      ]
    },
    {
      "cell_type": "code",
      "execution_count": 23,
      "metadata": {
        "id": "tplR0mdauLpl"
      },
      "outputs": [
        {
          "data": {
            "text/html": [
              "<div>\n",
              "<style scoped>\n",
              "    .dataframe tbody tr th:only-of-type {\n",
              "        vertical-align: middle;\n",
              "    }\n",
              "\n",
              "    .dataframe tbody tr th {\n",
              "        vertical-align: top;\n",
              "    }\n",
              "\n",
              "    .dataframe thead th {\n",
              "        text-align: right;\n",
              "    }\n",
              "</style>\n",
              "<table border=\"1\" class=\"dataframe\">\n",
              "  <thead>\n",
              "    <tr style=\"text-align: right;\">\n",
              "      <th></th>\n",
              "      <th>0</th>\n",
              "      <th>1</th>\n",
              "      <th>2</th>\n",
              "      <th>3</th>\n",
              "    </tr>\n",
              "  </thead>\n",
              "  <tbody>\n",
              "    <tr>\n",
              "      <th>0</th>\n",
              "      <td>aluno</td>\n",
              "      <td>nota1</td>\n",
              "      <td>nota2</td>\n",
              "      <td>presenças</td>\n",
              "    </tr>\n",
              "    <tr>\n",
              "      <th>1</th>\n",
              "      <td>luke</td>\n",
              "      <td>7</td>\n",
              "      <td>9</td>\n",
              "      <td>15</td>\n",
              "    </tr>\n",
              "  </tbody>\n",
              "</table>\n",
              "</div>"
            ],
            "text/plain": [
              "       0      1      2          3\n",
              "0  aluno  nota1  nota2  presenças\n",
              "1   luke      7      9         15"
            ]
          },
          "execution_count": 23,
          "metadata": {},
          "output_type": "execute_result"
        }
      ],
      "source": [
        "# realizando em pandas apenas para citar o que vocês verão no próximo módulo\n",
        "import pandas as pd\n",
        "df = pd.DataFrame([[\"aluno\", \"nota1\", 'nota2', \"presenças\"],[\"luke\", 7, 9, 15]])\n",
        "df"
      ]
    },
    {
      "cell_type": "code",
      "execution_count": 24,
      "metadata": {
        "id": "8M3O6jdIuLxw"
      },
      "outputs": [
        {
          "data": {
            "text/html": [
              "<div>\n",
              "<style scoped>\n",
              "    .dataframe tbody tr th:only-of-type {\n",
              "        vertical-align: middle;\n",
              "    }\n",
              "\n",
              "    .dataframe tbody tr th {\n",
              "        vertical-align: top;\n",
              "    }\n",
              "\n",
              "    .dataframe thead th {\n",
              "        text-align: right;\n",
              "    }\n",
              "</style>\n",
              "<table border=\"1\" class=\"dataframe\">\n",
              "  <thead>\n",
              "    <tr style=\"text-align: right;\">\n",
              "      <th></th>\n",
              "      <th>aluno</th>\n",
              "      <th>nota1</th>\n",
              "      <th>nota2</th>\n",
              "      <th>presenças</th>\n",
              "    </tr>\n",
              "  </thead>\n",
              "  <tbody>\n",
              "    <tr>\n",
              "      <th>1</th>\n",
              "      <td>luke</td>\n",
              "      <td>7</td>\n",
              "      <td>9</td>\n",
              "      <td>15</td>\n",
              "    </tr>\n",
              "  </tbody>\n",
              "</table>\n",
              "</div>"
            ],
            "text/plain": [
              "0 aluno nota1 nota2 presenças\n",
              "1  luke     7     9        15"
            ]
          },
          "execution_count": 24,
          "metadata": {},
          "output_type": "execute_result"
        }
      ],
      "source": [
        "# caso queira substituir após\n",
        "new_header = df.iloc[0]\n",
        "df = df[1:]\n",
        "df.columns = new_header\n",
        "df"
      ]
    },
    {
      "cell_type": "code",
      "execution_count": 25,
      "metadata": {
        "id": "zuKQHJbpuL92"
      },
      "outputs": [
        {
          "data": {
            "text/html": [
              "<div>\n",
              "<style scoped>\n",
              "    .dataframe tbody tr th:only-of-type {\n",
              "        vertical-align: middle;\n",
              "    }\n",
              "\n",
              "    .dataframe tbody tr th {\n",
              "        vertical-align: top;\n",
              "    }\n",
              "\n",
              "    .dataframe thead th {\n",
              "        text-align: right;\n",
              "    }\n",
              "</style>\n",
              "<table border=\"1\" class=\"dataframe\">\n",
              "  <thead>\n",
              "    <tr style=\"text-align: right;\">\n",
              "      <th></th>\n",
              "      <th>aluno</th>\n",
              "      <th>nota1</th>\n",
              "      <th>nota2</th>\n",
              "      <th>presenças</th>\n",
              "    </tr>\n",
              "  </thead>\n",
              "  <tbody>\n",
              "    <tr>\n",
              "      <th>0</th>\n",
              "      <td>luke</td>\n",
              "      <td>7</td>\n",
              "      <td>9</td>\n",
              "      <td>15</td>\n",
              "    </tr>\n",
              "  </tbody>\n",
              "</table>\n",
              "</div>"
            ],
            "text/plain": [
              "  aluno  nota1  nota2  presenças\n",
              "0  luke      7      9         15"
            ]
          },
          "execution_count": 25,
          "metadata": {},
          "output_type": "execute_result"
        }
      ],
      "source": [
        "# caso queira colocar uma linha como header (cabeçalho)\n",
        "import pandas as pd\n",
        "df = pd.DataFrame(data=[[\"luke\", 7, 9, 15]],columns=[\"aluno\", \"nota1\", 'nota2', \"presenças\"])\n",
        "df"
      ]
    },
    {
      "cell_type": "code",
      "execution_count": 26,
      "metadata": {
        "id": "HtyI2PnUuMFk"
      },
      "outputs": [
        {
          "name": "stdout",
          "output_type": "stream",
          "text": [
            "Imprimindo cada elemento individual da tabela:\n",
            "Aluno\n",
            "Nota 1\n",
            "Nota 2\n",
            "Presenças\n",
            "Luke\n",
            "7\n",
            "9\n",
            "15\n",
            "Han\n",
            "4\n",
            "7\n",
            "10\n",
            "Leia\n",
            "9\n",
            "9\n",
            "16\n",
            "Imprimindo cada \"linha\" da tabela:\n",
            "['Aluno', 'Nota 1', 'Nota 2', 'Presenças']\n",
            "['Luke', 7, 9, 15]\n",
            "['Han', 4, 7, 10]\n",
            "['Leia', 9, 9, 16]\n",
            "Imprimindo o elemento na linha 2, coluna 0:\n",
            "Han\n"
          ]
        }
      ],
      "source": [
        "tabela = [['Aluno', 'Nota 1', 'Nota 2', 'Presenças'],\n",
        "          ['Luke', 7, 9, 15],\n",
        "          ['Han', 4, 7, 10],\n",
        "          ['Leia', 9, 9, 16]]\n",
        "\n",
        "print('Imprimindo cada elemento individual da tabela:')\n",
        "for linha in tabela:\n",
        "    for elemento in linha:\n",
        "        print(elemento)\n",
        "\n",
        "print('Imprimindo cada \"linha\" da tabela:')\n",
        "for linha in tabela:\n",
        "    print(linha)\n",
        "\n",
        "print('Imprimindo o elemento na linha 2, coluna 0:')\n",
        "print(tabela[2][0])"
      ]
    },
    {
      "cell_type": "markdown",
      "metadata": {
        "id": "wVEYg06zyLod"
      },
      "source": [
        "## O formato CSV\n",
        "A sigla CSV significa _Comma-Separated Values_, ou \"valores separados por vírgula\". Este formato é uma forma padrão de representar tabelas usando arquivos de texto simples: cada elemento é separado por uma vírgula, e cada linha é separada por uma quebra de linha.\n",
        "\n",
        "Na prática, nem sempre o padrão é seguido à risca: podemos utilizar outros símbolos para fazer a separação. Um bom motivo é o fato de a vírgula ser utilizada para representar casa decimal em algumas línguas, como a língua portuguesa. O importante é ser coerente: todos os elementos deverão ser separados pelo mesmo símbolo, e todas as linhas deverão ter o mesmo número de elementos.\n",
        "\n",
        "Caso queira fazer depois: Cole o texto abaixo em um editor de texto puro (como o Bloco de Notas, no Windows) e salve-o com a extensão .csv.\n",
        "\n",
        "```\n",
        "Aluno;Nota 1;Nota 2;Presenças\n",
        "Luke;7;9;15\n",
        "Han;4;7;10\n",
        "Leia;9;9;16\n",
        "```\n",
        "\n",
        "Caso você tenha um editor de planilha instalado, como o Excel, é provável que o ícone representando o arquivo seja o ícone do editor de planilhas, e não de um arquivo de texto. Abra-o com seu editor de planilha e observe como ele interpreta corretamente os dados!\n",
        "\n",
        "Devido ao fato de ser um formato aberto (ou seja, não é necessário pagar por propriedade intelectual para usar) e ser muito fácil de manipular, diversos programas diferentes possuem a opção de importar ou exportar dados em CSV, e diversas bases de dados na _web_ fornecem a opção de baixar os dados neste formato.\n",
        "\n",
        "## O módulo CSV em Python\n",
        "Devido à facilidade de trabalhar com arquivos CSV, com o que vimos sobre arquivos até o momento já conseguimos facilmente escrever um programinha que escreva uma planilha (representada como lista de listas) em um arquivo CSV. Da mesma forma, utilizando as funções que vimos de _strings_, conseguimos abrir um arquivo CSV e adequadamente reconhecer seus elementos (dica: _split_).\n",
        "\n",
        "Porém, como mencionamos antes, o Python possui muita coisa pronta, então não precisamos constantemente reinventar a roda. Existe um módulo chamado _csv_ que já vem instalado com o Python. Ele já faz sozinho o serviço bruto de transformar nossa lista de listas em um texto separado por símbolos e vice-versa."
      ]
    },
    {
      "cell_type": "markdown",
      "metadata": {
        "id": "vzfkE5bRelEG"
      },
      "source": [
        "\n",
        "### Escrevendo um CSV\n",
        "Para escrever um CSV utilizando o módulo, precisamos ter nossos dados representados como uma lista de listas. Criaremos (ou abriremos) um arquivo usando o _open_, como já fizemos antes, e utilizaremos um _CSV writer_ - uma estrutura que guardará as regrinhas para escrever nosso CSV. Execute o exemplo abaixo:"
      ]
    },
    {
      "cell_type": "code",
      "execution_count": 76,
      "metadata": {
        "id": "nh6PFph6uT5_"
      },
      "outputs": [],
      "source": [
        "import csv\n",
        "\n",
        "tabela = [['Aluno', 'Nota 1', 'Nota 2', 'Presenças'],\n",
        "          ['Luke', 7, 9, 15],\n",
        "          ['Han', 4, 7, 10],\n",
        "          ['Leia', 9, 9, 16]]\n",
        "\n",
        "# cria o arquivo CSV\n",
        "arquivo = open('alunos.csv', 'w')\n",
        "\n",
        "# definindo as regras do nosso CSV:\n",
        "# ele será escrito no arquivo apontado pela variável 'arquivo'\n",
        "# seus elementos serão delimitados (delimiter) pelo símbolo ';'\n",
        "# suas linhas serão encerradas (lineterminator) por uma quebra de linha\n",
        "escritor = csv.writer(arquivo, delimiter=';', lineterminator='\\n')\n",
        "\n",
        "# escreve uma lista de listas em formato CSV:\n",
        "escritor.writerows(tabela)\n",
        "\n",
        "# fecha e salva o arquivo\n",
        "arquivo.close()"
      ]
    },
    {
      "cell_type": "markdown",
      "metadata": {
        "id": "0vkpQZWyyLod"
      },
      "source": [
        "Após executar o programa acima, deve ter surgido um programa _alunos.csv_ na mesma pasta, e seu editor de planilhas provavelmente o reconhece com sucesso. Se você abri-lo com um editor de texto puro, verá os dados separados por **;** igualzinho ao arquivo que criamos manualmente antes.\n",
        "\n",
        "### Lendo um CSV\n",
        "O processo para ler o CSV é semelhante: utilizamos um _CSV reader_, com os mesmos parâmetros utilizados no _CSV writer_. A função _csv.reader_ já retorna para nós uma estrutura iterável (ou seja, que pode ser percorrida com _for_) contendo cada linha já organizada como lista."
      ]
    },
    {
      "cell_type": "code",
      "execution_count": 80,
      "metadata": {
        "id": "TNqxrPe-uYB5"
      },
      "outputs": [
        {
          "name": "stdout",
          "output_type": "stream",
          "text": [
            "['Aluno', 'Nota 1', 'Nota 2', 'Presenças']\n",
            "['Luke', '7', '9', '15']\n",
            "['Han', '4', '7', '10']\n",
            "['Leia', '9', '9', '16']\n"
          ]
        }
      ],
      "source": [
        "import csv\n",
        "arquivo = open('alunos.csv', 'r')\n",
        "\n",
        "planilha = csv.reader(arquivo, delimiter=';', lineterminator='\\n') # é um objeto iteravel\n",
        "\n",
        "for linha in planilha:\n",
        "    print(linha)\n",
        "\n",
        "arquivo.close()"
      ]
    },
    {
      "cell_type": "markdown",
      "metadata": {
        "id": "9B3MdTSFyLoe"
      },
      "source": [
        "Note que a estrutura **não é** uma lista, mas um objeto iterável. Vejamos o que acontece se tentarmos imprimi-lo diretamente:"
      ]
    },
    {
      "cell_type": "code",
      "execution_count": null,
      "metadata": {
        "id": "AbjKzih_ubBh"
      },
      "outputs": [],
      "source": []
    },
    {
      "cell_type": "markdown",
      "metadata": {
        "id": "Gvu9JApFyLoe"
      },
      "source": [
        "Caso você precise de mais flexibilidade para trabalhar com a sua planilha - por exemplo, caso deseje editá-la, criar novas colunas etc, convém converter a estrutura para uma lista de verdade. É possível usar um ```list``` no objeto para fazer a conversão:"
      ]
    },
    {
      "cell_type": "code",
      "execution_count": null,
      "metadata": {
        "id": "aLrUHem4udw5"
      },
      "outputs": [],
      "source": []
    },
    {
      "cell_type": "code",
      "execution_count": null,
      "metadata": {
        "id": "ITMoe8Lxuejb"
      },
      "outputs": [],
      "source": []
    },
    {
      "cell_type": "markdown",
      "metadata": {
        "id": "6isqo9wSyLof"
      },
      "source": [
        "# Exercícios - parte 2 (para fazer em casa)\n",
        "\n",
        "Use o módulo ```csv``` recém-estudado para fazer os próximos exercícios."
      ]
    },
    {
      "cell_type": "markdown",
      "metadata": {
        "id": "rZY_qluJBC7w"
      },
      "source": [
        "5) Faça um código que pede para o usuário digitar a quantidade de provas aplicadas, a quantidade de alunos em uma turma e cada uma das notas.\n",
        "\n",
        "- O seu programa deverá salvar apenas as notas digitadas em um arquivo CSV onde cada linha representa um aluno e cada coluna é uma nota da prova."
      ]
    },
    {
      "cell_type": "code",
      "execution_count": null,
      "metadata": {
        "id": "llOqYT6YuhMD"
      },
      "outputs": [],
      "source": []
    },
    {
      "cell_type": "code",
      "execution_count": null,
      "metadata": {
        "id": "7IrcF_8huhQx"
      },
      "outputs": [],
      "source": []
    },
    {
      "cell_type": "markdown",
      "metadata": {
        "id": "u5f_eL-tyLog"
      },
      "source": [
        "# Bônus: arquivos JSON\n",
        "\n",
        "JSON é uma sigla para _JavaScript Object Notation_. O _JavaScript_ é uma linguagem muito utilizada em web, e assim como o Python, ela é uma linguagem orientada a objeto. Ocorre que a forma como objetos são representados nessa linguagem é bastante legível para seres humanos e fácil de decompor usando programação também.\n",
        "\n",
        "Veja um exemplo de como podemos representar, por exemplo, um estudante em JavaScript:\n",
        "\n",
        "```\n",
        "{\n",
        "    nome: 'Mario',\n",
        "    modulo: 2,\n",
        "    media: 9.5\n",
        "}\n",
        "```\n",
        "\n",
        "Parece familiar? É extremamente parecido com dicionários em Python. O Python possui um módulo já instalado chamado ```json``` que nos ajuda a converter entre uma _string_ contendo um JSON e um dicionário.\n",
        "\n",
        "> **Atenção:** No caso do JSON faremos *exatamente* como nos dicionários em Python: as chaves deverão vir entre aspas.\n",
        "\n",
        "Os valores de um JSON podem ser vários tipos de dados que estamos acostumados em Python: inteiros, reais, _strings_, booleanos, e até mesmo listas (representadas com colchetes) e outros JSON/dicionários (representados por chaves). Por exemplo:\n",
        "\n",
        "```\n",
        "{\n",
        "    'escola':\"Let's Code\",\n",
        "    'cursos':[{'nome':'Python Pro', 'duracao':2},\n",
        "            {'nome':'Data Science', 'duracao':2},\n",
        "            {'nome':'Front-End', 'duracao':2}]\n",
        "}\n",
        "```\n",
        "\n",
        "### JSON para dicionário\n",
        "O método ```loads``` recebe uma _string_ contendo um JSON e retorna um dicionário, o que torna bastante fácil o acesso a informações individuais:"
      ]
    },
    {
      "cell_type": "code",
      "execution_count": 84,
      "metadata": {
        "id": "D7j3csXcurmr"
      },
      "outputs": [
        {
          "name": "stdout",
          "output_type": "stream",
          "text": [
            "Mario\n",
            "0\n"
          ]
        }
      ],
      "source": [
        "import json\n",
        "\n",
        "jogador = '{\"nome\":\"Mario\", \"pontuacao\":0}'\n",
        "\n",
        "dicionario = json.loads(jogador)\n",
        "\n",
        "print(dicionario['nome'])\n",
        "print(dicionario['pontuacao'])"
      ]
    },
    {
      "cell_type": "markdown",
      "metadata": {
        "id": "4AlKqBxEyLog"
      },
      "source": [
        "### Dicionário para JSON\n",
        "Já o método ```dumps``` recebe um dicionário e retorna uma _string_ pronta para ser salva ou enviada como JSON:"
      ]
    },
    {
      "cell_type": "code",
      "execution_count": 86,
      "metadata": {
        "id": "5WNVP76TutsK"
      },
      "outputs": [
        {
          "name": "stdout",
          "output_type": "stream",
          "text": [
            "{\"nome\": \"Mario\", \"pontuacao\": 0}\n"
          ]
        }
      ],
      "source": [
        "import json\n",
        "\n",
        "jogador = dict()\n",
        "\n",
        "jogador[\"nome\"] = \"Mario\"\n",
        "jogador[\"pontuacao\"] = 0\n",
        "\n",
        "string_json = json.dumps(jogador)\n",
        "print(string_json)"
      ]
    },
    {
      "cell_type": "markdown",
      "metadata": {
        "id": "UfuN-yDKhM4G"
      },
      "source": [
        "Por que deu erro?"
      ]
    },
    {
      "cell_type": "code",
      "execution_count": 87,
      "metadata": {
        "id": "_MuncVYwuu8Z"
      },
      "outputs": [
        {
          "data": {
            "text/plain": [
              "'Mario'"
            ]
          },
          "execution_count": 87,
          "metadata": {},
          "output_type": "execute_result"
        }
      ],
      "source": [
        "jogador['nome']"
      ]
    },
    {
      "cell_type": "markdown",
      "metadata": {
        "id": "qLlGddyDyLoh"
      },
      "source": [
        "### E os arquivos?\n",
        "\n",
        "Arquivos JSON, assim como CSV, são arquivos de texto puro onde o texto deve representar a estrutura dada acima. Sendo assim, caso você tenha um arquivo ```.json```, você pode abri-lo usando as mesmas técnicas que estudamos para arquivos de texto (```open```/```read```) e em seguida usar o ```loads``` para obter um dicionário.\n",
        "\n",
        "Já quando temos um dicionário que gostaríamos de salvar como um ```.json```, basta usar o ```dumps``` para obter a string, e em seguida podemos utilizar ```write``` no arquivo desejado."
      ]
    },
    {
      "cell_type": "code",
      "execution_count": 88,
      "metadata": {
        "id": "EV_XcCXVu06y"
      },
      "outputs": [],
      "source": [
        "arquivo = open('arquivo_json.json', 'w')\n",
        "arquivo.write(string_json)\n",
        "arquivo.close()"
      ]
    },
    {
      "cell_type": "code",
      "execution_count": 92,
      "metadata": {
        "id": "XyeP7C4tu0_b"
      },
      "outputs": [
        {
          "ename": "ValueError",
          "evalue": "I/O operation on closed file.",
          "output_type": "error",
          "traceback": [
            "\u001b[1;31m---------------------------------------------------------------------------\u001b[0m",
            "\u001b[1;31mValueError\u001b[0m                                Traceback (most recent call last)",
            "Cell \u001b[1;32mIn[92], line 4\u001b[0m\n\u001b[0;32m      1\u001b[0m \u001b[38;5;28;01mimport\u001b[39;00m \u001b[38;5;21;01mjson\u001b[39;00m\n\u001b[0;32m      3\u001b[0m aqruivo \u001b[38;5;241m=\u001b[39m \u001b[38;5;28mopen\u001b[39m(\u001b[38;5;124m\"\u001b[39m\u001b[38;5;124marquivo_json.json\u001b[39m\u001b[38;5;124m\"\u001b[39m, \u001b[38;5;124m\"\u001b[39m\u001b[38;5;124mr\u001b[39m\u001b[38;5;124m\"\u001b[39m)\n\u001b[1;32m----> 4\u001b[0m conteudo \u001b[38;5;241m=\u001b[39m \u001b[43marquivo\u001b[49m\u001b[38;5;241;43m.\u001b[39;49m\u001b[43mread\u001b[49m\u001b[43m(\u001b[49m\u001b[43m)\u001b[49m\n\u001b[0;32m      6\u001b[0m dicionario \u001b[38;5;241m=\u001b[39m json\u001b[38;5;241m.\u001b[39mloads(conteudo)\n\u001b[0;32m      8\u001b[0m \u001b[38;5;28mprint\u001b[39m(dicionario\u001b[38;5;241m.\u001b[39mitems())\n",
            "\u001b[1;31mValueError\u001b[0m: I/O operation on closed file."
          ]
        }
      ],
      "source": [
        "import json\n",
        "\n",
        "aqruivo = open(\"arquivo_json.json\", \"r\")\n",
        "conteudo = arquivo.read()\n",
        "\n",
        "dicionario = json.loads(conteudo)\n",
        "\n",
        "print(dicionario.items())\n",
        "arquivo.close()"
      ]
    },
    {
      "cell_type": "code",
      "execution_count": 93,
      "metadata": {},
      "outputs": [
        {
          "name": "stdout",
          "output_type": "stream",
          "text": [
            "dict_items([('nome', 'Mario'), ('pontuacao', 0)])\n"
          ]
        }
      ],
      "source": [
        "import json\n",
        "\n",
        "# Usando 'with' para abrir o arquivo\n",
        "with open(\"arquivo_json.json\", \"r\") as arquivo:\n",
        "    conteudo = arquivo.read()\n",
        "    dicionario = json.loads(conteudo)\n",
        "    \n",
        "print(dicionario.items())\n"
      ]
    }
  ],
  "metadata": {
    "colab": {
      "provenance": []
    },
    "interpreter": {
      "hash": "ad2bdc8ecc057115af97d19610ffacc2b4e99fae6737bb82f5d7fb13d2f2c186"
    },
    "kernelspec": {
      "display_name": "Python 3.9.7 ('base')",
      "language": "python",
      "name": "python3"
    },
    "language_info": {
      "codemirror_mode": {
        "name": "ipython",
        "version": 3
      },
      "file_extension": ".py",
      "mimetype": "text/x-python",
      "name": "python",
      "nbconvert_exporter": "python",
      "pygments_lexer": "ipython3",
      "version": "3.12.2"
    },
    "orig_nbformat": 4
  },
  "nbformat": 4,
  "nbformat_minor": 0
}
