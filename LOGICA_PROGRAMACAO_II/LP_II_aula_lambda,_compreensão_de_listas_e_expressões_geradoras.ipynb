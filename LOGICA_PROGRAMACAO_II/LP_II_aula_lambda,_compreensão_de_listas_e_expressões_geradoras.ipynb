{
  "cells": [
    {
      "cell_type": "markdown",
      "metadata": {
        "id": "IHvMOoqVdibm"
      },
      "source": [
        "## funções lambda"
      ]
    },
    {
      "cell_type": "markdown",
      "metadata": {
        "id": "EbeAiTfkdibn"
      },
      "source": [
        "A função lambda é mais uma maneira de criar as funções que já conhecemos.\n",
        "\n",
        "A lambda function acaba sendo utilizada quando você procura criar uma função relativamente curta e/ou que será executada para uma ação específica e não há necessidade tão grande de reutiliza-la, principalmente quando comparada com a criação que já havíamos conhecido anteriormente utilizando o def\n",
        "\n",
        "Além disso, as funções lambda são uma única expressão. E não é necessário escrever \"return\" para ela retornar o valor, pois ela já fará isso \"automaticamente\".\n",
        "\n",
        "\n",
        "Por essas características mencionadas, não é \"esperado\" que funções desse tipo tenham bastante código. Outro fator que estimula a deixá-la sucinta é o fato de não aceitar doc strings"
      ]
    },
    {
      "cell_type": "markdown",
      "metadata": {
        "id": "8pvs_2NLdibm"
      },
      "source": [
        "estrutura da lambda function:\n",
        "```python\n",
        "lambda parametros: expressao a ser retornada\n",
        "```"
      ]
    },
    {
      "cell_type": "markdown",
      "metadata": {
        "id": "irqRtXFiSRAP"
      },
      "source": [
        "como podemos perceber, as lambda functions não recebem um nome, diferente de quando chamamos da outra forma que conhecíamos\n",
        "\n",
        "```python\n",
        "def minha_funcao()\n",
        "```\n",
        "\n",
        "é por isso que as funções lambda também são chamadas de funções anônimas"
      ]
    },
    {
      "cell_type": "code",
      "execution_count": 3,
      "metadata": {
        "id": "Sw9XCNeqdibn"
      },
      "outputs": [
        {
          "data": {
            "text/plain": [
              "9"
            ]
          },
          "execution_count": 3,
          "metadata": {},
          "output_type": "execute_result"
        }
      ],
      "source": [
        "def minha_funcao(x):\n",
        "  return x ** 2\n",
        "\n",
        "minha_funcao(3)"
      ]
    },
    {
      "cell_type": "code",
      "execution_count": 2,
      "metadata": {
        "id": "xtzylBiGdibn"
      },
      "outputs": [
        {
          "data": {
            "text/plain": [
              "<function __main__.<lambda>(x)>"
            ]
          },
          "execution_count": 2,
          "metadata": {},
          "output_type": "execute_result"
        }
      ],
      "source": [
        "lambda x: x**2\n"
      ]
    },
    {
      "cell_type": "code",
      "execution_count": 4,
      "metadata": {
        "id": "QNLRdJHzdibn"
      },
      "outputs": [
        {
          "data": {
            "text/plain": [
              "9"
            ]
          },
          "execution_count": 4,
          "metadata": {},
          "output_type": "execute_result"
        }
      ],
      "source": [
        "(lambda x: x**2)(3)\n"
      ]
    },
    {
      "cell_type": "code",
      "execution_count": 8,
      "metadata": {
        "id": "K08dpc2Edibn"
      },
      "outputs": [
        {
          "data": {
            "text/plain": [
              "6"
            ]
          },
          "execution_count": 8,
          "metadata": {},
          "output_type": "execute_result"
        }
      ],
      "source": [
        "# podem definir os mesmos parâmetros assim como nas funções\n",
        "(lambda x, y, z: x + y + z)(1, 2, 3)\n",
        "\n",
        "(lambda x, y, z=3: x + y + z)(1, 2)\n",
        "\n",
        "(lambda x, y, z=3: x + y + z)(1, y=2)\n",
        "\n",
        "(lambda *args: sum(args))(1,2,3)\n",
        "\n",
        "(lambda **kwargs: sum(kwargs.values()))(one=1, two=2, three=3)\n",
        "\n",
        "(lambda x, *, y=0, z=0: x + y + z)(1, y=2, z=3)"
      ]
    },
    {
      "cell_type": "code",
      "execution_count": 9,
      "metadata": {
        "id": "fLX9FknZGZSv"
      },
      "outputs": [],
      "source": [
        "from functools import reduce"
      ]
    },
    {
      "cell_type": "code",
      "execution_count": 13,
      "metadata": {
        "id": "Np6vlrR7GZXv"
      },
      "outputs": [
        {
          "data": {
            "text/plain": [
              "24"
            ]
          },
          "execution_count": 13,
          "metadata": {},
          "output_type": "execute_result"
        }
      ],
      "source": [
        "lista = [1,2,3,4]\n",
        "reduce(lambda x, y: x * y, lista)"
      ]
    },
    {
      "cell_type": "code",
      "execution_count": 16,
      "metadata": {
        "id": "qt5evyXyGZci"
      },
      "outputs": [
        {
          "data": {
            "text/plain": [
              "<function __main__.<lambda>(x)>"
            ]
          },
          "execution_count": 16,
          "metadata": {},
          "output_type": "execute_result"
        }
      ],
      "source": [
        "lambda x: 'é par' if x % 2 == 0 else 'é ímpar'"
      ]
    },
    {
      "cell_type": "code",
      "execution_count": 18,
      "metadata": {
        "id": "lW3KKphFGZij"
      },
      "outputs": [
        {
          "data": {
            "text/plain": [
              "[2, 4, 6, 8]"
            ]
          },
          "execution_count": 18,
          "metadata": {},
          "output_type": "execute_result"
        }
      ],
      "source": [
        "list(filter(lambda numero: True if numero % 2 == 0 else False , [1,2,3,4,5,6,7,8,9]))"
      ]
    },
    {
      "cell_type": "code",
      "execution_count": 23,
      "metadata": {},
      "outputs": [
        {
          "data": {
            "text/plain": [
              "[2, 4, 6, 8, 10]"
            ]
          },
          "execution_count": 23,
          "metadata": {},
          "output_type": "execute_result"
        }
      ],
      "source": [
        "tupla_numeros = (1,2,3,4,5)\n",
        "(lambda colecao: [x * 2 for x in colecao])(tupla_numeros)"
      ]
    },
    {
      "cell_type": "markdown",
      "metadata": {
        "id": "i3mG2KMEgUZH"
      },
      "source": [
        "# Compreensão de listas e expressões geradoras\n",
        "\n",
        "Muito do que estudamos até o momento em Python pode ser reproduzido de maneira muito parecida em outras linguagens. Comandos como if, else, while e for, bem como conceitos como criar funções, passar parâmetros e retornar valores são comuns a uma infinidade de linguagens de programação.\n",
        "\n",
        "Porém, um dos objetivos da linguagem Python é realizar o máximo possível de trabalho com a menor quantidade possível de código, resultando em um código mais limpo e com menos efeitos colaterais.\n",
        "\n",
        "Com isso, o Python traz maneiras diferentes e mais enxutas de resolver problemas que já lidávamos bem utilizando outras técnicas.\n",
        "\n",
        "As **compreensões de listas** e **expressões geradoras** são algumas dessas ferramentas."
      ]
    },
    {
      "cell_type": "markdown",
      "metadata": {
        "id": "JTEAgNkAgUZK"
      },
      "source": [
        "## Compreensão de listas\n",
        "\n",
        "Vamos considerar um probleminha simples: montar uma lista com os quadrados dos números de 1 até 10. Uma das maneiras de resolver problema seria:"
      ]
    },
    {
      "cell_type": "code",
      "execution_count": 35,
      "metadata": {
        "id": "cRf3RyEmgUZL"
      },
      "outputs": [
        {
          "name": "stdout",
          "output_type": "stream",
          "text": [
            "[1, 4, 9, 16, 25, 36, 49, 64, 81, 100]\n",
            "10\n"
          ]
        }
      ],
      "source": [
        "quadrados = []\n",
        "\n",
        "for x in range(1, 11):\n",
        "    quadrados.append(x**2)\n",
        "\n",
        "print(quadrados)\n",
        "print(x)"
      ]
    },
    {
      "cell_type": "markdown",
      "metadata": {
        "id": "mLlKXfFqgUZN"
      },
      "source": [
        "Note que utilizamos 3 linhas de código para criar uma lista: uma para declarar uma lista, uma para percorrer alguns valores e uma para executar o cálculo e adicionar o resultado à lista.\n",
        "\n",
        "Além disso, criamos uma variável extra, ```x```, que segue existindo em nosso programa mesmo após o loop, como você pode observar pelo segundo ```print``` do exemplo.\n",
        "\n",
        "A **compreensão de listas** resolve todos esses problemas: iremos resumir em uma única linha a criação da nova lista já com todos os valores desejados, e sem variáveis *sobrando* após a execução:"
      ]
    },
    {
      "cell_type": "code",
      "execution_count": 29,
      "metadata": {
        "id": "BH7kMPrGHHD5"
      },
      "outputs": [
        {
          "data": {
            "text/plain": [
              "[1, 4, 9, 16, 25, 36, 49, 64, 81, 100]"
            ]
          },
          "execution_count": 29,
          "metadata": {},
          "output_type": "execute_result"
        }
      ],
      "source": [
        "# toda compreensão de lista começa com []\n",
        "\n",
        "[numero ** 2 for numero in range(1, 11)]"
      ]
    },
    {
      "cell_type": "code",
      "execution_count": 33,
      "metadata": {},
      "outputs": [
        {
          "name": "stdout",
          "output_type": "stream",
          "text": [
            "[1, 4, 9, 16, 25, 36, 49, 64, 81, 100]\n"
          ]
        }
      ],
      "source": [
        "quadrados_compreensao = [numero ** 2 for numero in range(1, 11)]\n",
        "print(quadrados_compreensao)"
      ]
    },
    {
      "cell_type": "markdown",
      "metadata": {
        "id": "C6ua16uEgUZN"
      },
      "source": [
        "Note que a variável criada na versão extensa ainda existe. A variável ```num``` utilizada na compreensão, não:"
      ]
    },
    {
      "cell_type": "code",
      "execution_count": 38,
      "metadata": {
        "id": "mpdqu57lHOKq"
      },
      "outputs": [
        {
          "name": "stdout",
          "output_type": "stream",
          "text": [
            "x: 10\n"
          ]
        },
        {
          "ename": "NameError",
          "evalue": "name 'numero' is not defined",
          "output_type": "error",
          "traceback": [
            "\u001b[1;31m---------------------------------------------------------------------------\u001b[0m",
            "\u001b[1;31mNameError\u001b[0m                                 Traceback (most recent call last)",
            "Cell \u001b[1;32mIn[38], line 2\u001b[0m\n\u001b[0;32m      1\u001b[0m \u001b[38;5;28mprint\u001b[39m(\u001b[38;5;124m\"\u001b[39m\u001b[38;5;124mx:\u001b[39m\u001b[38;5;124m\"\u001b[39m, x)\n\u001b[1;32m----> 2\u001b[0m \u001b[38;5;28mprint\u001b[39m(\u001b[38;5;124m\"\u001b[39m\u001b[38;5;124mnumero:\u001b[39m\u001b[38;5;124m\"\u001b[39m, \u001b[43mnumero\u001b[49m)\n",
            "\u001b[1;31mNameError\u001b[0m: name 'numero' is not defined"
          ]
        }
      ],
      "source": [
        "print(\"x:\", x)\n",
        "print(\"numero:\", numero)"
      ]
    },
    {
      "cell_type": "markdown",
      "metadata": {
        "id": "aIWmVK3VgUZP"
      },
      "source": [
        "Vale destacar que você não precisa necessariamente utilizar ```range``` em suas compreensões. Você pode utilizar **qualquer** tipo de iterável, como listas, tuplas, strings etc.\n",
        "\n",
        "O exemplo abaixo monta uma lista contendo a metade do valor de cada elemento de uma outra lista:"
      ]
    },
    {
      "cell_type": "code",
      "execution_count": 39,
      "metadata": {
        "id": "DgqLCxRtgUZP"
      },
      "outputs": [
        {
          "data": {
            "text/plain": [
              "[0.5, 4.5, 2.0, 3.5, 3.0, 1.0]"
            ]
          },
          "execution_count": 39,
          "metadata": {},
          "output_type": "execute_result"
        }
      ],
      "source": [
        "numeros = [1, 9, 4, 7, 6, 2]\n",
        "\n",
        "[n/2 for n in numeros]"
      ]
    },
    {
      "cell_type": "code",
      "execution_count": 48,
      "metadata": {},
      "outputs": [
        {
          "data": {
            "text/plain": [
              "['joao', 'fabio', 'carlos', 'maria', 'carlos', 'gabriela']"
            ]
          },
          "execution_count": 48,
          "metadata": {},
          "output_type": "execute_result"
        }
      ],
      "source": [
        "strings = ['joao', 'fabio', 'carlos cesar', 'maria antonieta', 'carlos alberto', 'gabriela da silva']\n",
        "\n",
        "[palavra.split()[0] for palavra in strings]"
      ]
    },
    {
      "cell_type": "markdown",
      "metadata": {
        "id": "izavFpergUZQ"
      },
      "source": [
        "### Condicionais em compreensões\n",
        "\n",
        "Podemos utilizar compreensões em nossas condicionais. Imagine que no exemplo anterior não pudéssemos aceitar valores \"quebrados\", e para isso não iremos dividir números ímpares, apenas pares. Podemos colocar um ```if``` na expressão:"
      ]
    },
    {
      "cell_type": "code",
      "execution_count": 50,
      "metadata": {
        "id": "w59LVjAaH4Di"
      },
      "outputs": [
        {
          "data": {
            "text/plain": [
              "[2.0, 3.0, 1.0]"
            ]
          },
          "execution_count": 50,
          "metadata": {},
          "output_type": "execute_result"
        }
      ],
      "source": [
        "[n/2 for n in numeros if n % 2 == 0]"
      ]
    },
    {
      "cell_type": "code",
      "execution_count": null,
      "metadata": {},
      "outputs": [],
      "source": []
    },
    {
      "cell_type": "markdown",
      "metadata": {
        "id": "RHB4XHhAgUZR"
      },
      "source": [
        "Podemos também utilizar ```else``` na expressão. Vejamos mais um exemplo e em seguida generalizaremos a sintaxe das compreensões de lista.\n",
        "\n",
        "Considere que vamos, sim, aceitar números quebrados no exemplo das metades. Porém, não queremos utilizar o tipo float desnecessariamente. Portanto, faremos uma divisão **inteira** quando o número for par (para que o resultado seja int) e uma divisão **real** quando o número for ímpar (para que o resultado seja float). A expressão ficaria assim:"
      ]
    },
    {
      "cell_type": "code",
      "execution_count": 40,
      "metadata": {
        "id": "BZGnNm8B98na"
      },
      "outputs": [
        {
          "name": "stdout",
          "output_type": "stream",
          "text": [
            "2\n",
            "2.0\n"
          ]
        }
      ],
      "source": [
        "print(10 // 5)\n",
        "\n",
        "print(10 /5)"
      ]
    },
    {
      "cell_type": "code",
      "execution_count": 53,
      "metadata": {
        "id": "0FtNZHd99kfX"
      },
      "outputs": [
        {
          "name": "stdout",
          "output_type": "stream",
          "text": [
            "['1 é ímpar', '9 é ímpar', '4 é par', '7 é ímpar', '6 é par', '2 é par']\n"
          ]
        }
      ],
      "source": [
        "numeros = [1, 9, 4, 7, 6, 2]\n",
        "metades_tipo = [str(n) + \" é par\" if n % 2 == 0 else str(n) + \" é ímpar\" for n in numeros]\n",
        "\n",
        "print(metades_tipo)"
      ]
    },
    {
      "cell_type": "markdown",
      "metadata": {
        "id": "WkxJP1pOgUZS"
      },
      "source": [
        "Note que quando colocamos o ```else```, a ordem da compreensão sofreu uma alteração. Quando era apenas ```if```, ele vinha após o ```for```. Com o ```else```, ambos vem antes.\n",
        "\n",
        "Outro ponto importante é que no caso do ```else``` passamos a ter uma segunda expressão. Quando a condição do ```if``` é verdadeira, a compreensão irá executar a expressão original. Caso contrário, ele irá executar a expressão do ```else```.\n",
        "\n",
        "Resumindo as combinações possíveis:\n",
        "\n",
        "```py\n",
        "lista = [expressao for item in colecao]\n",
        "\n",
        "# equivale a:\n",
        "\n",
        "for item in colecao:\n",
        "    lista.append(expressao)\n",
        "```\n",
        "---\n",
        "\n",
        "```py\n",
        "[expressao for item in colecao if condicao]\n",
        "\n",
        "# equivale a:\n",
        "\n",
        "for item in colecao:\n",
        "    if condicao:\n",
        "        lista.append(expressao)\n",
        "```\n",
        "\n",
        "---\n",
        "\n",
        "```py\n",
        "[expressao if condicao else expressao_alternativa for item in colecao]\n",
        "\n",
        "# equivale a:\n",
        "\n",
        "for item in colecao:\n",
        "    if condicao:\n",
        "        lista.append(expressao)\n",
        "    else:\n",
        "        lista.append(expressao_alternativa)\n",
        "```\n",
        "\n",
        "### Aninhando compreensões\n",
        "\n",
        "É possível aninhar compreensões de lista. Ao colocarmos mais de um ```for``` consecutivo, o primeiro for será considerado o mais externo, e o seguinte, mais interno. O exemplo abaixo mostra todas as combinações possíveis entre alguns nomes e sobrenomes:"
      ]
    },
    {
      "cell_type": "code",
      "execution_count": 54,
      "metadata": {
        "id": "wzD3djE0MAvs"
      },
      "outputs": [
        {
          "data": {
            "text/plain": [
              "['ana silva',\n",
              " 'marcelo silva',\n",
              " 'caio silva',\n",
              " 'joao silva',\n",
              " 'ana carvalho',\n",
              " 'marcelo carvalho',\n",
              " 'caio carvalho',\n",
              " 'joao carvalho',\n",
              " 'ana almeida',\n",
              " 'marcelo almeida',\n",
              " 'caio almeida',\n",
              " 'joao almeida']"
            ]
          },
          "execution_count": 54,
          "metadata": {},
          "output_type": "execute_result"
        }
      ],
      "source": [
        "nomes = ['ana', 'marcelo', 'caio', 'joao']\n",
        "sobrenomes = ['silva', 'carvalho', 'almeida']\n",
        "\n",
        "[nome + \" \" + sobrenome for sobrenome in sobrenomes for nome in nomes]"
      ]
    },
    {
      "cell_type": "markdown",
      "metadata": {
        "id": "8a736QH2gUZT"
      },
      "source": [
        "Inclusive podemos utilizar essa forma para trabalhar com matrizes. O exemplo abaixo lê pelo teclado a quantidade de vitórias, empates e derrotas para cada time em um grupo:"
      ]
    },
    {
      "cell_type": "code",
      "execution_count": 55,
      "metadata": {
        "id": "pj0dtv4qgUZT"
      },
      "outputs": [
        {
          "name": "stdout",
          "output_type": "stream",
          "text": [
            "[[5, 3, 2], [3, 1, 5], [2, 3, 1], [2, 2, 2]]\n"
          ]
        }
      ],
      "source": [
        "times = ['Atlético Python', 'JavaScript United', 'C Seniors', 'Javeiros do Norte']\n",
        "entradas = ['V', 'E', 'D']\n",
        "\n",
        "tabela = [[int(input(f'Digite a quantidade de {tipo} do time {time}')) for tipo in entradas] for time in times]\n",
        "\n",
        "print(tabela)"
      ]
    },
    {
      "cell_type": "code",
      "execution_count": 57,
      "metadata": {
        "id": "fIOItFQzM3fi"
      },
      "outputs": [
        {
          "name": "stdout",
          "output_type": "stream",
          "text": [
            "[5, 1, 2, 3, 4, 5]\n"
          ]
        }
      ],
      "source": [
        "# também é possível fazer sem a necessidade de ter list comprehension aninhadas\n",
        "times = ['Atlético Python', 'JavaScript United']\n",
        "entradas = ['V', 'E', 'D']\n",
        "\n",
        "tabela = [int(input(f'Digite a quantidade de {tipo} do time {time}')) for tipo in entradas for time in times]\n",
        "\n",
        "print(tabela)"
      ]
    },
    {
      "cell_type": "markdown",
      "metadata": {
        "id": "wY-tvN42gUZT"
      },
      "source": [
        "### Compreensão de dicionários\n",
        "\n",
        "Da mesma forma que utilizamos compreensão para listas, podemos utilizá-la para dicionários. A diferença é que precisamos, obrigatoriamente, passar um par chave-valor. O exemplo abaixo parte de uma lista de notas e uma lista de alunos e chega em um dicionário associando cada aluno a uma nota.\n",
        "\n"
      ]
    },
    {
      "cell_type": "code",
      "execution_count": 58,
      "metadata": {
        "id": "yvDI688cgUZU"
      },
      "outputs": [
        {
          "name": "stdout",
          "output_type": "stream",
          "text": [
            "{'Ana': 9.0, 'Bruno': 8.0, 'Carla': 8.0, 'Daniel': 6.5, 'Emília': 7.0}\n"
          ]
        }
      ],
      "source": [
        "alunos = ['Ana', 'Bruno', 'Carla', 'Daniel', 'Emília']\n",
        "medias = [9.0, 8.0, 8.0, 6.5, 7.0]\n",
        "\n",
        "cadastro = {alunos[i]:medias[i] for i in range(len(alunos))}\n",
        "\n",
        "print(cadastro)"
      ]
    },
    {
      "cell_type": "markdown",
      "metadata": {
        "id": "ETEYOOjYgUZU"
      },
      "source": [
        "Também podemos chegar no mesmo resultado de uma forma mais *pythonica* usando o zip():"
      ]
    },
    {
      "cell_type": "code",
      "execution_count": 59,
      "metadata": {
        "id": "WB4CEEKdgUZU"
      },
      "outputs": [
        {
          "name": "stdout",
          "output_type": "stream",
          "text": [
            "('Ana', 9.0)\n",
            "('Bruno', 8.0)\n",
            "('Carla', 8.0)\n",
            "('Daniel', 6.5)\n",
            "('Emília', 7.0)\n"
          ]
        }
      ],
      "source": [
        "# vamos primeiro ver como a função zip() funciona\n",
        "alunos = ['Ana', 'Bruno', 'Carla', 'Daniel', 'Emília']\n",
        "medias = [9.0, 8.0, 8.0, 6.5, 7.0]\n",
        "\n",
        "zip_alunos = zip(alunos, medias) # passo dois iteráveis\n",
        "\n",
        "for item in zip_alunos:\n",
        "    print(item)"
      ]
    },
    {
      "cell_type": "code",
      "execution_count": 60,
      "metadata": {
        "id": "o-E4NolFkoYf"
      },
      "outputs": [
        {
          "data": {
            "text/plain": [
              "{'Ana': 9.0, 'Bruno': 8.0, 'Carla': 8.0, 'Daniel': 6.5, 'Emília': 7.0}"
            ]
          },
          "execution_count": 60,
          "metadata": {},
          "output_type": "execute_result"
        }
      ],
      "source": [
        "alunos = ['Ana', 'Bruno', 'Carla', 'Daniel', 'Emília']\n",
        "medias = [9.0, 8.0, 8.0, 6.5, 7.0]\n",
        "\n",
        "{aluno:media for aluno,media in zip(alunos,medias)}"
      ]
    },
    {
      "cell_type": "markdown",
      "metadata": {
        "id": "nFnbPJmIgUZV"
      },
      "source": [
        "O *zip* montou uma coleção onde cada elemento é uma tupla contendo um elemento da primeira lista associado ao elemento da mesma posição na segunda lista. Utilizando o nosso bom e velho *tuple unpacking*, podemos tirar proveito disso para percorrer duas listas em paralelo:"
      ]
    },
    {
      "cell_type": "code",
      "execution_count": 61,
      "metadata": {
        "id": "MZObUCwpgUZV"
      },
      "outputs": [
        {
          "name": "stdout",
          "output_type": "stream",
          "text": [
            "Aluno: Ana\t | Média:9.0\n",
            "Aluno: Bruno\t | Média:8.0\n",
            "Aluno: Carla\t | Média:8.0\n",
            "Aluno: Daniel\t | Média:6.5\n",
            "Aluno: Emília\t | Média:7.0\n"
          ]
        }
      ],
      "source": [
        "for a, m in zip(alunos, medias):\n",
        "    print(f'Aluno: {a}\\t | Média:{m}')"
      ]
    },
    {
      "cell_type": "markdown",
      "metadata": {
        "id": "WQ7X9jpxBIOn"
      },
      "source": [
        "Para utilizar if/else em compreensão de dicionários, a sintaxe é similar às listas.\n",
        "O ponto de atenção é criar as condições das chaves e dos valores separadas. Para isso, pode utilizar dos parênteses (logica chave):(logica valor)\n",
        "\n",
        "```python\n",
        "\n",
        "{(chave_quando_true if condition else chave_quando_false):(valor_quando_true if condition else valor_quando_false) for chave, valor in dicionario.items() }\n",
        "```"
      ]
    },
    {
      "cell_type": "code",
      "execution_count": 66,
      "metadata": {
        "id": "2Ax1trJ8Bcw7"
      },
      "outputs": [
        {
          "data": {
            "text/plain": [
              "{'Joao': 34, 'Maria': 24, 'Antonio': 'data inválida'}"
            ]
          },
          "execution_count": 66,
          "metadata": {},
          "output_type": "execute_result"
        }
      ],
      "source": [
        "nomes = ['joao', 'maria', 'antonio']\n",
        "nascimentos = [1990,2000, 1890]\n",
        "ano_atual = 2024\n",
        "\n",
        "{nome.capitalize():\n",
        " (ano_atual - nascimento \n",
        "  if nascimento >= 1900 \n",
        "  else \"data inválida\") \n",
        "  for nome,nascimento in zip(nomes,nascimentos)}"
      ]
    },
    {
      "cell_type": "markdown",
      "metadata": {
        "id": "SmKFLaoUgUZZ"
      },
      "source": [
        ">\n",
        "> **Observação:** se você tentou fazer uma compreensão de dicionário e esqueceu de utilizar um par chave-valor, talvez você tenha se surpreendido ao notar que não deu erro. Isso ocorre porque existe *outra* estrutura de dados em Python que não estudamos no curso que utiliza os símbolos **{** e **}**: o ```set``` (conjunto). Ele é uma coleção **mutável** de elementos (como a lista), mas ele não possui índice (porque a ordem não importa) e ele não aceita elementos repetidos. Caso tenha curiosidade, segue material de referência com o básico de como trabalhar com conjuntos: https://www.programiz.com/python-programming/set\n",
        ">"
      ]
    },
    {
      "cell_type": "markdown",
      "metadata": {
        "id": "y48tZK8agUZV"
      },
      "source": [
        "## Expressões geradoras\n",
        "\n",
        "Se você executar o código abaixo, não notará nenhum erro de execução. Ambas as linhas executam com sucesso:"
      ]
    },
    {
      "cell_type": "code",
      "execution_count": 69,
      "metadata": {
        "id": "YdVXvjpkgUZW"
      },
      "outputs": [],
      "source": [
        "colchetes = [x for x in range(10)]\n",
        "\n",
        "parenteses = (x for x in range(10))\n"
      ]
    },
    {
      "cell_type": "markdown",
      "metadata": {
        "id": "ITXE-ehIgUZW"
      },
      "source": [
        "Listas são representadas por colchetes, e fazemos compreensão de listas utilizando colchetes. Dicionários utilizam chaves (**{** e **}**), e utilizamos chaves para fazer compreensão de dicionários. A expressão entre parênteses só pode ser uma tupla, certo?"
      ]
    },
    {
      "cell_type": "code",
      "execution_count": null,
      "metadata": {
        "colab": {
          "base_uri": "https://localhost:8080/"
        },
        "id": "fx5W5JuzgUZW",
        "outputId": "df848f9b-8458-4c3d-95c6-aa82ad3a36e8"
      },
      "outputs": [
        {
          "name": "stdout",
          "output_type": "stream",
          "text": [
            "[0, 1, 2, 3, 4, 5, 6, 7, 8, 9]\n",
            "<class 'list'>\n",
            "<generator object <genexpr> at 0x7c6fb1758900>\n",
            "<class 'generator'>\n"
          ]
        }
      ],
      "source": [
        "print(colchetes)\n",
        "print(type(colchetes))\n",
        "\n",
        "print(parenteses)\n",
        "print(type(parenteses))"
      ]
    },
    {
      "cell_type": "markdown",
      "metadata": {
        "id": "hGxpDTprgUZW"
      },
      "source": [
        "Não existe compreensão de tuplas em Python. Quando colocamos uma expressão semelhante a uma compreensão de lista entre parênteses, estamos criando uma expressão geradora. Note que podemos iterar uma expressão geradora:"
      ]
    },
    {
      "cell_type": "code",
      "execution_count": 73,
      "metadata": {
        "id": "7sutOWdVgUZW"
      },
      "outputs": [
        {
          "name": "stdout",
          "output_type": "stream",
          "text": [
            "0\n",
            "1\n",
            "4\n",
            "9\n",
            "16\n",
            "25\n",
            "36\n",
            "49\n",
            "64\n",
            "81\n",
            "[]\n"
          ]
        }
      ],
      "source": [
        "gerador_quadrados = (x**2 for x in range(10))\n",
        "\n",
        "for quadrado in gerador_quadrados:\n",
        "    print(quadrado)\n",
        "\n",
        "lista_quadrados = list(gerador_quadrados)\n",
        "print(lista_quadrados)"
      ]
    },
    {
      "cell_type": "code",
      "execution_count": 76,
      "metadata": {},
      "outputs": [
        {
          "name": "stdout",
          "output_type": "stream",
          "text": [
            "[0, 1, 4, 9, 16, 25, 36, 49, 64, 81]\n"
          ]
        }
      ],
      "source": [
        "gerador_quadrados = (x**2 for x in range(10))\n",
        "lista_quadrados = list(gerador_quadrados)\n",
        "print(lista_quadrados)"
      ]
    },
    {
      "cell_type": "markdown",
      "metadata": {
        "id": "g0O-TL6vgUZW"
      },
      "source": [
        "Também podemos convertê-lo para outras estruturas, como uma lista ou uma tupla:"
      ]
    },
    {
      "cell_type": "code",
      "execution_count": 71,
      "metadata": {
        "id": "ZU4yewdRgUZX"
      },
      "outputs": [
        {
          "name": "stdout",
          "output_type": "stream",
          "text": [
            "[1, 3, 5, 7, 9, 11, 13, 15, 17, 19]\n"
          ]
        }
      ],
      "source": [
        "gerador_impares = (x for x in range(20) if x % 2 == 1)\n",
        "\n",
        "lista_impares = list(gerador_impares)\n",
        "\n",
        "print(lista_impares)"
      ]
    },
    {
      "cell_type": "markdown",
      "metadata": {
        "id": "iAJ9BcozgUZX"
      },
      "source": [
        "Porém, não podemos utilizar nosso gerador uma segunda vez. Vamos tentar:"
      ]
    },
    {
      "cell_type": "code",
      "execution_count": 74,
      "metadata": {
        "colab": {
          "base_uri": "https://localhost:8080/"
        },
        "id": "d9Q2hB-7gUZX",
        "outputId": "5d515100-0f78-4e05-a234-c985c6c97e98"
      },
      "outputs": [
        {
          "name": "stdout",
          "output_type": "stream",
          "text": [
            "0\n",
            "1\n",
            "4\n",
            "9\n",
            "16\n",
            "25\n",
            "36\n",
            "49\n",
            "64\n",
            "81\n",
            "[]\n"
          ]
        }
      ],
      "source": [
        "gerador_quadrados = (x**2 for x in range(10))\n",
        "\n",
        "for quadrado in gerador_quadrados:\n",
        "    print(quadrado)\n",
        "\n",
        "lista_quadrados = list(gerador_quadrados)\n",
        "print(lista_quadrados)"
      ]
    },
    {
      "cell_type": "markdown",
      "metadata": {
        "id": "MMaH2qqtgUZX"
      },
      "source": [
        "\n",
        "\n",
        "### Iteráveis e iteradores\n",
        "\n",
        "Para entender porque a lista derivada de uma expressao geradora saiu vazia, precisamos entender a diferença entre um **iterável** e um **iterador** em Python.\n",
        "\n",
        "Um **iterável** é um objeto em Python que podemos percorrer utilizando um loop. Geralmente pensamos em iteráveis como algum tipo de coleção. Listas, tuplas, dicionários e strings são todos iteráveis.\n",
        "\n",
        "Porém, o que o loop realmente utiliza não é o iterável, mas o **iterador**. Quando tentamos percorrer um iterável, é criado um iterador a partir dele utilizando a função ```iter```. Em cada passo da iteração (do loop), a função ```next``` é chamada, e ela irá retornar o próximo elemento. Quando os elementos são esgotados, ela irá lançar a exceção ```StopIteration```.\n",
        "\n",
        "Veja o exemplo abaixo:"
      ]
    },
    {
      "cell_type": "code",
      "execution_count": null,
      "metadata": {
        "colab": {
          "base_uri": "https://localhost:8080/"
        },
        "id": "4YgCN_XWoap1",
        "outputId": "cc614f1f-f699-4b08-cfc0-5fa49289d786"
      },
      "outputs": [
        {
          "name": "stdout",
          "output_type": "stream",
          "text": [
            "primeiro for:  1\n",
            "primeiro for:  2\n",
            "primeiro for:  3\n"
          ]
        }
      ],
      "source": [
        "meu_iter = iter([1,2,3])\n",
        "\n",
        "for element in meu_iter:\n",
        "  print(\"primeiro for: \", element)\n",
        "\n",
        "for element in meu_iter:\n",
        "  print(\"segundo for: meu iter não roda novamente\")"
      ]
    },
    {
      "cell_type": "code",
      "execution_count": null,
      "metadata": {
        "colab": {
          "base_uri": "https://localhost:8080/",
          "height": 176
        },
        "id": "ihKSy0YwpTcY",
        "outputId": "437d99f0-1d61-42dd-a97b-8fbeafead6cb"
      },
      "outputs": [
        {
          "ename": "TypeError",
          "evalue": "'list' object is not an iterator",
          "output_type": "error",
          "traceback": [
            "\u001b[0;31m---------------------------------------------------------------------------\u001b[0m",
            "\u001b[0;31mTypeError\u001b[0m                                 Traceback (most recent call last)",
            "\u001b[0;32m<ipython-input-7-f08f57395c3f>\u001b[0m in \u001b[0;36m<cell line: 3>\u001b[0;34m()\u001b[0m\n\u001b[1;32m      1\u001b[0m \u001b[0;31m# preciso converter meu iterável para um iterador\u001b[0m\u001b[0;34m\u001b[0m\u001b[0;34m\u001b[0m\u001b[0m\n\u001b[1;32m      2\u001b[0m \u001b[0mminha_lista\u001b[0m \u001b[0;34m=\u001b[0m \u001b[0;34m[\u001b[0m\u001b[0;36m1\u001b[0m\u001b[0;34m,\u001b[0m\u001b[0;36m2\u001b[0m\u001b[0;34m,\u001b[0m\u001b[0;36m3\u001b[0m\u001b[0;34m]\u001b[0m\u001b[0;34m\u001b[0m\u001b[0;34m\u001b[0m\u001b[0m\n\u001b[0;32m----> 3\u001b[0;31m \u001b[0mnext\u001b[0m\u001b[0;34m(\u001b[0m\u001b[0mminha_lista\u001b[0m\u001b[0;34m)\u001b[0m\u001b[0;34m\u001b[0m\u001b[0;34m\u001b[0m\u001b[0m\n\u001b[0m",
            "\u001b[0;31mTypeError\u001b[0m: 'list' object is not an iterator"
          ]
        }
      ],
      "source": [
        "# preciso converter meu iterável para um iterador\n",
        "minha_lista = [1,2,3]\n",
        "next(minha_lista)"
      ]
    },
    {
      "cell_type": "code",
      "execution_count": null,
      "metadata": {
        "colab": {
          "base_uri": "https://localhost:8080/",
          "height": 245
        },
        "id": "DtgnM6tIgUZX",
        "outputId": "c673e702-d2c9-40da-f862-a4d35f7fb71d"
      },
      "outputs": [
        {
          "name": "stdout",
          "output_type": "stream",
          "text": [
            "<list_iterator object at 0x7c6fb174b040>\n",
            "1\n",
            "3\n",
            "5\n"
          ]
        },
        {
          "ename": "StopIteration",
          "evalue": "",
          "output_type": "error",
          "traceback": [
            "\u001b[0;31m---------------------------------------------------------------------------\u001b[0m",
            "\u001b[0;31mStopIteration\u001b[0m                             Traceback (most recent call last)",
            "\u001b[0;32m<ipython-input-10-e581fbd401bb>\u001b[0m in \u001b[0;36m<cell line: 10>\u001b[0;34m()\u001b[0m\n\u001b[1;32m      8\u001b[0m \u001b[0mprint\u001b[0m\u001b[0;34m(\u001b[0m\u001b[0mnext\u001b[0m\u001b[0;34m(\u001b[0m\u001b[0miterador\u001b[0m\u001b[0;34m)\u001b[0m\u001b[0;34m)\u001b[0m\u001b[0;34m\u001b[0m\u001b[0;34m\u001b[0m\u001b[0m\n\u001b[1;32m      9\u001b[0m \u001b[0mprint\u001b[0m\u001b[0;34m(\u001b[0m\u001b[0mnext\u001b[0m\u001b[0;34m(\u001b[0m\u001b[0miterador\u001b[0m\u001b[0;34m)\u001b[0m\u001b[0;34m)\u001b[0m\u001b[0;34m\u001b[0m\u001b[0;34m\u001b[0m\u001b[0m\n\u001b[0;32m---> 10\u001b[0;31m \u001b[0mprint\u001b[0m\u001b[0;34m(\u001b[0m\u001b[0mnext\u001b[0m\u001b[0;34m(\u001b[0m\u001b[0miterador\u001b[0m\u001b[0;34m)\u001b[0m\u001b[0;34m)\u001b[0m\u001b[0;34m\u001b[0m\u001b[0;34m\u001b[0m\u001b[0m\n\u001b[0m",
            "\u001b[0;31mStopIteration\u001b[0m: "
          ]
        }
      ],
      "source": [
        "lista = [1, 3, 5]\n",
        "\n",
        "iterador = iter(lista)\n",
        "\n",
        "print(iterador)\n",
        "\n",
        "print(next(iterador))\n",
        "print(next(iterador))\n",
        "print(next(iterador))\n",
        "print(next(iterador))"
      ]
    },
    {
      "cell_type": "markdown",
      "metadata": {
        "id": "_rJRrBE4gUZY"
      },
      "source": [
        "Uma expressão geradora não é um **iterável**, ela é um **iterador**. Uma lista é um **iterável**.\n",
        "\n",
        "Quando nós fazemos uma compreensão de lista, a expressão é avaliada na mesma hora e todos os elementos são gerados e salvos na memória.\n",
        "\n",
        "Quando utilizamos uma expressão geradora, cada elemento é gerado apenas quando solicitado, e os elementos não ficam salvos.\n",
        "\n"
      ]
    },
    {
      "cell_type": "code",
      "execution_count": null,
      "metadata": {
        "colab": {
          "base_uri": "https://localhost:8080/"
        },
        "id": "LFAX8VnygUZY",
        "outputId": "3412d636-c7fe-485b-bbc4-1a3bad9cc338"
      },
      "outputs": [
        {
          "name": "stdout",
          "output_type": "stream",
          "text": [
            "0\n",
            "1\n",
            "2\n",
            "3\n",
            "4\n"
          ]
        }
      ],
      "source": [
        "gerador = (x for x in range(5))\n",
        "\n",
        "print(next(gerador))\n",
        "print(next(gerador))\n",
        "print(next(gerador))\n",
        "print(next(gerador))\n",
        "print(next(gerador))\n",
        "#print(next(gerador)) # essa linha provoca uma exceção"
      ]
    },
    {
      "cell_type": "markdown",
      "metadata": {
        "id": "EFmDa45KgUZY"
      },
      "source": [
        "Podemos utilizar expressões geradoras quando:\n",
        "\n",
        "* Iremos trabalhar com uma base de dados tão grande que a geração da lista pode ser excessivamente lenta ou consumir memória demais.\n",
        "* Quando desejamos obter dados infinitos (uma sequência numérica sem fim, ou então um *stream* de dados que pode estar chegando por um sensor ou pela internet, por exemplo).\n",
        "* Quando sabemos com certeza absoluta que só precisaremos iterar uma única vez por cada elemento e não precisaremos deles posteriormente.\n",
        "\n",
        "Caso você precise dos dados mais de uma vez, a expressão geradora deixa de ser atrativa e compensa mais utilizar compreensão de listas.\n"
      ]
    },
    {
      "cell_type": "markdown",
      "metadata": {
        "id": "ZKCNy7TfgUZZ"
      },
      "source": [
        "Caso tenha interesse em se aprofundar nos assuntos de hoje e ver alguns experimentos envolvendo tamanho e performance de cada um, segue algumas boas referências:\n",
        "\n",
        ">https://djangostars.com/blog/list-comprehensions-and-generator-expressions/\n",
        ">\n",
        ">https://towardsdatascience.com/comprehensions-and-generator-expression-in-python-2ae01c48fc50\n",
        ">\n",
        ">https://docs.python.org/3/howto/functional.html#generator-expressions-and-list-comprehensions"
      ]
    },
    {
      "cell_type": "markdown",
      "metadata": {
        "id": "KUQxxRe5gUZZ"
      },
      "source": [
        "# Exercícios\n",
        "\n",
        "> Nos exercícios mais simples, que consistem apenas em gerar uma lista ou dicionário, sugiro utilizar compreensão de lista/dicionário. Em exercícios com instruções mais específicas, siga as instruções."
      ]
    },
    {
      "cell_type": "markdown",
      "metadata": {
        "id": "RTOZtWbnemJy"
      },
      "source": [
        "crie um código que recebe uma lista ou tupla, para cada elemento da coleção abrevie as primeiras 3 letras e retorna uma string única com todos seus valores minúsculos e separados por espaço\n",
        "\n",
        "sugestão:\n",
        "- utilize lambda\n",
        "- utilize map"
      ]
    },
    {
      "cell_type": "code",
      "execution_count": 82,
      "metadata": {
        "id": "jzfbh5vG9TN_"
      },
      "outputs": [
        {
          "name": "stdout",
          "output_type": "stream",
          "text": [
            "a m a\n"
          ]
        },
        {
          "data": {
            "text/plain": [
              "['a m a', 'c a r', 'm a t', 'c a r', 'r a u', 'r o b']"
            ]
          },
          "execution_count": 82,
          "metadata": {},
          "output_type": "execute_result"
        }
      ],
      "source": [
        "lista_nomes = ['amanda', 'carolina', 'matheus', 'carlos', 'raul', 'roberto']\n",
        "\n",
        "# print('amanda'[0] + ' ' + 'amanda'[1] + ' ' + 'amanda'[2])\n",
        "\n",
        "list(map(lambda char: char[0] + \" \" + char[1] + \" \" + char[2], lista_nomes))"
      ]
    },
    {
      "cell_type": "markdown",
      "metadata": {
        "id": "1ErAtk2RemJz"
      },
      "source": [
        "Crie um código que recebe uma lista e retorna apenas números >=0\n",
        "\n",
        "- sugestão: utilize filter() e lambda"
      ]
    },
    {
      "cell_type": "code",
      "execution_count": 83,
      "metadata": {
        "id": "YGV_iuCF73As"
      },
      "outputs": [
        {
          "data": {
            "text/plain": [
              "[0, 1, 2, 3, 4, 5]"
            ]
          },
          "execution_count": 83,
          "metadata": {},
          "output_type": "execute_result"
        }
      ],
      "source": [
        "lista_numeros = [-5,-4,-3,-2,-1,0,1,2,3,4,5]\n",
        "\n",
        "list(filter(lambda x: x>=0, lista_numeros))"
      ]
    },
    {
      "cell_type": "markdown",
      "metadata": {
        "id": "WjXDfvGGgUZa"
      },
      "source": [
        "Faça um código que recebe uma lista de números e retorna uma lista contendo os cubos dos números maiores ou iguais a zero e o quadrado dos números negativos."
      ]
    },
    {
      "cell_type": "code",
      "execution_count": 85,
      "metadata": {
        "id": "naQNjjKePDhX"
      },
      "outputs": [
        {
          "data": {
            "text/plain": [
              "[25, 16, 9, 4, 1, 0, 1, 8, 27, 64, 125]"
            ]
          },
          "execution_count": 85,
          "metadata": {},
          "output_type": "execute_result"
        }
      ],
      "source": [
        "[num ** 3 if num >=0 else num ** 2 for num in lista_numeros]"
      ]
    },
    {
      "cell_type": "markdown",
      "metadata": {
        "id": "bJiVYoNEgUZb"
      },
      "source": [
        "Faça uma função que recebe uma lista de nomes, uma lista de médias e a nota mínima para aprovação. Ela deverá retornar um dicionário contendo os nomes dos alunos e \"APR\" ou \"REP\" indicando a situação de cada um deles.\n",
        "\n",
        "- dica: há uma peculiaridade na condicional de um dicionário que possa ser necessário pensar em mudar uma pequena parte do código para funcionar como esperado :)"
      ]
    },
    {
      "cell_type": "code",
      "execution_count": 88,
      "metadata": {
        "id": "ncSV8ClgADf7"
      },
      "outputs": [
        {
          "data": {
            "text/plain": [
              "{'ana': 'APR',\n",
              " 'clara': 'APR',\n",
              " 'maria': 'REP',\n",
              " 'joana': 'APR',\n",
              " 'carolina': 'APR'}"
            ]
          },
          "execution_count": 88,
          "metadata": {},
          "output_type": "execute_result"
        }
      ],
      "source": [
        "nomes = ['ana', 'clara', 'maria', 'joana', 'carolina']\n",
        "medias = [9.0, 7.5, 5.8, 6.3, 8.5]\n",
        "nota_corte = 6.0\n",
        "\n",
        "{nome:\n",
        " ('APR' if media >= nota_corte else 'REP') for nome, media in zip(nomes, medias)}"
      ]
    },
    {
      "cell_type": "markdown",
      "metadata": {
        "id": "xPAKakFnNpTb"
      },
      "source": [
        "# link úteis\n",
        "\n",
        "lambda:\n",
        "\n",
        "\n",
        "https://www.programiz.com/python-programming/anonymous-function\n",
        "\n",
        "https://realpython.com/python-lambda/\n",
        "\n",
        "https://towardsdatascience.com/lambda-functions-with-practical-examples-in-python-45934f3653a8\n",
        "\n",
        "https://www.programiz.com/python-programming/anonymous-function\n",
        "\n",
        "https://realpython.com/python-lambda/\n",
        "\n",
        "https://towardsdatascience.com/lambda-functions-with-practical-examples-in-python-45934f3653a8\n",
        "\n",
        "\n",
        "<br>\n",
        "list comprehension / generator expression:\n",
        "\n",
        "https://pythonguides.com/python-list-comprehension-using-if-else/\n",
        "\n",
        "https://stackoverflow.com/questions/15248272/python-list-comprehension-with-multiple-ifs\n",
        "\n",
        "https://www.datacamp.com/tutorial/python-list-comprehension\n",
        "\n",
        "https://towardsdatascience.com/5-wrong-use-cases-of-python-list-comprehensions-e8455fb75692\n",
        "\n",
        "\n",
        "\n",
        "destaque especial:\n",
        "- https://holycoders.com/python-list-comprehension/\n",
        "- https://peps.python.org/pep-0020/\n",
        "- https://inventwithpython.com/blog/2018/08/17/the-zen-of-python-explained/"
      ]
    },
    {
      "cell_type": "code",
      "execution_count": null,
      "metadata": {
        "id": "0RexlVronN1P"
      },
      "outputs": [],
      "source": []
    },
    {
      "cell_type": "markdown",
      "metadata": {
        "id": "32L3bSOGpQ2q"
      },
      "source": [
        "Parabéns!🙂\n",
        "vocês concluíram o primeiro módulo da ADA. Alguma das coisas que vocês aprenderam:\n",
        "\n",
        "- dicionários\n",
        " - funções, métodos\n",
        "- tuplas\n",
        " - característica especial\n",
        "- funções\n",
        " - estrutura, criar , return\n",
        " - args, kwargs\n",
        " - type hint\n",
        "- funções com funções\n",
        " - map, reduce, filter\n",
        " - criar funções que recebem funções\n",
        "- arquivos\n",
        " - ler , escrever\n",
        " - csv, json, txt...\n",
        "- tratamento de exceção\n",
        " - try, except, else, finally\n",
        " - tipos de exceção\n",
        "- E a lista continua..."
      ]
    },
    {
      "cell_type": "code",
      "execution_count": null,
      "metadata": {
        "id": "m2USk6_vp6Dt"
      },
      "outputs": [],
      "source": []
    }
  ],
  "metadata": {
    "colab": {
      "provenance": []
    },
    "kernelspec": {
      "display_name": "Python 3.9.7 ('base')",
      "language": "python",
      "name": "python3"
    },
    "language_info": {
      "codemirror_mode": {
        "name": "ipython",
        "version": 3
      },
      "file_extension": ".py",
      "mimetype": "text/x-python",
      "name": "python",
      "nbconvert_exporter": "python",
      "pygments_lexer": "ipython3",
      "version": "3.12.2"
    },
    "orig_nbformat": 4,
    "vscode": {
      "interpreter": {
        "hash": "ad2bdc8ecc057115af97d19610ffacc2b4e99fae6737bb82f5d7fb13d2f2c186"
      }
    }
  },
  "nbformat": 4,
  "nbformat_minor": 0
}
