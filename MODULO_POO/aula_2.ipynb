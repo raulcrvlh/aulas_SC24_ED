{
 "cells": [
  {
   "cell_type": "markdown",
   "metadata": {},
   "source": [
    "# Aula 2: Melhorando objetos"
   ]
  },
  {
   "cell_type": "code",
   "execution_count": null,
   "metadata": {},
   "outputs": [],
   "source": []
  },
  {
   "cell_type": "markdown",
   "metadata": {},
   "source": [
    "# Programação Orientada a Objetos\n",
    "- Foco em **modelar** o mundo real, ou seja, representar coisas do mundo real\n",
    "- Descrição de entidades com características, habilidades e ações\n",
    "- O programa surge da interação entre esses modelos\n",
    "- Amplamente utilizado no desenvolvimento de sistemas\n",
    "\n",
    "&nbsp;\n",
    "\n",
    "## Benefícios da POO\n",
    "- Facilidade em reutilizar as entidades para resolver problemas semelhantes\n",
    "- Facilidade para incorporar o código em outros projetos\n",
    "\n",
    "&nbsp;\n",
    "\n",
    "## Mas o que são objetos?\n",
    "- Entidades que compões um programa\n",
    "- Cada objeto é responsável por executar determinadas tarefas\n",
    "- O conjunto de tarefas define seu comportamento\n",
    "\n",
    "&nbsp;\n",
    "\n",
    "## Características, estado e funções\n",
    "- Representações lógicas de objetos do mundo real, com **características**, **estados** e **funções**\n",
    "- As características são chamadas de **atributos** ou **propriedades**\n",
    "- O **estado** pode ser entendido como uma característica (ou um conjunto de características) mais flexíveis\n",
    "- **Funções** são ações que o objeto pode realizar\n",
    " \n",
    "&nbsp;\n",
    "\n",
    "## Objetos são reais ou abstratos?\n",
    "- Objetos podem ser representações reais (pessoas) ou abstratas (departamento de TI)"
   ]
  },
  {
   "cell_type": "code",
   "execution_count": null,
   "metadata": {},
   "outputs": [],
   "source": []
  },
  {
   "cell_type": "markdown",
   "metadata": {},
   "source": [
    "# MELHORAR NOSSOS OBJETOS"
   ]
  },
  {
   "cell_type": "markdown",
   "metadata": {},
   "source": [
    "### Exercício 1\n",
    "\n",
    "Crie um carro"
   ]
  },
  {
   "cell_type": "code",
   "execution_count": 44,
   "metadata": {},
   "outputs": [],
   "source": [
    "class Carro:\n",
    "    def __init__(self, motor:float = 1.0) -> None:\n",
    "        self._motor = motor\n",
    "        self.velocidade = 0\n",
    "        self.coeficiente_velocidade = 5\n",
    "        if 1.0 < motor < 1.5:\n",
    "            self.coeficiente_velocidade = 10\n",
    "        elif 1.5 <= motor <= 2.0:\n",
    "            self.coeficiente_velocidade = 20\n",
    "        \n",
    "    def acelerar(self) -> None:\n",
    "        if self.velocidade < 150:\n",
    "            self.velocidade += self.coeficiente_velocidade\n",
    "        \n",
    "    def frear(self) -> None:\n",
    "        if self.velocidade > 0:\n",
    "            self.velocidade -= self.coeficiente_velocidade\n",
    "        \n",
    "    def checar_velocidade(self):\n",
    "        return self.velocidade\n",
    "    \n",
    "    @property\n",
    "    def motor(self) -> float:\n",
    "        return self._motor\n",
    "    \n",
    "    @motor.setter\n",
    "    def motor(self, novo_motor:float) -> None:\n",
    "        self._motor = novo_motor\n",
    "        \n",
    "        if 1.0 < novo_motor < 1.5:\n",
    "            self.coeficiente_velocidade = 10\n",
    "        elif 1.5 <= novo_motor <= 2.0:\n",
    "            self.coeficiente_velocidade = 20"
   ]
  },
  {
   "cell_type": "code",
   "execution_count": 45,
   "metadata": {},
   "outputs": [],
   "source": [
    "uno = Carro(motor = 1.4)"
   ]
  },
  {
   "cell_type": "code",
   "execution_count": 46,
   "metadata": {},
   "outputs": [],
   "source": [
    "uno.acelerar()"
   ]
  },
  {
   "cell_type": "code",
   "execution_count": 47,
   "metadata": {},
   "outputs": [
    {
     "data": {
      "text/plain": [
       "1.4"
      ]
     },
     "execution_count": 47,
     "metadata": {},
     "output_type": "execute_result"
    }
   ],
   "source": [
    "uno.motor"
   ]
  },
  {
   "cell_type": "code",
   "execution_count": 48,
   "metadata": {},
   "outputs": [
    {
     "data": {
      "text/plain": [
       "1.4"
      ]
     },
     "execution_count": 48,
     "metadata": {},
     "output_type": "execute_result"
    }
   ],
   "source": [
    "uno._motor"
   ]
  },
  {
   "cell_type": "code",
   "execution_count": 49,
   "metadata": {},
   "outputs": [
    {
     "data": {
      "text/plain": [
       "10"
      ]
     },
     "execution_count": 49,
     "metadata": {},
     "output_type": "execute_result"
    }
   ],
   "source": [
    "uno.checar_velocidade()"
   ]
  },
  {
   "cell_type": "code",
   "execution_count": 50,
   "metadata": {},
   "outputs": [],
   "source": [
    "uno.motor = 2.0"
   ]
  },
  {
   "cell_type": "code",
   "execution_count": 51,
   "metadata": {},
   "outputs": [],
   "source": [
    "uno.acelerar()"
   ]
  },
  {
   "cell_type": "code",
   "execution_count": 52,
   "metadata": {},
   "outputs": [
    {
     "data": {
      "text/plain": [
       "30"
      ]
     },
     "execution_count": 52,
     "metadata": {},
     "output_type": "execute_result"
    }
   ],
   "source": [
    "uno.checar_velocidade()"
   ]
  },
  {
   "cell_type": "code",
   "execution_count": 9,
   "metadata": {},
   "outputs": [],
   "source": [
    "# atributo -> atributo publico\n",
    "# _atributo -> atributo protegido (_protected)\n",
    "# __atributo -> atributo privado (__private)"
   ]
  },
  {
   "cell_type": "code",
   "execution_count": null,
   "metadata": {},
   "outputs": [],
   "source": []
  },
  {
   "cell_type": "code",
   "execution_count": null,
   "metadata": {},
   "outputs": [],
   "source": []
  },
  {
   "cell_type": "code",
   "execution_count": 52,
   "metadata": {},
   "outputs": [],
   "source": [
    "# usando atributo PRIVADO (__private)\n",
    "\n",
    "class Carro:\n",
    "    def __init__(self, motor:float = 1.0) -> None:\n",
    "        self.__motor = motor\n",
    "        self.velocidade = 0\n",
    "        self.coeficiente_velocidade = 5\n",
    "        if 1.0 < motor < 1.5:\n",
    "            self.coeficiente_velocidade = 10\n",
    "        elif 1.5 <= motor <= 2.0:\n",
    "            self.coeficiente_velocidade = 20\n",
    "        \n",
    "    def acelerar(self):\n",
    "        if self.velocidade < 150:\n",
    "            self.velocidade += self.coeficiente_velocidade\n",
    "        \n",
    "    def frear(self):\n",
    "        if self.velocidade > 0:\n",
    "            self.velocidade -= self.coeficiente_velocidade\n",
    "        \n",
    "    def checar_velocidade(self):\n",
    "        return self.velocidade\n",
    "    \n",
    "    @property\n",
    "    def motor(self):\n",
    "        return self.__motor"
   ]
  },
  {
   "cell_type": "code",
   "execution_count": 68,
   "metadata": {},
   "outputs": [],
   "source": [
    "corsa = Carro(motor = 1.5)"
   ]
  },
  {
   "cell_type": "code",
   "execution_count": 70,
   "metadata": {},
   "outputs": [
    {
     "ename": "AttributeError",
     "evalue": "'Carro' object has no attribute '__motor'",
     "output_type": "error",
     "traceback": [
      "\u001b[1;31m---------------------------------------------------------------------------\u001b[0m",
      "\u001b[1;31mAttributeError\u001b[0m                            Traceback (most recent call last)",
      "Input \u001b[1;32mIn [70]\u001b[0m, in \u001b[0;36m<cell line: 1>\u001b[1;34m()\u001b[0m\n\u001b[1;32m----> 1\u001b[0m \u001b[43mcorsa\u001b[49m\u001b[38;5;241;43m.\u001b[39;49m\u001b[43m__motor\u001b[49m\n",
      "\u001b[1;31mAttributeError\u001b[0m: 'Carro' object has no attribute '__motor'"
     ]
    }
   ],
   "source": [
    "corsa.__motor"
   ]
  },
  {
   "cell_type": "code",
   "execution_count": 71,
   "metadata": {},
   "outputs": [],
   "source": [
    "corsa.__motor = 2"
   ]
  },
  {
   "cell_type": "code",
   "execution_count": 72,
   "metadata": {},
   "outputs": [
    {
     "data": {
      "text/plain": [
       "1.5"
      ]
     },
     "execution_count": 72,
     "metadata": {},
     "output_type": "execute_result"
    }
   ],
   "source": [
    "corsa.motor"
   ]
  },
  {
   "cell_type": "code",
   "execution_count": 73,
   "metadata": {},
   "outputs": [
    {
     "data": {
      "text/plain": [
       "2"
      ]
     },
     "execution_count": 73,
     "metadata": {},
     "output_type": "execute_result"
    }
   ],
   "source": [
    "corsa.__motor"
   ]
  },
  {
   "cell_type": "code",
   "execution_count": 67,
   "metadata": {},
   "outputs": [
    {
     "data": {
      "text/plain": [
       "{'_Carro__motor': 1.5,\n",
       " 'velocidade': 0,\n",
       " 'coeficiente_velocidade': 20,\n",
       " '__motor': 2}"
      ]
     },
     "execution_count": 67,
     "metadata": {},
     "output_type": "execute_result"
    }
   ],
   "source": [
    "corsa.__dict__"
   ]
  },
  {
   "cell_type": "code",
   "execution_count": 75,
   "metadata": {},
   "outputs": [
    {
     "data": {
      "text/plain": [
       "{'_Carro__motor': 1.5,\n",
       " 'velocidade': 0,\n",
       " 'coeficiente_velocidade': 20,\n",
       " '__motor': 2}"
      ]
     },
     "execution_count": 75,
     "metadata": {},
     "output_type": "execute_result"
    }
   ],
   "source": [
    "vars(corsa)"
   ]
  },
  {
   "cell_type": "code",
   "execution_count": null,
   "metadata": {},
   "outputs": [],
   "source": []
  },
  {
   "cell_type": "code",
   "execution_count": 77,
   "metadata": {},
   "outputs": [],
   "source": [
    "# Classe com atributos expostos\n",
    "\n",
    "class Funcionario:\n",
    "    def __init__(self, nome: str, cargo: str, valor_hora_trabalhada: int):\n",
    "        self.nome = nome\n",
    "        self.cargo = cargo\n",
    "        self.valor_hora_trabalhada = valor_hora_trabalhada\n",
    "        self.horas_trabalhadas = 0\n",
    "        self.salario = 0\n",
    "\n",
    "    def registra_hora_trabalhada(self):\n",
    "        self.horas_trabalhadas += 1\n",
    "\n",
    "    def calcula_salario(self):\n",
    "        self.salario = self.horas_trabalhadas * self.valor_hora_trabalhada"
   ]
  },
  {
   "cell_type": "code",
   "execution_count": 78,
   "metadata": {},
   "outputs": [],
   "source": [
    "f1 = Funcionario(\"Rogério\", \"Professor\",30)"
   ]
  },
  {
   "cell_type": "code",
   "execution_count": 80,
   "metadata": {},
   "outputs": [
    {
     "data": {
      "text/plain": [
       "{'nome': 'Rogério',\n",
       " 'cargo': 'Professor',\n",
       " 'valor_hora_trabalhada': 30,\n",
       " 'horas_trabalhadas': 0,\n",
       " 'salario': 0}"
      ]
     },
     "execution_count": 80,
     "metadata": {},
     "output_type": "execute_result"
    }
   ],
   "source": [
    "f1.__dict__"
   ]
  },
  {
   "cell_type": "code",
   "execution_count": 81,
   "metadata": {},
   "outputs": [],
   "source": [
    "f1.salario = 1000000"
   ]
  },
  {
   "cell_type": "code",
   "execution_count": 82,
   "metadata": {},
   "outputs": [
    {
     "data": {
      "text/plain": [
       "{'nome': 'Rogério',\n",
       " 'cargo': 'Professor',\n",
       " 'valor_hora_trabalhada': 30,\n",
       " 'horas_trabalhadas': 0,\n",
       " 'salario': 1000000}"
      ]
     },
     "execution_count": 82,
     "metadata": {},
     "output_type": "execute_result"
    }
   ],
   "source": [
    "f1.__dict__"
   ]
  },
  {
   "cell_type": "code",
   "execution_count": null,
   "metadata": {},
   "outputs": [],
   "source": []
  },
  {
   "cell_type": "code",
   "execution_count": 83,
   "metadata": {},
   "outputs": [],
   "source": [
    "# Classe sem atributos expostos\n",
    "\n",
    "class Funcionario:\n",
    "    def __init__(self, nome: str, cargo: str, valor_hora_trabalhada: int):\n",
    "        self._nome = nome\n",
    "        self._cargo = cargo\n",
    "        self._valor_hora_trabalhada = valor_hora_trabalhada\n",
    "        self.__horas_trabalhadas = 0\n",
    "        self.__salario = 0\n",
    "\n",
    "    def registra_hora_trabalhada(self):\n",
    "        self.__horas_trabalhadas += 1\n",
    "\n",
    "    def calcula_salario(self):\n",
    "        self.__salario = self.__horas_trabalhadas * self._valor_hora_trabalhada\n",
    "    \n",
    "    @property\n",
    "    def nome(self):\n",
    "        return self._nome\n",
    "        \n",
    "    @property\n",
    "    def cargo(self):\n",
    "        return self._cargo\n",
    "        \n",
    "    @property\n",
    "    def valor_hora_trabalhada(self):\n",
    "        return self._valor_hora_trabalhada\n",
    "        \n",
    "    @property\n",
    "    def horas_trabalhadas(self):\n",
    "        return self.__horas_trabalhadas\n",
    "        \n",
    "    @property\n",
    "    def salario(self):\n",
    "        return self.__salario"
   ]
  },
  {
   "cell_type": "code",
   "execution_count": 84,
   "metadata": {},
   "outputs": [],
   "source": [
    "f2 = Funcionario(\"Rogerio\",\"Professor\", 30)"
   ]
  },
  {
   "cell_type": "code",
   "execution_count": 85,
   "metadata": {},
   "outputs": [
    {
     "data": {
      "text/plain": [
       "{'_nome': 'Rogerio',\n",
       " '_cargo': 'Professor',\n",
       " '_valor_hora_trabalhada': 30,\n",
       " '_Funcionario__horas_trabalhadas': 0,\n",
       " '_Funcionario__salario': 0}"
      ]
     },
     "execution_count": 85,
     "metadata": {},
     "output_type": "execute_result"
    }
   ],
   "source": [
    "f2.__dict__"
   ]
  },
  {
   "cell_type": "code",
   "execution_count": 89,
   "metadata": {},
   "outputs": [
    {
     "ename": "AttributeError",
     "evalue": "can't set attribute 'nome'",
     "output_type": "error",
     "traceback": [
      "\u001b[1;31m---------------------------------------------------------------------------\u001b[0m",
      "\u001b[1;31mAttributeError\u001b[0m                            Traceback (most recent call last)",
      "Input \u001b[1;32mIn [89]\u001b[0m, in \u001b[0;36m<cell line: 1>\u001b[1;34m()\u001b[0m\n\u001b[1;32m----> 1\u001b[0m f2\u001b[38;5;241m.\u001b[39mnome \u001b[38;5;241m=\u001b[39m \u001b[38;5;124m\"\u001b[39m\u001b[38;5;124mshow\u001b[39m\u001b[38;5;124m\"\u001b[39m\n",
      "\u001b[1;31mAttributeError\u001b[0m: can't set attribute 'nome'"
     ]
    }
   ],
   "source": [
    "f2.nome = \"show\""
   ]
  },
  {
   "cell_type": "code",
   "execution_count": 91,
   "metadata": {},
   "outputs": [
    {
     "data": {
      "text/plain": [
       "'Rogerio'"
      ]
     },
     "execution_count": 91,
     "metadata": {},
     "output_type": "execute_result"
    }
   ],
   "source": [
    "f2.nome"
   ]
  },
  {
   "cell_type": "code",
   "execution_count": 92,
   "metadata": {},
   "outputs": [
    {
     "data": {
      "text/plain": [
       "'Professor'"
      ]
     },
     "execution_count": 92,
     "metadata": {},
     "output_type": "execute_result"
    }
   ],
   "source": [
    "f2.cargo"
   ]
  },
  {
   "cell_type": "code",
   "execution_count": 94,
   "metadata": {},
   "outputs": [
    {
     "ename": "AttributeError",
     "evalue": "can't set attribute 'salario'",
     "output_type": "error",
     "traceback": [
      "\u001b[1;31m---------------------------------------------------------------------------\u001b[0m",
      "\u001b[1;31mAttributeError\u001b[0m                            Traceback (most recent call last)",
      "Input \u001b[1;32mIn [94]\u001b[0m, in \u001b[0;36m<cell line: 1>\u001b[1;34m()\u001b[0m\n\u001b[1;32m----> 1\u001b[0m f2\u001b[38;5;241m.\u001b[39msalario \u001b[38;5;241m=\u001b[39m \u001b[38;5;241m1000\u001b[39m\n",
      "\u001b[1;31mAttributeError\u001b[0m: can't set attribute 'salario'"
     ]
    }
   ],
   "source": [
    "f2.salario = 1000"
   ]
  },
  {
   "cell_type": "code",
   "execution_count": 96,
   "metadata": {},
   "outputs": [],
   "source": [
    "f2.__salario = 1000000"
   ]
  },
  {
   "cell_type": "code",
   "execution_count": 97,
   "metadata": {},
   "outputs": [
    {
     "data": {
      "text/plain": [
       "0"
      ]
     },
     "execution_count": 97,
     "metadata": {},
     "output_type": "execute_result"
    }
   ],
   "source": [
    "f2.salario"
   ]
  },
  {
   "cell_type": "code",
   "execution_count": 98,
   "metadata": {},
   "outputs": [
    {
     "data": {
      "text/plain": [
       "{'_nome': 'Rogerio',\n",
       " '_cargo': 'Professor',\n",
       " '_valor_hora_trabalhada': 30,\n",
       " '_Funcionario__horas_trabalhadas': 0,\n",
       " '_Funcionario__salario': 0,\n",
       " '__salario': 1000000}"
      ]
     },
     "execution_count": 98,
     "metadata": {},
     "output_type": "execute_result"
    }
   ],
   "source": [
    "f2.__dict__"
   ]
  },
  {
   "cell_type": "code",
   "execution_count": 100,
   "metadata": {},
   "outputs": [],
   "source": [
    "f2._Funcionario__salario = 100000"
   ]
  },
  {
   "cell_type": "code",
   "execution_count": 101,
   "metadata": {},
   "outputs": [
    {
     "data": {
      "text/plain": [
       "{'_nome': 'Rogerio',\n",
       " '_cargo': 'Professor',\n",
       " '_valor_hora_trabalhada': 30,\n",
       " '_Funcionario__horas_trabalhadas': 0,\n",
       " '_Funcionario__salario': 100000,\n",
       " '__salario': 1000000}"
      ]
     },
     "execution_count": 101,
     "metadata": {},
     "output_type": "execute_result"
    }
   ],
   "source": [
    "f2.__dict__"
   ]
  },
  {
   "cell_type": "code",
   "execution_count": 102,
   "metadata": {},
   "outputs": [
    {
     "data": {
      "text/plain": [
       "100000"
      ]
     },
     "execution_count": 102,
     "metadata": {},
     "output_type": "execute_result"
    }
   ],
   "source": [
    "f2.salario"
   ]
  },
  {
   "cell_type": "code",
   "execution_count": null,
   "metadata": {},
   "outputs": [],
   "source": []
  },
  {
   "cell_type": "markdown",
   "metadata": {},
   "source": [
    "## Existem mais @decoradores?"
   ]
  },
  {
   "cell_type": "code",
   "execution_count": 121,
   "metadata": {},
   "outputs": [],
   "source": [
    "class Caneta: \n",
    "    def __init__(self, cor):\n",
    "        self.cor_oficial = cor "
   ]
  },
  {
   "cell_type": "code",
   "execution_count": null,
   "metadata": {},
   "outputs": [],
   "source": []
  },
  {
   "cell_type": "code",
   "execution_count": 122,
   "metadata": {},
   "outputs": [],
   "source": [
    "class Caneta: \n",
    "    def __init__(self, cor):\n",
    "        self._cor_oficial = cor \n",
    "        self._cor_tampa = None\n",
    "        \n",
    "    @property \n",
    "    def cor(self): \n",
    "        return self._cor_oficial\n",
    "    \n",
    "    @cor.setter\n",
    "    def cor(self, valor_novo):\n",
    "        self._cor_oficial = valor_novo"
   ]
  },
  {
   "cell_type": "code",
   "execution_count": 116,
   "metadata": {},
   "outputs": [],
   "source": [
    "c1 = Caneta(cor = \"Azul\")"
   ]
  },
  {
   "cell_type": "code",
   "execution_count": 117,
   "metadata": {},
   "outputs": [
    {
     "data": {
      "text/plain": [
       "'Azul'"
      ]
     },
     "execution_count": 117,
     "metadata": {},
     "output_type": "execute_result"
    }
   ],
   "source": [
    "c1.cor"
   ]
  },
  {
   "cell_type": "code",
   "execution_count": 118,
   "metadata": {},
   "outputs": [],
   "source": [
    "c1.cor = \"rosa\""
   ]
  },
  {
   "cell_type": "code",
   "execution_count": 119,
   "metadata": {},
   "outputs": [
    {
     "data": {
      "text/plain": [
       "'rosa'"
      ]
     },
     "execution_count": 119,
     "metadata": {},
     "output_type": "execute_result"
    }
   ],
   "source": [
    "c1.cor"
   ]
  },
  {
   "cell_type": "code",
   "execution_count": null,
   "metadata": {},
   "outputs": [],
   "source": []
  }
 ],
 "metadata": {
  "kernelspec": {
   "display_name": "Python 3 (ipykernel)",
   "language": "python",
   "name": "python3"
  },
  "language_info": {
   "codemirror_mode": {
    "name": "ipython",
    "version": 3
   },
   "file_extension": ".py",
   "mimetype": "text/x-python",
   "name": "python",
   "nbconvert_exporter": "python",
   "pygments_lexer": "ipython3",
   "version": "3.12.2"
  }
 },
 "nbformat": 4,
 "nbformat_minor": 4
}
