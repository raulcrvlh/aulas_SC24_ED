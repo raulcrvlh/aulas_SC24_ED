{
 "cells": [
  {
   "cell_type": "markdown",
   "metadata": {},
   "source": [
    "# Aula 4 - Métodos mágicos"
   ]
  },
  {
   "cell_type": "code",
   "execution_count": null,
   "metadata": {},
   "outputs": [],
   "source": []
  },
  {
   "cell_type": "markdown",
   "metadata": {},
   "source": [
    "### 4. Crie uma classe `Cliente` cujos atributos são nome, idade e e-mail. Construa um método que imprima as informações tal como abaixo:\n",
    "\n",
    "```\n",
    "Nome: Fulano de Tal\n",
    "Idade: 40\n",
    "E-mail: fulano@mail.com\n",
    "```"
   ]
  },
  {
   "cell_type": "code",
   "execution_count": null,
   "metadata": {},
   "outputs": [],
   "source": []
  },
  {
   "cell_type": "markdown",
   "metadata": {},
   "source": [
    "## Métodos mágicos\n",
    "__________\n",
    "\n",
    "Na aula de hoje, vamos explorar os seguintes tópicos em Python:\n",
    "\n",
    "Métodos mágicos.\n",
    "\n",
    "__________"
   ]
  },
  {
   "cell_type": "code",
   "execution_count": 9,
   "metadata": {},
   "outputs": [],
   "source": [
    "class Livro:\n",
    "    def __init__(self, titulo:str, autor:str, paginas:int) -> None:\n",
    "        self.titulo = titulo\n",
    "        self.autor = autor\n",
    "        self.paginas = paginas\n",
    "    \n",
    "    # O que quero ver quando der um print em um objeto livro\n",
    "    def __repr__(self) -> str:\n",
    "        return f\"Livro('{self.titulo}', '{self.autor}', '{self.paginas}')\"\n",
    "    \n",
    "    def __str__(self) -> str:\n",
    "        return f\"'{self.titulo}', '{self.autor}', '{self.paginas}'\"\n",
    "    \n",
    "    # O que eu quero ver quando fizer len(objeto)\n",
    "    def __len__(self) -> int:\n",
    "        return self.paginas"
   ]
  },
  {
   "cell_type": "code",
   "execution_count": 10,
   "metadata": {},
   "outputs": [],
   "source": [
    "l1 = Livro('Autobiografia', 'raul', 140)"
   ]
  },
  {
   "cell_type": "code",
   "execution_count": 11,
   "metadata": {},
   "outputs": [
    {
     "name": "stdout",
     "output_type": "stream",
     "text": [
      "'Autobiografia', 'raul', '140'\n"
     ]
    }
   ],
   "source": [
    "print(l1)"
   ]
  },
  {
   "cell_type": "code",
   "execution_count": 8,
   "metadata": {},
   "outputs": [
    {
     "data": {
      "text/plain": [
       "140"
      ]
     },
     "execution_count": 8,
     "metadata": {},
     "output_type": "execute_result"
    }
   ],
   "source": [
    "len(l1)"
   ]
  },
  {
   "cell_type": "code",
   "execution_count": 12,
   "metadata": {},
   "outputs": [
    {
     "data": {
      "text/plain": [
       "Livro('Autobiografia', 'raul', '140')"
      ]
     },
     "execution_count": 12,
     "metadata": {},
     "output_type": "execute_result"
    }
   ],
   "source": [
    "l1"
   ]
  },
  {
   "cell_type": "markdown",
   "metadata": {},
   "source": [
    "### Métodos aritméticos\n",
    "\n",
    "Como o \"+\" é entendido como concatenação entre objetos da classe `str`?\n",
    "\n",
    "Isso se faz através dos __métodos mágicos aritméticos__, que substituem os símbolos aritméticos pelas operações que forem definidas dentro da classe!\n",
    "\n",
    "Temos os seguintes métodos mágicos aritméticos:\n",
    "\n",
    "- \\_\\_add\\__:  soma: +\n",
    "- \\_\\_sub\\__:  subtração: -\n",
    "- \\_\\_mul\\__:  multiplicação: *\n",
    "- \\_\\_truediv\\__:  divisão: /\n",
    "- \\_\\_floordiv\\__:  divisão inteira: //\n",
    "- \\_\\_mod\\__:  resto de divisão: %\n",
    "- \\_\\_pow\\__:  potência: **\n",
    "\n",
    "Vamos, a seguir, definir um método de soma de horas na nossa classe, que vai ser chamado pelo operador aritmético \"+\" (ou seja, será o método `__add__`)"
   ]
  },
  {
   "cell_type": "code",
   "execution_count": 13,
   "metadata": {},
   "outputs": [],
   "source": [
    "class Vetor:\n",
    "    def __init__(self, pos_x:int, pos_y:int) -> None:\n",
    "        self.x = pos_x\n",
    "        self.y = pos_y\n",
    "\n",
    "    # Definindo como o Python soma meu objeto vetor\n",
    "    def __add__(self, other):\n",
    "        novo_x = self.x + other.x\n",
    "        novo_y = self.y + other.y\n",
    "        # resultado = (novo_x, novo_y)\n",
    "        resultado = Vetor(novo_x, novo_y)\n",
    "        return resultado\n",
    "    \n",
    "    # Definindo como o Python subtrai dois vetores\n",
    "    def __sub__(self, other):\n",
    "        novo_x = self.x - other.x\n",
    "        novo_y = self.y - other.y\n",
    "        resultado = Vetor(novo_x, novo_y)\n",
    "        return resultado\n",
    "    \n",
    "    # Imprime uma representação do meu vetor.\n",
    "    def __repr__(self):\n",
    "        representacao = f'({self.x}, {self.y})'\n",
    "        return representacao\n",
    "    \n",
    "    # Retorna um valor do meu vetor com base na posição passada.\n",
    "    def __getitem__(self, position):\n",
    "        if position == 0 or position == -2:\n",
    "            return self.x\n",
    "        elif position == 1 or position == -1:\n",
    "            return self.y\n",
    "        else:\n",
    "            print(\"Out of index\")\n",
    "\n",
    "    # Definindo como o Python vai comparar uma igualdade entre vetores, nesse caso estamos dizendo que precisa comparar apenas o elemento x\n",
    "    def __eq__(self, other):\n",
    "        if (self.x == other.x):\n",
    "            return True\n",
    "        return False\n",
    "\n",
    "    # aqui sou eu que mando, crio as minhas regras (greater than)\n",
    "    def __gt__(self, other):\n",
    "        if (self.x > other.x):\n",
    "            return True\n",
    "        return False"
   ]
  },
  {
   "cell_type": "code",
   "execution_count": 14,
   "metadata": {},
   "outputs": [],
   "source": [
    "vec_1 = Vetor(1, 2)\n",
    "vec_2 = Vetor(2, 3)"
   ]
  },
  {
   "cell_type": "code",
   "execution_count": 15,
   "metadata": {},
   "outputs": [],
   "source": [
    "resultado = vec_1 + vec_2"
   ]
  },
  {
   "cell_type": "code",
   "execution_count": 16,
   "metadata": {},
   "outputs": [
    {
     "name": "stdout",
     "output_type": "stream",
     "text": [
      "(3, 5)\n"
     ]
    }
   ],
   "source": [
    "print(resultado)"
   ]
  },
  {
   "cell_type": "code",
   "execution_count": 17,
   "metadata": {},
   "outputs": [
    {
     "name": "stdout",
     "output_type": "stream",
     "text": [
      "<class '__main__.Vetor'> (3, 5)\n"
     ]
    }
   ],
   "source": [
    "print(type(resultado), resultado)"
   ]
  },
  {
   "cell_type": "code",
   "execution_count": 18,
   "metadata": {},
   "outputs": [
    {
     "data": {
      "text/plain": [
       "1"
      ]
     },
     "execution_count": 18,
     "metadata": {},
     "output_type": "execute_result"
    }
   ],
   "source": [
    "vec_1[0]"
   ]
  },
  {
   "cell_type": "code",
   "execution_count": 19,
   "metadata": {},
   "outputs": [
    {
     "name": "stdout",
     "output_type": "stream",
     "text": [
      "(1, 1)\n"
     ]
    }
   ],
   "source": [
    "resultado = vec_2 - vec_1\n",
    "print(resultado)"
   ]
  },
  {
   "cell_type": "markdown",
   "metadata": {},
   "source": [
    "### Métodos mágicos lógicos\n",
    "\n",
    "Da mesma forma que há metódos mágicos para operações aritméticas, há também para **operações lógicas!**\n",
    "\n",
    "Naturalmente, estes métodos retornaram True ou False.\n",
    "\n",
    "Os métodos lógicos são:\n",
    "\n",
    "- \\_\\_gt\\__: maior que (greater than): >\n",
    "- \\_\\_ge\\__: maior ou igual (greater or equal): >=\n",
    "- \\_\\_lt\\__: menor que (less than): <\n",
    "- \\_\\_le\\__: menor ou igual (less or equal): <=\n",
    "- \\_\\_eq\\__: igual (equal): ==\n",
    "- \\_\\_ne\\__: diferente (not equal): !=\n",
    "\n",
    "\n",
    "Como fazer um método para comparar dois horários?\n"
   ]
  },
  {
   "cell_type": "code",
   "execution_count": null,
   "metadata": {},
   "outputs": [],
   "source": []
  },
  {
   "cell_type": "code",
   "execution_count": null,
   "metadata": {},
   "outputs": [],
   "source": []
  },
  {
   "cell_type": "code",
   "execution_count": null,
   "metadata": {},
   "outputs": [],
   "source": []
  },
  {
   "cell_type": "markdown",
   "metadata": {},
   "source": [
    "### Existem uma infinidades de __magic_methods__"
   ]
  },
  {
   "cell_type": "code",
   "execution_count": null,
   "metadata": {},
   "outputs": [],
   "source": []
  },
  {
   "cell_type": "code",
   "execution_count": null,
   "metadata": {},
   "outputs": [],
   "source": []
  },
  {
   "cell_type": "code",
   "execution_count": null,
   "metadata": {},
   "outputs": [],
   "source": []
  },
  {
   "cell_type": "markdown",
   "metadata": {},
   "source": [
    "## Exercícios\n",
    "\n",
    "1) Faça a classe Fração. Implemente todas as operações com frações utilizando métodos mágicos. Você também deve implementar todas as comparações entre frações usando os métodos mágicos"
   ]
  },
  {
   "cell_type": "code",
   "execution_count": 27,
   "metadata": {},
   "outputs": [],
   "source": [
    "class Fracao:\n",
    "    def __init__(self, numerador:int, denominador:int) -> None:\n",
    "        if denominador == 0:\n",
    "            raise ValueError(\"O denominador não pode ser 0\")\n",
    "        \n",
    "        self.numerador = numerador\n",
    "        self.denominador = denominador\n",
    "\n",
    "    def __repr__(self):\n",
    "        numerador_str = str(self.numerador)\n",
    "        denominador_str = str(self.denominador)\n",
    "        if len(numerador_str) > len(denominador_str):\n",
    "            tamanho_barra = len(numerador_str)\n",
    "        else:\n",
    "            tamanho_barra = len(denominador_str)\n",
    "        \n",
    "        fracao_str = f\"{numerador_str} \\n{'-' * tamanho_barra}\\n{denominador_str}\"\n",
    "        return fracao_str\n",
    "    \n",
    "    def __add__(self, other):\n",
    "        soma_numerador = self.numerador * other.denominador + other.numerador * self.denominador\n",
    "        soma_denominador = self.denominador * other.denominador\n",
    "        return Fracao(soma_numerador, soma_denominador)\n",
    "    \n",
    "    def __sub__(self, other):\n",
    "        sub_numerador = self.numerador * other.denominador - other.numerador * self.denominador\n",
    "        sub_denominador = self.denominador * other.denominador\n",
    "        return Fracao(sub_numerador, sub_denominador)\n",
    "    \n",
    "    def __mul__(self, other):\n",
    "        mul_numerador = self.numerador * other.numerador\n",
    "        mul_denominador = self.denominador * other.denominador\n",
    "        return Fracao(mul_numerador, mul_denominador)\n",
    "    \n",
    "    def __truediv__(self, other):\n",
    "        div_numerador = self.numerador * other.denominador\n",
    "        div_denominador = self.denominador * other.numerador\n",
    "        return Fracao(div_numerador, div_denominador)\n",
    "    \n",
    "    \n",
    "    def valor_real(self):\n",
    "        return self.numerador / self.denominador\n",
    "    \n",
    "\n",
    "    def __float__(self):\n",
    "        return self.numerador / self.denominador\n",
    "    \n",
    "    def __int__(self):\n",
    "        return self.numerador // self.denominador\n",
    "    \n",
    "    def __gt__(self, other):\n",
    "        # novo_self_numerador = self.numerador * other.denominador\n",
    "        # novo_other_denominador = other.numerador * self.denominador\n",
    "        # return novo_self_numerador > novo_other_denominador\n",
    "        return self.valor_real() > other.valor_real()\n",
    "\n",
    "    def __lt__(self, other):\n",
    "        return self.valor_real() < other.valor_real()\n",
    "    \n",
    "    def __le__(self, other):\n",
    "        return self.valor_real() <= other.valor_real()\n",
    "    \n",
    "    def __eq__(self, other):\n",
    "        return self.valor_real() == other.valor_real()\n",
    "    \n",
    "    def __neq__(self, other):\n",
    "        return self.valor_real() != other.valor_real()\n",
    "    \n",
    "    # criar o método de simpflificação das equações\n",
    "    "
   ]
  },
  {
   "cell_type": "code",
   "execution_count": 21,
   "metadata": {},
   "outputs": [],
   "source": [
    "f1 = Fracao(1,2)\n",
    "f2 = Fracao(3, 4) "
   ]
  },
  {
   "cell_type": "code",
   "execution_count": 25,
   "metadata": {},
   "outputs": [
    {
     "data": {
      "text/plain": [
       "False"
      ]
     },
     "execution_count": 25,
     "metadata": {},
     "output_type": "execute_result"
    }
   ],
   "source": [
    "f1 > f2"
   ]
  },
  {
   "cell_type": "code",
   "execution_count": 26,
   "metadata": {},
   "outputs": [
    {
     "data": {
      "text/plain": [
       "True"
      ]
     },
     "execution_count": 26,
     "metadata": {},
     "output_type": "execute_result"
    }
   ],
   "source": [
    "f2 > f1"
   ]
  },
  {
   "cell_type": "code",
   "execution_count": 18,
   "metadata": {},
   "outputs": [
    {
     "data": {
      "text/plain": [
       "0.5"
      ]
     },
     "execution_count": 18,
     "metadata": {},
     "output_type": "execute_result"
    }
   ],
   "source": [
    "float(f1)"
   ]
  },
  {
   "cell_type": "code",
   "execution_count": 19,
   "metadata": {},
   "outputs": [
    {
     "data": {
      "text/plain": [
       "0"
      ]
     },
     "execution_count": 19,
     "metadata": {},
     "output_type": "execute_result"
    }
   ],
   "source": [
    "int(f2)"
   ]
  },
  {
   "cell_type": "code",
   "execution_count": 14,
   "metadata": {},
   "outputs": [
    {
     "data": {
      "text/plain": [
       "0.5"
      ]
     },
     "execution_count": 14,
     "metadata": {},
     "output_type": "execute_result"
    }
   ],
   "source": [
    "f1.valor_real()"
   ]
  },
  {
   "cell_type": "code",
   "execution_count": 66,
   "metadata": {},
   "outputs": [
    {
     "name": "stdout",
     "output_type": "stream",
     "text": [
      "3 \n",
      "-\n",
      "8\n"
     ]
    }
   ],
   "source": [
    "mul = f1 * f2\n",
    "print(mul)"
   ]
  },
  {
   "cell_type": "code",
   "execution_count": 68,
   "metadata": {},
   "outputs": [
    {
     "name": "stdout",
     "output_type": "stream",
     "text": [
      "10 \n",
      "--\n",
      "8\n"
     ]
    }
   ],
   "source": [
    "soma = f1 + f2\n",
    "print(soma)"
   ]
  },
  {
   "cell_type": "code",
   "execution_count": 69,
   "metadata": {},
   "outputs": [
    {
     "name": "stdout",
     "output_type": "stream",
     "text": [
      "2 \n",
      "-\n",
      "8\n"
     ]
    }
   ],
   "source": [
    "sub = f2 - f1\n",
    "print(sub)"
   ]
  },
  {
   "cell_type": "code",
   "execution_count": 11,
   "metadata": {},
   "outputs": [
    {
     "name": "stdout",
     "output_type": "stream",
     "text": [
      "4 \n",
      "-\n",
      "6\n"
     ]
    }
   ],
   "source": [
    "div = f1 / f2\n",
    "print(div)"
   ]
  },
  {
   "cell_type": "markdown",
   "metadata": {},
   "source": [
    "2) Crie uma classe Data cujos atributos são dia, mês e ano. \n",
    "\n",
    "Implemente métodos `__repr__` e para comparação: igualdade (==) e desigualdades (!=, <=, >=, < e >).\n",
    "\n",
    "Caso faça sentido, implemente métodos aritméticos também"
   ]
  },
  {
   "cell_type": "code",
   "execution_count": null,
   "metadata": {},
   "outputs": [],
   "source": []
  },
  {
   "cell_type": "code",
   "execution_count": null,
   "metadata": {},
   "outputs": [],
   "source": []
  },
  {
   "cell_type": "code",
   "execution_count": null,
   "metadata": {},
   "outputs": [],
   "source": []
  },
  {
   "cell_type": "code",
   "execution_count": null,
   "metadata": {},
   "outputs": [],
   "source": []
  }
 ],
 "metadata": {
  "kernelspec": {
   "display_name": "base",
   "language": "python",
   "name": "python3"
  },
  "language_info": {
   "codemirror_mode": {
    "name": "ipython",
    "version": 3
   },
   "file_extension": ".py",
   "mimetype": "text/x-python",
   "name": "python",
   "nbconvert_exporter": "python",
   "pygments_lexer": "ipython3",
   "version": "3.12.2"
  }
 },
 "nbformat": 4,
 "nbformat_minor": 2
}
