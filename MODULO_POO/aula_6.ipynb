{
 "cells": [
  {
   "cell_type": "markdown",
   "id": "7a8f1e6b",
   "metadata": {},
   "source": [
    "## Aula 6 - Herança e Métodos estáticos\n",
    "\n",
    "Na aula de hoje vamos falar de dois tópicos\n",
    "\n",
    "1) Herança\n",
    "\n",
    "2) Polimorfismo"
   ]
  },
  {
   "cell_type": "markdown",
   "id": "1c867262",
   "metadata": {},
   "source": [
    "## Herança e Polimorfismo"
   ]
  },
  {
   "cell_type": "markdown",
   "id": "e03c1bef",
   "metadata": {},
   "source": [
    "Imagine que você tenha várias classes com os mesmos atributos, os mesmos métodos e mesmos parâmetros. \n",
    "\n",
    "Reescrevê-los várias vezes é um desperdício de tempo! Além disso, se precisarmos atualizar um método, precisaremos fazer a modificação múltiplas vezes. \n",
    "\n",
    "Para solucionar esta questão, trateremos dos conceitos de **herança** e **polimorfismo**.\n"
   ]
  },
  {
   "cell_type": "markdown",
   "id": "5d58918a",
   "metadata": {},
   "source": [
    "### Exercício 10\n",
    "\n",
    "Crie uma classe `Televisor`cujos atributos são: fabricante; modelo; canal atual; lista de canais; volume.\n",
    "\n",
    "Faça métodos aumentar/diminuir volume, trocar o canal e sintonizar um novo canal, que adiciona um novo canal à lista de canais (somente se esse canal não estiver nessa lista). No atributo lista de canais, devem estar armazenados todos os canais já sintonizados dessa TV. \n",
    "\n",
    "Obs.: o volume não pode ser menor que zero e maior que cem; só se pode trocar para um canal que já esteja na lista de canais."
   ]
  },
  {
   "cell_type": "code",
   "execution_count": 9,
   "id": "7d1c5ae3",
   "metadata": {},
   "outputs": [],
   "source": [
    "from random import randint\n",
    "\n",
    "class Televisor:\n",
    "    def __init__(self, fabricante:str, modelo:str, canal_atual:int) -> None:\n",
    "        self.fabricante = fabricante\n",
    "        self.modelo = modelo\n",
    "        self.canal_atual = canal_atual\n",
    "        self.lista_canais = []\n",
    "        self.volume = 10\n",
    "\n",
    "    def aumentar_volume(self) -> None:\n",
    "        if self.volume < 100:\n",
    "            self.volume += 5\n",
    "            print(self.volume)\n",
    "        else:\n",
    "            self.volume = 100\n",
    "            print(f'Volume máximo: {self.volume}')\n",
    "\n",
    "    def diminuir_volume(self) -> None:\n",
    "        if self.volume > 0:\n",
    "            self.volume -= 5\n",
    "            print(self.volume)\n",
    "        else:\n",
    "            self.volume = 0\n",
    "            print('MUDO!')\n",
    "        \n",
    "    def sintonizar_canal(self) -> None:\n",
    "        canal = self.canal_atual\n",
    "        print(f'O canal {canal} será adiconado a lista')\n",
    "        if canal not in self.lista_canais:\n",
    "            self.lista_canais.append(canal)\n",
    "            print(f'Lista de canais atualizada: {self.lista_canais}')\n",
    "        else:\n",
    "            print(f'O canal {canal} já está sincronizado')\n",
    "    \n",
    "    def trocar_canal(self) -> int:\n",
    "        self.canal_atual = randint(1,100)\n",
    "        print(f'O canal atual é {self.canal_atual}')\n",
    "        return self.canal_atual  "
   ]
  },
  {
   "cell_type": "code",
   "execution_count": 10,
   "id": "18634c84",
   "metadata": {},
   "outputs": [],
   "source": [
    "tv1 = Televisor(fabricante=\"LG\", modelo=\"lg2931\", canal_atual=5)"
   ]
  },
  {
   "cell_type": "code",
   "execution_count": 14,
   "id": "000928d4",
   "metadata": {},
   "outputs": [
    {
     "name": "stdout",
     "output_type": "stream",
     "text": [
      "O canal 25 será adiconado a lista\n",
      "Lista de canais atualizada: [5, 25]\n"
     ]
    }
   ],
   "source": [
    "tv1.sintonizar_canal()"
   ]
  },
  {
   "cell_type": "code",
   "execution_count": 13,
   "id": "e8cf99ce",
   "metadata": {},
   "outputs": [
    {
     "name": "stdout",
     "output_type": "stream",
     "text": [
      "O canal atual é 25\n"
     ]
    },
    {
     "data": {
      "text/plain": [
       "25"
      ]
     },
     "execution_count": 13,
     "metadata": {},
     "output_type": "execute_result"
    }
   ],
   "source": [
    "tv1.trocar_canal()"
   ]
  },
  {
   "cell_type": "markdown",
   "id": "13e0ef68",
   "metadata": {},
   "source": [
    "### Exercício 11\n",
    "\n",
    "Crie uma classe `ControleRemoto` cujo atributo é televisão (isso é, recebe um objeto da classe do exercício 10). Crie métodos para aumentar/diminuir volume, trocar o canal e sintonizar um novo canal, que adiciona um novo canal à lista de canais (somente se esse canal não estiver nessa lista).\n"
   ]
  },
  {
   "cell_type": "code",
   "execution_count": 16,
   "id": "5d98cb10",
   "metadata": {},
   "outputs": [],
   "source": [
    "class ControleRemoto:\n",
    "    def __init__(self, tv):\n",
    "        self.tv = tv\n",
    "\n",
    "    def aumenta_volume(self):\n",
    "        self.tv.aumentar_volume()\n",
    "\n",
    "    def diminui_volume(self):\n",
    "        self.tv.diminuir_volume()\n",
    "\n",
    "    def troca_canal(self):\n",
    "        self.tv.trocar_canal()\n",
    "\n",
    "    def sintoniza_canal(self):\n",
    "        self.tv.sintonizar_canal()\n",
    "\n"
   ]
  },
  {
   "cell_type": "code",
   "execution_count": 17,
   "id": "a193427a",
   "metadata": {},
   "outputs": [],
   "source": [
    "c1 = ControleRemoto(tv1)"
   ]
  },
  {
   "cell_type": "code",
   "execution_count": 20,
   "id": "c9bd057f",
   "metadata": {},
   "outputs": [
    {
     "name": "stdout",
     "output_type": "stream",
     "text": [
      "25\n"
     ]
    }
   ],
   "source": [
    "c1.aumenta_volume()"
   ]
  },
  {
   "cell_type": "code",
   "execution_count": 21,
   "id": "fac3514c",
   "metadata": {},
   "outputs": [
    {
     "name": "stdout",
     "output_type": "stream",
     "text": [
      "20\n"
     ]
    }
   ],
   "source": [
    "c1.diminui_volume()"
   ]
  },
  {
   "cell_type": "code",
   "execution_count": 28,
   "id": "57c06254",
   "metadata": {},
   "outputs": [
    {
     "name": "stdout",
     "output_type": "stream",
     "text": [
      "O canal 71 será adiconado a lista\n",
      "Lista de canais atualizada: [5, 25, 9, 71]\n"
     ]
    }
   ],
   "source": [
    "c1.sintoniza_canal()"
   ]
  },
  {
   "cell_type": "code",
   "execution_count": 27,
   "id": "848994ef",
   "metadata": {},
   "outputs": [
    {
     "name": "stdout",
     "output_type": "stream",
     "text": [
      "O canal atual é 71\n"
     ]
    }
   ],
   "source": [
    "c1.troca_canal()"
   ]
  },
  {
   "cell_type": "markdown",
   "id": "cdb8361c",
   "metadata": {},
   "source": [
    "### Herança\n",
    "\n",
    "É possível criar **classes filhas** que herdem atributos e métodos de uma **classe mãe** através de **herança**.\n",
    "\n",
    "Para herdar, colocamos o **nome da classe mãe entre parênteses** na frente do nome da classe filha em sua definição.\n",
    "\n",
    "Se necessário, podemos redefinir um método na classe filha."
   ]
  },
  {
   "cell_type": "markdown",
   "id": "b0c9142e",
   "metadata": {},
   "source": [
    "Imagine agora que queremos herdar um método **parcialmente**, com a possibilidade de alterá-lo.\n",
    "\n",
    "(Isso é importante, pois se apenas copiássemos o método original, qualquer alteração nele teria de ser feita em todos os locais onde ele é copiado...)\n",
    "\n",
    "Para isso, usamos o método `super()`\n",
    "\n",
    "O `super()` é uma função usada para dar acesso a métodos de classes mães."
   ]
  },
  {
   "cell_type": "code",
   "execution_count": 58,
   "id": "50186814",
   "metadata": {},
   "outputs": [],
   "source": [
    "class Retangulo:\n",
    "    def __init__(self, base: float, altura: float) -> None:\n",
    "        self._base = base\n",
    "        self._altura = altura\n",
    "        # self.area = 0\n",
    "        # self.perimetro = 0\n",
    "\n",
    "    def calcular_area(self):\n",
    "        area = self._base * self._altura\n",
    "        print(area)\n",
    "\n",
    "    def calcular_perimitro(self):\n",
    "        perimetro = 2 * (self._base + self._altura)\n",
    "        print(perimetro)\n",
    "\n",
    "    @staticmethod # decorador: apenas uma função dentro da classe (não depende do objeto)\n",
    "    def meu_nome():\n",
    "        print(\"Sou o retângulo\")"
   ]
  },
  {
   "cell_type": "code",
   "execution_count": 59,
   "id": "334b6f48",
   "metadata": {},
   "outputs": [],
   "source": [
    "r1 = Retangulo(1,2)"
   ]
  },
  {
   "cell_type": "code",
   "execution_count": 60,
   "id": "39270f7a",
   "metadata": {},
   "outputs": [
    {
     "name": "stdout",
     "output_type": "stream",
     "text": [
      "Sou o retângulo\n"
     ]
    }
   ],
   "source": [
    "r1.meu_nome()"
   ]
  },
  {
   "cell_type": "code",
   "execution_count": 64,
   "id": "50b9733a",
   "metadata": {},
   "outputs": [],
   "source": [
    "class Quadrado(Retangulo):\n",
    "    def __init__(self, lado):\n",
    "        super().__init__(lado, lado) # herdou da classe Retangulo\n",
    "\n",
    "    @staticmethod\n",
    "    def meu_nome():\n",
    "        print(\"Eu sou o Quadrado\")"
   ]
  },
  {
   "cell_type": "code",
   "execution_count": 65,
   "id": "9663a63f",
   "metadata": {},
   "outputs": [],
   "source": [
    "q1 = Quadrado(lado=2)"
   ]
  },
  {
   "cell_type": "code",
   "execution_count": 52,
   "id": "a32c5d66",
   "metadata": {},
   "outputs": [
    {
     "name": "stdout",
     "output_type": "stream",
     "text": [
      "4\n"
     ]
    }
   ],
   "source": [
    "q1.calcular_area()"
   ]
  },
  {
   "cell_type": "code",
   "execution_count": 53,
   "id": "bb011010",
   "metadata": {},
   "outputs": [
    {
     "name": "stdout",
     "output_type": "stream",
     "text": [
      "8\n"
     ]
    }
   ],
   "source": [
    "q1.calcular_perimitro()"
   ]
  },
  {
   "cell_type": "code",
   "execution_count": 66,
   "id": "c7379627",
   "metadata": {},
   "outputs": [
    {
     "name": "stdout",
     "output_type": "stream",
     "text": [
      "Eu sou o Quadrado\n"
     ]
    }
   ],
   "source": [
    "q1.meu_nome()"
   ]
  },
  {
   "cell_type": "code",
   "execution_count": 20,
   "id": "7fe19eff",
   "metadata": {},
   "outputs": [],
   "source": [
    "class Animal:\n",
    "    def __init__(self, nome, tipo):\n",
    "        self.nome = nome\n",
    "        self.tipo = tipo\n",
    "\n",
    "    def fala(self):\n",
    "        print(f\"{self.nome} faz barulho\")"
   ]
  },
  {
   "cell_type": "code",
   "execution_count": 21,
   "id": "11b2514a",
   "metadata": {},
   "outputs": [],
   "source": [
    "class Cachorro(Animal):\n",
    "    def __init__(self, nome, cor, tipo=\"Cachorro\"):\n",
    "        super().__init__(nome, tipo)\n",
    "        self.cor = cor\n",
    "\n",
    "    def fala(self):\n",
    "        print(f\"{self.nome} late\")"
   ]
  },
  {
   "cell_type": "code",
   "execution_count": 22,
   "id": "f1ecb1ea",
   "metadata": {},
   "outputs": [],
   "source": [
    "class Gato(Animal):\n",
    "    \n",
    "    def fala(self):\n",
    "        print(f\"{self.nome} mia\")"
   ]
  },
  {
   "cell_type": "code",
   "execution_count": 23,
   "id": "03a525ce",
   "metadata": {},
   "outputs": [],
   "source": [
    "g1 = Gato(nome=\"bart\", tipo=\"Gato\")"
   ]
  },
  {
   "cell_type": "code",
   "execution_count": 15,
   "id": "9dbf8a99",
   "metadata": {},
   "outputs": [
    {
     "name": "stdout",
     "output_type": "stream",
     "text": [
      "bart mia\n"
     ]
    }
   ],
   "source": [
    "g1.fala()"
   ]
  },
  {
   "cell_type": "code",
   "execution_count": 25,
   "id": "ccf2c53d",
   "metadata": {},
   "outputs": [
    {
     "data": {
      "text/plain": [
       "'Gato'"
      ]
     },
     "execution_count": 25,
     "metadata": {},
     "output_type": "execute_result"
    }
   ],
   "source": [
    "g1.tipo"
   ]
  },
  {
   "cell_type": "code",
   "execution_count": 26,
   "id": "c24fedb5",
   "metadata": {},
   "outputs": [],
   "source": [
    "c1 = Cachorro(\"bidu\", cor=\"branco\")"
   ]
  },
  {
   "cell_type": "code",
   "execution_count": 18,
   "id": "eb61b7b1",
   "metadata": {},
   "outputs": [
    {
     "name": "stdout",
     "output_type": "stream",
     "text": [
      "bidu late\n"
     ]
    }
   ],
   "source": [
    "c1.fala()"
   ]
  },
  {
   "cell_type": "code",
   "execution_count": 27,
   "id": "8c65af44",
   "metadata": {},
   "outputs": [
    {
     "data": {
      "text/plain": [
       "'Cachorro'"
      ]
     },
     "execution_count": 27,
     "metadata": {},
     "output_type": "execute_result"
    }
   ],
   "source": [
    "c1.tipo"
   ]
  },
  {
   "cell_type": "markdown",
   "id": "9078a8ae",
   "metadata": {},
   "source": [
    "### Polimorfismo\n",
    "\n",
    "Do grego, **\"várias formas\"**. A ideia é que um objeto de uma certa classe pode se comportar como objeto de outras classes. \n",
    "\n",
    "Mais especificamente, **objetos de uma classe filha podem também ser tratados como se pertencessem à classe mãe**.\n",
    "\n",
    "O método `isinstance` recebe 2 parâmetros: um objeto e uma classe. \n",
    "\n",
    "Ele retorna True caso o objeto pertenca à classe, e False caso não pertença."
   ]
  },
  {
   "cell_type": "code",
   "execution_count": null,
   "id": "bda5c555",
   "metadata": {},
   "outputs": [],
   "source": []
  },
  {
   "cell_type": "code",
   "execution_count": null,
   "id": "977ccd5b",
   "metadata": {},
   "outputs": [],
   "source": []
  },
  {
   "cell_type": "markdown",
   "id": "c4a8ce73",
   "metadata": {},
   "source": [
    "Isso é útil porque uma função que seja feita para lidar com Animal será capaz de lidar com qualquer classe herdeira de Animal com a mesma facilidade."
   ]
  },
  {
   "cell_type": "markdown",
   "id": "ad9cf22c",
   "metadata": {},
   "source": [
    "## Atributos e Métodos Estáticos"
   ]
  },
  {
   "cell_type": "markdown",
   "id": "c9107a53",
   "metadata": {},
   "source": [
    "As vezes queremos utilizar atributos ou métodos de uma classe sem ter que instanciar um objeto.\n",
    "\n",
    "Quando queremos fazer isso, dizemos que temos um método ou atributo estático, ou seja, um método ou atributo que pertence à classe, e não ao objeto."
   ]
  },
  {
   "cell_type": "code",
   "execution_count": 53,
   "id": "27e2f0f9",
   "metadata": {},
   "outputs": [],
   "source": [
    "class Aluno:\n",
    "    # atributos estáticos (está atrelado somente à classe)\n",
    "    numero_de_alunos = 0\n",
    "    lista_de_alunos = []\n",
    "\n",
    "    def __init__(self, nome, curso) -> None:\n",
    "        self.nome = nome\n",
    "        self.curso = curso\n",
    "        Aluno.numero_de_alunos += 1\n",
    "        Aluno.lista_de_alunos.append(self.__dict__)\n",
    "\n",
    "    def ola(self):\n",
    "        print(f\"Olá, meu nome é {self.nome}\")\n",
    "\n",
    "    def __repr__(self):\n",
    "        texto = f\"Sou {self.nome} e curso {self.curso}\"\n",
    "        return texto\n",
    "    \n",
    "    @staticmethod\n",
    "    def mostrar_alunos():\n",
    "        for aluno in Aluno.lista_de_alunos:\n",
    "            print(aluno)\n",
    "    "
   ]
  },
  {
   "cell_type": "code",
   "execution_count": 58,
   "id": "40085ef5",
   "metadata": {},
   "outputs": [],
   "source": [
    "a1 = Aluno(nome=\"Raul\", curso=\"Engenharia de Dados\")\n",
    "a2 = Aluno(nome=\"Rogério\", curso=\"Matemática\")\n",
    "a3 = Aluno(nome=\"João\", curso=\"Ciência da Computação\")"
   ]
  },
  {
   "cell_type": "code",
   "execution_count": 59,
   "id": "5e4b2fff",
   "metadata": {},
   "outputs": [
    {
     "data": {
      "text/plain": [
       "5"
      ]
     },
     "execution_count": 59,
     "metadata": {},
     "output_type": "execute_result"
    }
   ],
   "source": [
    "Aluno.numero_de_alunos"
   ]
  },
  {
   "cell_type": "code",
   "execution_count": 60,
   "id": "51635335",
   "metadata": {},
   "outputs": [
    {
     "data": {
      "text/plain": [
       "[{'nome': 'Raul', 'curso': 'Engenharia de Dados'},\n",
       " {'nome': 'Rogério', 'curso': 'Matemática'},\n",
       " {'nome': 'Raul', 'curso': 'Engenharia de Dados'},\n",
       " {'nome': 'Rogério', 'curso': 'Matemática'},\n",
       " {'nome': 'João', 'curso': 'Ciência da Computação'}]"
      ]
     },
     "execution_count": 60,
     "metadata": {},
     "output_type": "execute_result"
    }
   ],
   "source": [
    "Aluno.lista_de_alunos"
   ]
  },
  {
   "cell_type": "code",
   "execution_count": 61,
   "id": "ee77aeb4",
   "metadata": {},
   "outputs": [
    {
     "name": "stdout",
     "output_type": "stream",
     "text": [
      "{'nome': 'Raul', 'curso': 'Engenharia de Dados'}\n",
      "{'nome': 'Rogério', 'curso': 'Matemática'}\n",
      "{'nome': 'Raul', 'curso': 'Engenharia de Dados'}\n",
      "{'nome': 'Rogério', 'curso': 'Matemática'}\n",
      "{'nome': 'João', 'curso': 'Ciência da Computação'}\n"
     ]
    }
   ],
   "source": [
    "a1.mostrar_alunos()"
   ]
  },
  {
   "cell_type": "code",
   "execution_count": 41,
   "id": "429b882a",
   "metadata": {},
   "outputs": [
    {
     "name": "stdout",
     "output_type": "stream",
     "text": [
      "Olá, meu nome é Raul\n"
     ]
    }
   ],
   "source": [
    "a1.ola()"
   ]
  },
  {
   "cell_type": "code",
   "execution_count": 42,
   "id": "8405d176",
   "metadata": {},
   "outputs": [
    {
     "name": "stdout",
     "output_type": "stream",
     "text": [
      "Sou Raul e curso Engenharia de Dados\n"
     ]
    }
   ],
   "source": [
    "print(a1)"
   ]
  },
  {
   "cell_type": "code",
   "execution_count": 43,
   "id": "b239369e",
   "metadata": {},
   "outputs": [
    {
     "name": "stdout",
     "output_type": "stream",
     "text": [
      "Sou Rogério e curso Matemática\n"
     ]
    }
   ],
   "source": [
    "print(a2)"
   ]
  },
  {
   "cell_type": "markdown",
   "id": "9cd4d5ff",
   "metadata": {},
   "source": [
    "## Exercícios"
   ]
  },
  {
   "cell_type": "markdown",
   "id": "2a1e1e0d",
   "metadata": {},
   "source": [
    "1. Crie uma classe `ContaCorrente` com os atributos cliente (que deve ser um objeto da classe Cliente) e saldo. \n",
    "\n",
    "Crie métodos para depósito, saque e transferência. Os métodos de saque e transferência devem verificar se é possível realizar a transação. Crie também um método que liste todos os clientes com conta corrente"
   ]
  },
  {
   "cell_type": "code",
   "execution_count": null,
   "id": "5dd323ad",
   "metadata": {},
   "outputs": [],
   "source": []
  },
  {
   "cell_type": "code",
   "execution_count": null,
   "id": "78e00ea8",
   "metadata": {},
   "outputs": [],
   "source": []
  },
  {
   "cell_type": "code",
   "execution_count": null,
   "id": "c630c82c",
   "metadata": {},
   "outputs": [],
   "source": []
  },
  {
   "cell_type": "code",
   "execution_count": null,
   "id": "e92f60d3",
   "metadata": {},
   "outputs": [],
   "source": []
  },
  {
   "cell_type": "markdown",
   "id": "cbe8c0d3",
   "metadata": {},
   "source": [
    "2. Faça uma classe `ContaVip` que difere da `ContaCorrente` por ter cheque especial (novo atributo) e é filha da classe `ContaCorrente`. Você precisa implementar os métodos para saque, transferência ou depósito?\n"
   ]
  },
  {
   "cell_type": "code",
   "execution_count": null,
   "id": "e293677a",
   "metadata": {},
   "outputs": [],
   "source": []
  },
  {
   "cell_type": "code",
   "execution_count": null,
   "id": "0122117f",
   "metadata": {},
   "outputs": [],
   "source": []
  },
  {
   "cell_type": "code",
   "execution_count": null,
   "id": "b8aa2bfe",
   "metadata": {},
   "outputs": [],
   "source": []
  },
  {
   "cell_type": "code",
   "execution_count": null,
   "id": "b4d3fb56",
   "metadata": {},
   "outputs": [],
   "source": []
  }
 ],
 "metadata": {
  "kernelspec": {
   "display_name": "Python 3 (ipykernel)",
   "language": "python",
   "name": "python3"
  },
  "language_info": {
   "codemirror_mode": {
    "name": "ipython",
    "version": 3
   },
   "file_extension": ".py",
   "mimetype": "text/x-python",
   "name": "python",
   "nbconvert_exporter": "python",
   "pygments_lexer": "ipython3",
   "version": "3.12.2"
  }
 },
 "nbformat": 4,
 "nbformat_minor": 5
}
