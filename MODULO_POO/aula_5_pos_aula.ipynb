{
 "cells": [
  {
   "cell_type": "markdown",
   "metadata": {},
   "source": [
    "# Encapsulamento\n",
    "\n",
    "Como falamos brevemente na primeira aula o encapsulamento, na prática, é o ato de:\n",
    "\n",
    "- Tornar o código privado, removendo o acesso a ele\n",
    "- Fazer com que o objeto controle apenas o seu próprio estado\n",
    "\n",
    "Mas como fazemos isso?\n",
    "\n",
    ">Vamos começar escrevendo uma classe para um funcionário de uma empresa. Ela deve armazenar o nome do funcionário, o cargo, o valor que ele recebe por hora trabalhada, quantas horas o funcionário trabalhou e o salário.\n",
    ">\n",
    ">As horas trabalhadas e o salário devem iniciar com valor 0.\n",
    ">\n",
    ">Essa classe precisa ter um método para registrar horas trabalhadas e um para calcular o salário (horas trabalhadas x valor da hora)"
   ]
  },
  {
   "cell_type": "code",
   "execution_count": 16,
   "metadata": {},
   "outputs": [],
   "source": [
    "class Funcionario:\n",
    "    def __init__(self, nome: str, cargo: str, valor_hora_trabalhada: int):\n",
    "        self.nome = nome\n",
    "        self.cargo = cargo\n",
    "        self.valor_hora_trabalhada = valor_hora_trabalhada\n",
    "        self.horas_trabalhadas = 0 \n",
    "        self.salario = 0 \n",
    "\n",
    "    def registra_hora_trabalhada(self):\n",
    "        self.horas_trabalhadas += 1\n",
    "\n",
    "    def calcula_salario(self):\n",
    "        self.salario = self.horas_trabalhadas * self.valor_hora_trabalhada"
   ]
  },
  {
   "cell_type": "markdown",
   "metadata": {},
   "source": [
    "Para testar nossa classe, vamos instanciar ela e registrar algumas horas de trabalho. Por fim, vamos calcular o salário."
   ]
  },
  {
   "cell_type": "code",
   "execution_count": 17,
   "metadata": {},
   "outputs": [
    {
     "name": "stdout",
     "output_type": "stream",
     "text": [
      "30\n",
      "90\n"
     ]
    }
   ],
   "source": [
    "f = Funcionario('Bruno', 'Professor', 30)\n",
    "print(f.valor_hora_trabalhada)\n",
    "f.registra_hora_trabalhada()\n",
    "f.registra_hora_trabalhada()\n",
    "f.registra_hora_trabalhada()\n",
    "f.calcula_salario()\n",
    "print(f.salario)"
   ]
  },
  {
   "cell_type": "code",
   "execution_count": 18,
   "metadata": {},
   "outputs": [],
   "source": [
    "f.salario = 1000000"
   ]
  },
  {
   "cell_type": "code",
   "execution_count": 19,
   "metadata": {},
   "outputs": [
    {
     "data": {
      "text/plain": [
       "{'nome': 'Bruno',\n",
       " 'cargo': 'Professor',\n",
       " 'valor_hora_trabalhada': 30,\n",
       " 'horas_trabalhadas': 3,\n",
       " 'salario': 1000000}"
      ]
     },
     "execution_count": 19,
     "metadata": {},
     "output_type": "execute_result"
    }
   ],
   "source": [
    "f.__dict__"
   ]
  },
  {
   "cell_type": "markdown",
   "metadata": {},
   "source": [
    "Essa forma de escrever o código tem um grande problema. O salário está exposto, e nada impede que alguém altere o salário diretamente, conforme demonstrado abaixo:"
   ]
  },
  {
   "cell_type": "code",
   "execution_count": 20,
   "metadata": {},
   "outputs": [
    {
     "name": "stdout",
     "output_type": "stream",
     "text": [
      "30\n",
      "1000000\n"
     ]
    }
   ],
   "source": [
    "f = Funcionario('Bruno', 'Professor', 30)\n",
    "print(f.valor_hora_trabalhada)\n",
    "f.registra_hora_trabalhada()\n",
    "f.registra_hora_trabalhada()\n",
    "f.registra_hora_trabalhada()\n",
    "f.salario = 1000000\n",
    "print(f.salario)"
   ]
  },
  {
   "cell_type": "markdown",
   "metadata": {},
   "source": [
    "Para resolver esse problema, devemos transformar o salário em um atributo privado!"
   ]
  },
  {
   "cell_type": "markdown",
   "metadata": {},
   "source": [
    "## Modificadores de acesso\n",
    "\n",
    "Diversas linguagens orientadas a objeto oferecem ferramentas para ajudar a proteger o encapsulamento da classe: restringir o acesso aos seus atributos. Na maioria dessas linguagens temos 3 níveis de acesso, e seu significado varia pouco de linguagem para linguagem. Eles tipicamente são:\n",
    "\n",
    "- **Private (privado)**: apenas objetos da própria classe possuem acesso ao atributo.\n",
    "\n",
    "- **Protected (protegido)**: apenas objetos da própria classe ou de classes herdeiras possuem acesso ao atributo.\n",
    "\n",
    "- **Public (público)**: os atributos podem ser acessados livremente em qualquer ponto do código.\n",
    "\n",
    "Em python não utilizamos as palavras reservadas **private**, **protected** ou **public**. Utilizamos nenhum, um (`_`) ou dois underscores (`__`) antes do nome do atributo, para criar eles.\n",
    "\n",
    "&nbsp;\n",
    "\n",
    "Os atributos públicos não utilizam underscore no nome. São criados conforme a sintaxe:\n",
    "\n",
    "`self.atributo_publico`\n",
    "\n",
    "&nbsp;\n",
    "\n",
    "Os atributos protegidos utilizam um underscore (`_`) no nome. São criados conforme a sintaxe:\n",
    "\n",
    "`self._atributo_protegido`\n",
    "\n",
    "&nbsp;\n",
    "\n",
    "Os atributos privados utilizam dois underscores (_Dunder_) (`__`) no nome. São criados conforme a sintaxe:\n",
    "\n",
    "`self.__atributo_privado`\n",
    "\n",
    "&nbsp;\n",
    "\n",
    "Ao criar um atributo privado não conseguimos mais acessar ele diretamente por fora da classe."
   ]
  },
  {
   "cell_type": "code",
   "execution_count": 21,
   "metadata": {},
   "outputs": [],
   "source": [
    "class Funcionario:\n",
    "    def __init__(self, nome: str, cargo: str, valor_hora_trabalhada: int):\n",
    "        self.nome = nome\n",
    "        self.cargo = cargo\n",
    "        self.valor_hora_trabalhada = valor_hora_trabalhada\n",
    "        self.horas_trabalhadas = 0 \n",
    "        self.__salario = 10\n",
    "\n",
    "    def registra_hora_trabalhada(self):\n",
    "        self.horas_trabalhadas += 1\n",
    "\n",
    "    def calcula_salario(self):\n",
    "        self.__salario = self.horas_trabalhadas * self.valor_hora_trabalhada"
   ]
  },
  {
   "cell_type": "code",
   "execution_count": 22,
   "metadata": {},
   "outputs": [
    {
     "name": "stdout",
     "output_type": "stream",
     "text": [
      "30\n"
     ]
    },
    {
     "ename": "AttributeError",
     "evalue": "'Funcionario' object has no attribute '__salario'",
     "output_type": "error",
     "traceback": [
      "\u001b[1;31m---------------------------------------------------------------------------\u001b[0m",
      "\u001b[1;31mAttributeError\u001b[0m                            Traceback (most recent call last)",
      "Cell \u001b[1;32mIn[22], line 6\u001b[0m\n\u001b[0;32m      4\u001b[0m f\u001b[38;5;241m.\u001b[39mregistra_hora_trabalhada()\n\u001b[0;32m      5\u001b[0m f\u001b[38;5;241m.\u001b[39mregistra_hora_trabalhada()\n\u001b[1;32m----> 6\u001b[0m \u001b[38;5;28mprint\u001b[39m(\u001b[43mf\u001b[49m\u001b[38;5;241;43m.\u001b[39;49m\u001b[43m__salario\u001b[49m)  \u001b[38;5;66;03m# Da erro\u001b[39;00m\n\u001b[0;32m      7\u001b[0m f\u001b[38;5;241m.\u001b[39m__salario \u001b[38;5;241m=\u001b[39m \u001b[38;5;241m1000000\u001b[39m  \u001b[38;5;66;03m# Isso funciona, pois estamos criando uma variável chamada \"__salario\" dentro do objeto \"f\"\u001b[39;00m\n\u001b[0;32m      8\u001b[0m \u001b[38;5;28mprint\u001b[39m(f\u001b[38;5;241m.\u001b[39m__salario)\n",
      "\u001b[1;31mAttributeError\u001b[0m: 'Funcionario' object has no attribute '__salario'"
     ]
    }
   ],
   "source": [
    "f = Funcionario('Bruno', 'Professor', 30)\n",
    "print(f.valor_hora_trabalhada)\n",
    "f.registra_hora_trabalhada()\n",
    "f.registra_hora_trabalhada()\n",
    "f.registra_hora_trabalhada()\n",
    "print(f.__salario)  # Da erro\n",
    "f.__salario = 1000000  # Isso funciona, pois estamos criando uma variável chamada \"__salario\" dentro do objeto \"f\"\n",
    "print(f.__salario)\n"
   ]
  },
  {
   "cell_type": "markdown",
   "metadata": {},
   "source": [
    "Para contornar esse problema a comunidade do python definiu que, por convenção, os atributos privados iniciam seu nome utilizando **somente um underscore `_`**.\n",
    "\n",
    "> A comunidade prefere, ao invés de construir paredes para impedir que as coisas sejam feitas, sinalizar que algo não deve ser feito (ou que deve ser feito do jeito X) e esperar que todos hajam como adultos fazendo a coisa certa.\n",
    "\n",
    "Portanto, daqui para frente, podemos escrever os atributos privados dos dois jeitos (com um ou dois underscores). Mas lembrem que com dois underscores vai ter prejuízos ou excesso de código em casos de herança."
   ]
  },
  {
   "cell_type": "code",
   "execution_count": 6,
   "metadata": {},
   "outputs": [],
   "source": [
    "class Funcionario:\n",
    "    def __init__(self, nome: str, cargo: str, valor_hora_trabalhada: int):\n",
    "        self.nome = nome\n",
    "        self.cargo = cargo\n",
    "        self.valor_hora_trabalhada = valor_hora_trabalhada\n",
    "        self.horas_trabalhadas = 0 \n",
    "        self._salario = 0\n",
    "\n",
    "    def registra_hora_trabalhada(self):\n",
    "        self.horas_trabalhadas += 1\n",
    "\n",
    "    def calcula_salario(self):\n",
    "        self._salario = self.horas_trabalhadas * self.valor_hora_trabalhada"
   ]
  },
  {
   "cell_type": "code",
   "execution_count": 7,
   "metadata": {},
   "outputs": [
    {
     "name": "stdout",
     "output_type": "stream",
     "text": [
      "30\n",
      "90\n"
     ]
    }
   ],
   "source": [
    "f = Funcionario('Bruno', 'Professor', 30)\n",
    "print(f.valor_hora_trabalhada)\n",
    "f.registra_hora_trabalhada()\n",
    "f.registra_hora_trabalhada()\n",
    "f.registra_hora_trabalhada()\n",
    "f.calcula_salario()\n",
    "print(f._salario)  # Agora conseguimos acessar o valor do atributo diretamente, mas não devemos fazer porque \"é privado\".\n"
   ]
  },
  {
   "cell_type": "markdown",
   "metadata": {},
   "source": [
    "Agora nós temos atributos privados no nosso código, mas como acessamos eles?\n",
    "\n",
    "Vamos primeiro declarar que, além do salário, as horas trabalhadas também são um atributo privado."
   ]
  },
  {
   "cell_type": "code",
   "execution_count": 8,
   "metadata": {},
   "outputs": [],
   "source": [
    "class Funcionario:\n",
    "    def __init__(self, nome: str, cargo: str, valor_hora_trabalhada: int):\n",
    "        self.nome = nome\n",
    "        self.cargo = cargo\n",
    "        self.valor_hora_trabalhada = valor_hora_trabalhada\n",
    "        self._horas_trabalhadas = 0 \n",
    "        self._salario = 0\n",
    "\n",
    "    def registra_hora_trabalhada(self):\n",
    "        self._horas_trabalhadas += 1\n",
    "\n",
    "    def calcula_salario(self):\n",
    "        self._salario = self._horas_trabalhadas * self.valor_hora_trabalhada"
   ]
  },
  {
   "cell_type": "markdown",
   "metadata": {},
   "source": [
    "## Métodos get e set\n",
    "Quem já tem contato com outras linguagens de programação orientadas a objetos, como Java ou C#, vai lembrar que para acessar os atributos utilizamos os métodos **get** e **set**.\n",
    "\n",
    "get_salario, set_salario, e por ai vai.\n",
    "\n",
    "No python vamos fazer a mesma coisa, mas podemos utilizar um decorator chamado `@property` ou a função `property`. \n",
    "\n",
    "\n",
    "### decorator @property\n",
    "Quando adicionamos o `@property`, podemos reutilizar o nome da propriedade sem precisar ficar criando novos nomes para os gets e sets no código.\n",
    "\n",
    "Então, nosso código agora fica da seguinte forma:"
   ]
  },
  {
   "cell_type": "code",
   "execution_count": 15,
   "metadata": {},
   "outputs": [],
   "source": [
    "class Funcionario:\n",
    "    def __init__(self, nome: str, cargo: str, valor_hora_trabalhada: int):\n",
    "        self.nome = nome\n",
    "        self.cargo = cargo\n",
    "        self.valor_hora_trabalhada = valor_hora_trabalhada\n",
    "        self._horas_trabalhadas = 0 \n",
    "        self.__salario = 0\n",
    "\n",
    "    def registra_hora_trabalhada(self):\n",
    "        self._horas_trabalhadas += 1\n",
    "\n",
    "    def calcula_salario(self):\n",
    "        self.__salario = self._horas_trabalhadas * self.valor_hora_trabalhada\n",
    "\n",
    "    # get horas trabalhadas\n",
    "    @property\n",
    "    def horas_trabalhadas(self):\n",
    "        return self._horas_trabalhadas\n",
    "\n",
    "    # set horas trabalhadas\n",
    "    @horas_trabalhadas.setter\n",
    "    def horas_trabalhadas(self, qtde_horas):\n",
    "        self._horas_trabalhadas = qtde_horas\n",
    "\n",
    "    # get salario\n",
    "    @property\n",
    "    def salario(self):\n",
    "        return self.__salario\n",
    "\n",
    "    # Não vamos adicionar um set de salario, pois ele é calculado através do método calcula_salario"
   ]
  },
  {
   "cell_type": "markdown",
   "metadata": {},
   "source": [
    "Referente ao get, observem que:\n",
    "\n",
    "- Declaramos o uso de `@property` para indicar que vamos definir uma propriedade. Isso aumenta a legibilidade do código, pois conseguimos ver com clareza a finalidade desse método.\n",
    "\n",
    "- Definimos o método usando `def horas_trabalhadas(self)`, ou seja, com o mesmo nome que a propriedade deveria ter. Vamos usar esse nome para acessar e modificar o atributo fora da classe.\n",
    "\n",
    "- Por fim, retornamos a quantidade de horas trabalhadas `return self._horas_trabalhadas`\n",
    "\n",
    "&nbsp;\n",
    "\n",
    "Referente ao set, observem que:\n",
    "\n",
    "- Utilzamos a sintaxe `@horas_trabalhadas.setter` para indicar que é o set da propriedade horas_trabalhadas\n",
    "\n",
    "- Na definição do método esperamos, além do self, um novo valor para ser atribuído à quantidade de horas trabalhadas.\n",
    "\n",
    "- Por fim, atribuímos o valor ao atributo privado `self._horas_trabalhadas = qtde_horas`\n",
    "\n",
    "&nbsp;\n",
    "\n",
    "Agora podemos modificar e ler os atributos privados"
   ]
  },
  {
   "cell_type": "code",
   "execution_count": 16,
   "metadata": {},
   "outputs": [
    {
     "name": "stdout",
     "output_type": "stream",
     "text": [
      "30\n",
      "90\n",
      "3\n",
      "10\n",
      "300\n"
     ]
    }
   ],
   "source": [
    "f = Funcionario('Bruno', 'Professor', 30)\n",
    "print(f.valor_hora_trabalhada)\n",
    "f.registra_hora_trabalhada()\n",
    "f.registra_hora_trabalhada()\n",
    "f.registra_hora_trabalhada()\n",
    "f.calcula_salario()\n",
    "print(f.salario)\n",
    "print(f.horas_trabalhadas)\n",
    "f.horas_trabalhadas = 10\n",
    "print(f.horas_trabalhadas)\n",
    "f.calcula_salario()\n",
    "print(f.salario)"
   ]
  },
  {
   "cell_type": "code",
   "execution_count": null,
   "metadata": {},
   "outputs": [],
   "source": []
  },
  {
   "cell_type": "markdown",
   "metadata": {},
   "source": [
    "### função property\n",
    "\n",
    "Existe quem não goste de ficar adicionando @property nas classes do python. Para contornar isso, podemos escrever nossos get e set de outra forma, utilizando a função property.\n",
    "\n",
    "Para isso, vamos:\n",
    "\n",
    "1) [Obrigatório] Criar os métodos get e set sem os decorators\n",
    "\n",
    "2) [Opcional] Tornar esse métodos privados, para não confundir outros programadores\n",
    "\n",
    "3) [Obrigatório] Criar um atalho para a propriedade, usando a função **property**"
   ]
  },
  {
   "cell_type": "code",
   "execution_count": 18,
   "metadata": {},
   "outputs": [],
   "source": [
    "class Funcionario:\n",
    "    def __init__(self, nome: str, cargo: str, valor_hora_trabalhada: int):\n",
    "        self.nome = nome\n",
    "        self.cargo = cargo\n",
    "        self.valor_hora_trabalhada = valor_hora_trabalhada\n",
    "        self._horas_trabalhadas = 0 \n",
    "        self.__salario = 0\n",
    "\n",
    "    def registra_hora_trabalhada(self):\n",
    "        self._horas_trabalhadas += 1\n",
    "\n",
    "    def calcula_salario(self):\n",
    "        self.__salario = self._horas_trabalhadas * self.valor_hora_trabalhada\n",
    "\n",
    "    def __get_salario(self):\n",
    "        return self.__salario\n",
    "    \n",
    "    def __get_horas_trabalhadas(self):\n",
    "        return self._horas_trabalhadas\n",
    "    \n",
    "    def __set_horas_trabalhadas(self, qtde_horas):\n",
    "        if qtde_horas < 0:\n",
    "            print('Quantidade de horas inválida') \n",
    "        else:\n",
    "            self._horas_trabalhadas = qtde_horas\n",
    "\n",
    "    salario = property(__get_salario)\n",
    "\n",
    "    horas_trabalhadas = property(__get_horas_trabalhadas, __set_horas_trabalhadas)"
   ]
  },
  {
   "cell_type": "code",
   "execution_count": 19,
   "metadata": {},
   "outputs": [
    {
     "name": "stdout",
     "output_type": "stream",
     "text": [
      "50\n",
      "100\n",
      "2\n",
      "50\n",
      "2500\n"
     ]
    }
   ],
   "source": [
    "f = Funcionario('Bruno', 'Professor', 50)\n",
    "print(f.valor_hora_trabalhada)\n",
    "f.registra_hora_trabalhada()\n",
    "f.registra_hora_trabalhada()\n",
    "f.calcula_salario()\n",
    "print(f.salario)\n",
    "print(f.horas_trabalhadas)\n",
    "f.horas_trabalhadas = 50\n",
    "print(f.horas_trabalhadas)\n",
    "f.calcula_salario()\n",
    "print(f.salario)\n"
   ]
  },
  {
   "cell_type": "code",
   "execution_count": null,
   "metadata": {},
   "outputs": [],
   "source": []
  },
  {
   "cell_type": "markdown",
   "metadata": {},
   "source": [
    "-------------------------"
   ]
  },
  {
   "cell_type": "markdown",
   "metadata": {},
   "source": [
    "## Decorators\n",
    "\n",
    "Voltando ao conceito de decorators, o decorator é uma função que, basicamente, adiciona uma nova funcionalidade a uma função que é passada como argumento."
   ]
  },
  {
   "cell_type": "code",
   "execution_count": 22,
   "metadata": {},
   "outputs": [],
   "source": [
    "def nome_do_seu_decorador(func):\n",
    "    def wrapper():\n",
    "        func() \n",
    "    return wrapper \n",
    "\n",
    "def minha_funcao_normal():\n",
    "    print(f\"resultado da minha função\")"
   ]
  },
  {
   "cell_type": "code",
   "execution_count": 23,
   "metadata": {},
   "outputs": [],
   "source": [
    "def decorador(func):\n",
    "    def wrapper():\n",
    "        print(\"Antes da função\")\n",
    "        func() \n",
    "        print(\"Depois da função\")\n",
    "    return wrapper \n",
    "\n",
    "def minha_funcao_normal():\n",
    "    print(f\"resultado da minha função\")"
   ]
  },
  {
   "cell_type": "code",
   "execution_count": 24,
   "metadata": {},
   "outputs": [
    {
     "name": "stdout",
     "output_type": "stream",
     "text": [
      "resultado da minha função\n"
     ]
    }
   ],
   "source": [
    "minha_funcao_normal()"
   ]
  },
  {
   "cell_type": "code",
   "execution_count": 26,
   "metadata": {},
   "outputs": [],
   "source": [
    "@decorador\n",
    "def minha_funcao_normal():\n",
    "    print(f\"resultado da minha função\")"
   ]
  },
  {
   "cell_type": "code",
   "execution_count": 27,
   "metadata": {},
   "outputs": [
    {
     "name": "stdout",
     "output_type": "stream",
     "text": [
      "Antes da função\n",
      "resultado da minha função\n",
      "Depois da função\n"
     ]
    }
   ],
   "source": [
    "minha_funcao_normal()"
   ]
  },
  {
   "cell_type": "markdown",
   "metadata": {},
   "source": [
    "### Calcular tempo de execução de uma função"
   ]
  },
  {
   "cell_type": "code",
   "execution_count": 28,
   "metadata": {},
   "outputs": [],
   "source": [
    "import time \n",
    "\n",
    "def calcular_tempo(func):\n",
    "    def wrapper():\n",
    "        start = time.time() \n",
    "        func() \n",
    "        end = time.time() - start \n",
    "        print(f\"Tempo decorrido = {end}\")\n",
    "    return wrapper  \n",
    "\n",
    "def minha_funcao():\n",
    "    for i in range(0,10):\n",
    "        print(f\"Número = {i}\")"
   ]
  },
  {
   "cell_type": "code",
   "execution_count": 29,
   "metadata": {},
   "outputs": [
    {
     "name": "stdout",
     "output_type": "stream",
     "text": [
      "Número = 0\n",
      "Número = 1\n",
      "Número = 2\n",
      "Número = 3\n",
      "Número = 4\n",
      "Número = 5\n",
      "Número = 6\n",
      "Número = 7\n",
      "Número = 8\n",
      "Número = 9\n"
     ]
    }
   ],
   "source": [
    "minha_funcao()"
   ]
  },
  {
   "cell_type": "code",
   "execution_count": 32,
   "metadata": {},
   "outputs": [],
   "source": [
    "@calcular_tempo\n",
    "def minha_funcao():\n",
    "    for i in range(0,10):\n",
    "        print(f\"Número = {i}\")\n",
    "        time.sleep(1)"
   ]
  },
  {
   "cell_type": "code",
   "execution_count": 33,
   "metadata": {},
   "outputs": [
    {
     "name": "stdout",
     "output_type": "stream",
     "text": [
      "Número = 0\n",
      "Número = 1\n",
      "Número = 2\n",
      "Número = 3\n",
      "Número = 4\n",
      "Número = 5\n",
      "Número = 6\n",
      "Número = 7\n",
      "Número = 8\n",
      "Número = 9\n",
      "Tempo decorrido = 10.092955112457275\n"
     ]
    }
   ],
   "source": [
    "minha_funcao()"
   ]
  },
  {
   "cell_type": "code",
   "execution_count": null,
   "metadata": {},
   "outputs": [],
   "source": []
  },
  {
   "cell_type": "markdown",
   "metadata": {},
   "source": [
    "Pra demonstrar o funcionamento deles, nós vamos construir o hamburger double cheddar do mc donalds usando python"
   ]
  },
  {
   "cell_type": "code",
   "execution_count": 34,
   "metadata": {},
   "outputs": [
    {
     "name": "stdout",
     "output_type": "stream",
     "text": [
      "--carne--\n",
      "--carne--\n"
     ]
    }
   ],
   "source": [
    "def double_cheddar(ingrediente=\"--carne--\"):\n",
    "    print(ingrediente)\n",
    "    print(ingrediente)\n",
    "\n",
    "double_cheddar()"
   ]
  },
  {
   "cell_type": "markdown",
   "metadata": {},
   "source": [
    "Agora vamos criar outro decorator, para adicionar mais ingredientes. E adicionamos o decorator ao double cheddar"
   ]
  },
  {
   "cell_type": "code",
   "execution_count": 35,
   "metadata": {},
   "outputs": [
    {
     "name": "stdout",
     "output_type": "stream",
     "text": [
      "~cebola~\n",
      "#cheddar#\n",
      "--carne--\n",
      "--carne--\n",
      "#cheddar#\n"
     ]
    }
   ],
   "source": [
    "def ingredientes(func):\n",
    "    def wrapper():\n",
    "        print(\"~cebola~\")\n",
    "        print(\"#cheddar#\")\n",
    "        func()\n",
    "        print(\"#cheddar#\")\n",
    "    return wrapper \n",
    "\n",
    "@ingredientes\n",
    "def double_cheddar(ingrediente=\"--carne--\"):\n",
    "    print(ingrediente)\n",
    "    print(ingrediente)\n",
    "\n",
    "\n",
    "double_cheddar()"
   ]
  },
  {
   "cell_type": "code",
   "execution_count": null,
   "metadata": {},
   "outputs": [],
   "source": []
  },
  {
   "cell_type": "code",
   "execution_count": null,
   "metadata": {},
   "outputs": [],
   "source": []
  },
  {
   "cell_type": "markdown",
   "metadata": {},
   "source": [
    "Por fim, criaremos o pão do nosso double cheddar. outro decorator"
   ]
  },
  {
   "cell_type": "code",
   "execution_count": 36,
   "metadata": {},
   "outputs": [
    {
     "name": "stdout",
     "output_type": "stream",
     "text": [
      "</''''''\\>\n",
      "~cebola~\n",
      "#cheddar#\n",
      "--carne--\n",
      "--carne--\n",
      "#cheddar#\n",
      "<\\______/>\n"
     ]
    }
   ],
   "source": [
    "def pao(func):\n",
    "    def wrapper():\n",
    "        print(\"</''''''\\>\")\n",
    "        func()\n",
    "        print(\"<\\______/>\")\n",
    "    return wrapper\n",
    "\n",
    "def ingredientes(func):\n",
    "    def wrapper():\n",
    "        print(\"~cebola~\")\n",
    "        print(\"#cheddar#\")\n",
    "        func()\n",
    "        print(\"#cheddar#\")\n",
    "    return wrapper \n",
    "\n",
    "@pao\n",
    "@ingredientes\n",
    "def double_cheddar(ingrediente=\"--carne--\"):\n",
    "    print(ingrediente)\n",
    "    print(ingrediente)\n",
    "\n",
    "\n",
    "double_cheddar()"
   ]
  },
  {
   "cell_type": "code",
   "execution_count": null,
   "metadata": {},
   "outputs": [],
   "source": []
  },
  {
   "cell_type": "code",
   "execution_count": null,
   "metadata": {},
   "outputs": [],
   "source": []
  },
  {
   "cell_type": "code",
   "execution_count": null,
   "metadata": {},
   "outputs": [],
   "source": []
  },
  {
   "cell_type": "markdown",
   "metadata": {},
   "source": [
    "A ordem dos decoratos importa. Portanto, se invertermos o pão e os ingredientes, vamos ter um double cheddar bem estranho."
   ]
  },
  {
   "cell_type": "code",
   "execution_count": 37,
   "metadata": {},
   "outputs": [
    {
     "name": "stdout",
     "output_type": "stream",
     "text": [
      "~cebola~\n",
      "#cheddar#\n",
      "</''''''\\>\n",
      "--carne--\n",
      "--carne--\n",
      "<\\______/>\n",
      "#cheddar#\n"
     ]
    }
   ],
   "source": [
    "@ingredientes\n",
    "@pao\n",
    "def double_cheddar(ingrediente=\"--carne--\"):\n",
    "    print(ingrediente)\n",
    "    print(ingrediente)\n",
    "\n",
    "\n",
    "double_cheddar()"
   ]
  },
  {
   "cell_type": "code",
   "execution_count": null,
   "metadata": {},
   "outputs": [],
   "source": []
  },
  {
   "cell_type": "code",
   "execution_count": null,
   "metadata": {},
   "outputs": [],
   "source": []
  },
  {
   "cell_type": "markdown",
   "metadata": {},
   "source": [
    "Como eu disse no início. Um decorator é uma função que adiciona coisas em outras funções.\n",
    "\n",
    "Portanto, podemos escrever o double cheddar de outra forma, sem decorators."
   ]
  },
  {
   "cell_type": "code",
   "execution_count": 38,
   "metadata": {},
   "outputs": [
    {
     "name": "stdout",
     "output_type": "stream",
     "text": [
      "</''''''\\>\n",
      "~cebola~\n",
      "#cheddar#\n",
      "--carne--\n",
      "--carne--\n",
      "#cheddar#\n",
      "<\\______/>\n"
     ]
    }
   ],
   "source": [
    "@pao\n",
    "@ingredientes\n",
    "def double_cheddar(ingrediente=\"--carne--\"):\n",
    "    print(ingrediente)\n",
    "    print(ingrediente)\n",
    "\n",
    "\n",
    "double_cheddar()"
   ]
  },
  {
   "cell_type": "code",
   "execution_count": null,
   "metadata": {},
   "outputs": [],
   "source": []
  },
  {
   "cell_type": "code",
   "execution_count": 23,
   "metadata": {},
   "outputs": [],
   "source": [
    "import time \n",
    "\n",
    "def calcular_tempo(func):\n",
    "    def wrapper(*args):\n",
    "        start = time.time() \n",
    "        func(*args) \n",
    "        end = time.time() - start \n",
    "        print(f\"Tempo decorrido = {end}\")\n",
    "    return wrapper  \n",
    "\n",
    "@calcular_tempo\n",
    "def minha_funcao(nome):\n",
    "    for i in range(0,10):\n",
    "        print(f\"Número = {i} | {nome}\")\n",
    "        "
   ]
  },
  {
   "cell_type": "code",
   "execution_count": 24,
   "metadata": {},
   "outputs": [
    {
     "name": "stdout",
     "output_type": "stream",
     "text": [
      "Número = 0 | pao\n",
      "Número = 1 | pao\n",
      "Número = 2 | pao\n",
      "Número = 3 | pao\n",
      "Número = 4 | pao\n",
      "Número = 5 | pao\n",
      "Número = 6 | pao\n",
      "Número = 7 | pao\n",
      "Número = 8 | pao\n",
      "Número = 9 | pao\n",
      "Tempo decorrido = 0.0\n"
     ]
    }
   ],
   "source": [
    "minha_funcao(\"pao\")"
   ]
  },
  {
   "cell_type": "code",
   "execution_count": 25,
   "metadata": {},
   "outputs": [],
   "source": [
    "import time \n",
    "\n",
    "def calcular_tempo(func):\n",
    "    def wrapper():\n",
    "        start = time.time() \n",
    "        func() \n",
    "        end = time.time() - start \n",
    "        print(f\"Tempo decorrido {func.__name__}: {end}\")\n",
    "    return wrapper  \n",
    "\n",
    "@calcular_tempo\n",
    "def minha_funcao():\n",
    "    for i in range(0,10):\n",
    "        print(f\"Número = {i}\")"
   ]
  },
  {
   "cell_type": "code",
   "execution_count": 26,
   "metadata": {},
   "outputs": [
    {
     "name": "stdout",
     "output_type": "stream",
     "text": [
      "Número = 0\n",
      "Número = 1\n",
      "Número = 2\n",
      "Número = 3\n",
      "Número = 4\n",
      "Número = 5\n",
      "Número = 6\n",
      "Número = 7\n",
      "Número = 8\n",
      "Número = 9\n",
      "Tempo decorrido minha_funcao: 0.00054168701171875\n"
     ]
    }
   ],
   "source": [
    "minha_funcao()"
   ]
  },
  {
   "cell_type": "code",
   "execution_count": null,
   "metadata": {},
   "outputs": [],
   "source": []
  }
 ],
 "metadata": {
  "kernelspec": {
   "display_name": "Python 3 (ipykernel)",
   "language": "python",
   "name": "python3"
  },
  "language_info": {
   "codemirror_mode": {
    "name": "ipython",
    "version": 3
   },
   "file_extension": ".py",
   "mimetype": "text/x-python",
   "name": "python",
   "nbconvert_exporter": "python",
   "pygments_lexer": "ipython3",
   "version": "3.12.2"
  }
 },
 "nbformat": 4,
 "nbformat_minor": 2
}
