{
 "cells": [
  {
   "cell_type": "markdown",
   "id": "982a5de9",
   "metadata": {},
   "source": [
    "# Aula 3: Bibliotecas e Módulos"
   ]
  },
  {
   "cell_type": "code",
   "execution_count": null,
   "id": "3916320f",
   "metadata": {},
   "outputs": [],
   "source": []
  },
  {
   "cell_type": "markdown",
   "id": "ea3e2e33",
   "metadata": {},
   "source": [
    "## 1) Bibliotecas\n",
    "\n",
    "Durante o curso, já tivemos contato com algumas **bibliotecas**, como a `datetime` e a `unicodedata`.\n",
    "\n",
    "Você provavelmente já deve ter ouvido os termos **pacotes** (packages) e **módulos** (modules), que são muitas vezes utilizados como sinônimos de **biblioteca**.\n",
    "\n",
    "No entanto, existe uma diferença entre estes termos, e hoje vamos entender qual é!\n",
    "\n",
    "Mas, por enquanto, podemos dizer que uma biblioteca nada mais é que **uma coleção de funcionalidades prontas**, ou seja, \"incrementos adicionais\" do python puro, que podem ser utilizadas pra fazer tarefas específicas. Como veremos, estas funcionalidades são expressas na forma de funções, classes, etc. \n",
    "\n",
    "Além disso, é possível importar uma **biblioteca** de mais de uma maneira. Vamos ver alguns exemplos:"
   ]
  },
  {
   "cell_type": "code",
   "execution_count": 3,
   "id": "31fe8a87",
   "metadata": {},
   "outputs": [],
   "source": [
    "import math # importa tudo do módulo math"
   ]
  },
  {
   "cell_type": "code",
   "execution_count": 4,
   "id": "97eda2ec",
   "metadata": {},
   "outputs": [
    {
     "data": {
      "text/plain": [
       "3.141592653589793"
      ]
     },
     "execution_count": 4,
     "metadata": {},
     "output_type": "execute_result"
    }
   ],
   "source": [
    "math.pi"
   ]
  },
  {
   "cell_type": "markdown",
   "id": "aef66a5d",
   "metadata": {},
   "source": [
    "Podemos dar um \"apelido\" para a biblioteca, que em python é chamado de \"alias\". \n",
    "\n",
    "Para isso, usamos a estrutura: \n",
    "```python\n",
    "import nome_da_biblioteca as apelido_da_biblioteca\n",
    "```\n",
    "Assim, quando formos nos referir à biblioteca para utilizar uma de suas funções, usamos o seu apelido, ao invés de seu nome completo\n",
    "\n",
    "Por exemplo, podemo simportar a biblioteca datetime com o apelido \"dt\""
   ]
  },
  {
   "cell_type": "code",
   "execution_count": 16,
   "id": "0f5fa5d3",
   "metadata": {},
   "outputs": [],
   "source": [
    "import pandas as pd\n",
    "import numpy as np\n",
    "import matplotlib.pyplot as plt"
   ]
  },
  {
   "cell_type": "code",
   "execution_count": null,
   "id": "d6cbbb5e",
   "metadata": {},
   "outputs": [],
   "source": []
  },
  {
   "cell_type": "code",
   "execution_count": null,
   "id": "e1205d34",
   "metadata": {},
   "outputs": [],
   "source": []
  },
  {
   "cell_type": "markdown",
   "id": "24847234",
   "metadata": {},
   "source": [
    "Além disso, podemos importar uma unica classe ou função\n",
    "\n",
    "Para isso usamos a estrutura\n",
    "```python\n",
    "from nome_da_biblioteca import nome_da_funcao_ou_classe\n",
    "```\n",
    "\n",
    "Dessa forma o código fica um pouco mais direto"
   ]
  },
  {
   "cell_type": "code",
   "execution_count": 17,
   "id": "6f8bcd89",
   "metadata": {},
   "outputs": [],
   "source": [
    "from math import pi, exp, dist # importa somente o pi do módulo math"
   ]
  },
  {
   "cell_type": "code",
   "execution_count": 18,
   "id": "80a44c6c",
   "metadata": {},
   "outputs": [
    {
     "data": {
      "text/plain": [
       "3.141592653589793"
      ]
     },
     "execution_count": 18,
     "metadata": {},
     "output_type": "execute_result"
    }
   ],
   "source": [
    "pi"
   ]
  },
  {
   "cell_type": "code",
   "execution_count": 19,
   "id": "8b2effd1",
   "metadata": {},
   "outputs": [
    {
     "data": {
      "text/plain": [
       "2.718281828459045"
      ]
     },
     "execution_count": 19,
     "metadata": {},
     "output_type": "execute_result"
    }
   ],
   "source": [
    "exp(1)"
   ]
  },
  {
   "cell_type": "code",
   "execution_count": 20,
   "id": "c04d45c1",
   "metadata": {},
   "outputs": [
    {
     "data": {
      "text/plain": [
       "8.0"
      ]
     },
     "execution_count": 20,
     "metadata": {},
     "output_type": "execute_result"
    }
   ],
   "source": [
    "dist([1,2,3,4], [5,6,7,8])"
   ]
  },
  {
   "cell_type": "code",
   "execution_count": 7,
   "id": "98ba30c7",
   "metadata": {},
   "outputs": [
    {
     "data": {
      "text/plain": [
       "['$Recycle.Bin',\n",
       " '$SysReset',\n",
       " '$WINDOWS.~BT',\n",
       " '$Windows.~WS',\n",
       " 'Apps',\n",
       " 'appverifUI.dll',\n",
       " 'Arquivos de Programas',\n",
       " 'Config.Msi',\n",
       " 'DELL',\n",
       " 'dell.sdr',\n",
       " 'Documents and Settings',\n",
       " 'Drivers',\n",
       " 'DumpStack.log',\n",
       " 'DumpStack.log.tmp',\n",
       " 'e-logo',\n",
       " 'EAGLE 9.6.2',\n",
       " 'easyeda-data',\n",
       " 'edb',\n",
       " 'ESD',\n",
       " 'FIOD.manifest',\n",
       " 'GrupoForus',\n",
       " 'hiberfil.sys',\n",
       " 'Install',\n",
       " 'Intel',\n",
       " 'langpacks',\n",
       " 'lbr',\n",
       " 'OneDriveTemp',\n",
       " 'pagefile.sys',\n",
       " 'PerfLogs',\n",
       " 'ProcessDaemon',\n",
       " 'Program Files',\n",
       " 'Program Files (x86)',\n",
       " 'ProgramData',\n",
       " 'Recovery',\n",
       " 'Scan',\n",
       " 'SOLIDWORKS Data',\n",
       " 'src',\n",
       " 'swapfile.sys',\n",
       " 'System Repair',\n",
       " 'System Volume Information',\n",
       " 'temp',\n",
       " 'Users',\n",
       " 'vfcompat.dll',\n",
       " 'WCH.CN',\n",
       " 'Windows',\n",
       " 'xampp']"
      ]
     },
     "execution_count": 7,
     "metadata": {},
     "output_type": "execute_result"
    }
   ],
   "source": [
    "import os\n",
    "\n",
    "os.listdir('/')\n"
   ]
  },
  {
   "cell_type": "code",
   "execution_count": 4,
   "id": "a06ffefd",
   "metadata": {},
   "outputs": [
    {
     "name": "stdout",
     "output_type": "stream",
     "text": [
      "Tempo decorrido: 5.001444101333618\n"
     ]
    }
   ],
   "source": [
    "import time\n",
    "start = time.time()\n",
    "\n",
    "time.sleep(5)\n",
    "\n",
    "end = time.time()\n",
    "\n",
    "print(f'Tempo decorrido: {end - start}')"
   ]
  },
  {
   "cell_type": "code",
   "execution_count": 3,
   "id": "492d7282",
   "metadata": {},
   "outputs": [
    {
     "data": {
      "text/plain": [
       "datetime.datetime(2024, 8, 30, 19, 41, 15, 208517)"
      ]
     },
     "execution_count": 3,
     "metadata": {},
     "output_type": "execute_result"
    }
   ],
   "source": [
    "import datetime as dt\n",
    "\n",
    "dt.datetime.today()"
   ]
  },
  {
   "cell_type": "code",
   "execution_count": 19,
   "id": "e81ad2f3",
   "metadata": {},
   "outputs": [
    {
     "name": "stdout",
     "output_type": "stream",
     "text": [
      "2024-08-28 20:23:22.430181\n"
     ]
    },
    {
     "data": {
      "text/plain": [
       "'28/08/2024 - 20:23:22'"
      ]
     },
     "execution_count": 19,
     "metadata": {},
     "output_type": "execute_result"
    }
   ],
   "source": [
    "def registrar_data_hora():\n",
    "    agora = dt.datetime.now()\n",
    "    print(agora)\n",
    "    data_hora_formatada = agora.strftime('%d/%m/%Y - %H:%M:%S')\n",
    "    return data_hora_formatada\n",
    "\n",
    "registrar_data_hora()"
   ]
  },
  {
   "cell_type": "code",
   "execution_count": 10,
   "id": "52e17027",
   "metadata": {},
   "outputs": [
    {
     "data": {
      "text/plain": [
       "'30/08/2024'"
      ]
     },
     "execution_count": 10,
     "metadata": {},
     "output_type": "execute_result"
    }
   ],
   "source": [
    "dt.datetime.today().strftime(format=\"%d/%m/%Y\")"
   ]
  },
  {
   "cell_type": "code",
   "execution_count": 8,
   "id": "7ced4b23",
   "metadata": {},
   "outputs": [],
   "source": [
    "import sys\n",
    "\n",
    "sys.exception()"
   ]
  },
  {
   "cell_type": "markdown",
   "id": "e917eab7",
   "metadata": {},
   "source": [
    "## 2) Módulos, Pacotes, Bibliotecas (agora sim!)"
   ]
  },
  {
   "cell_type": "markdown",
   "id": "aea5bf79",
   "metadata": {},
   "source": [
    "Muitas vezes, usamos os termos \"biblioteca\", \"pacote\" e \"módulo\" como sinônimos. Mas, na verdade, existe uma distinção importante entre estes termos. Vamos entender agora um pouco melhor!"
   ]
  },
  {
   "cell_type": "markdown",
   "id": "ad278abe",
   "metadata": {},
   "source": [
    "### Módulos\n",
    "\n",
    "Qualquer script Python (arquivo com extensão .py) pode ser considerado um módulo.\n",
    "\n",
    "E o motivo da existência de módulos é muito simples: modularização e organização.\n",
    "\n",
    "Em um módulo, podemos adicionar **funções**, **classes**, e qualquer funcionalidade que queiramos organizar em um arquivo, para que estas funcionalidades sejam **importadas** para qualquer projeto que desejemos!\n",
    "\n",
    "Abaixo, faremos um exemplo, e construiremos nosso próprio módulo! :)"
   ]
  },
  {
   "cell_type": "markdown",
   "id": "4c946284",
   "metadata": {},
   "source": [
    "###  Pacotes\n",
    "\n",
    "É comum que tenhamos vários módulos, cada um com seu conjunto de funcionalidades específicas. Se quisermos estruturar este conjunto de módulos em uma única estrutura, temos um **pacote**, que é exatamente isso: um diretório (pasta) onde colocamos diversos módulos!\n",
    "\n",
    "Um ponto importante é que para que o Python entenda que uma pasta (diretório) é importante que nós adicionemos à pasta um arquivo vazio com o nome \\_\\_init\\_\\_.py. (E, não por acaso, esse arquivo é chamado de **construtor** de um pacote!)\n",
    "\n",
    "<img src=https://files.realpython.com/media/pkg2.dab97c2f9c58.png width=200>\n",
    "\n",
    "Na prática, ele serve apenas como um indicatio, para o Python saber que os arquivos .py (módulos) naquela pasta fazem parte de um pacote, e que podem ser importados, etc.\n",
    "\n",
    "Abaixo, faremos um exemplo, e construiremos nosso próprio pacote! :)"
   ]
  },
  {
   "cell_type": "markdown",
   "id": "0f963144",
   "metadata": {},
   "source": [
    "###  Bibliotecas\n",
    "\n",
    "No uso coloquial, muitas vezes chamamos módulos e pacotes de \"bibliotecas\". E, coloquialmente, este uso é bem aceitável.\n",
    "\n",
    "Mas, formalmente falando, usamos o termo **biblioteca** para nos referir a pacotes (ou até mesmo módulos individuais) que são publicados, como parte de um projeto particular, ou para determinado uso.\n",
    "\n",
    "De forma macro, quase toda biblioteca é um conjunto de pacotes. Mas, como dissemos, há uma certa liberdade no uso deste termo.\n",
    "\n",
    "O importanque é que agora você entende bem o que de fato é uma biblioteca em Python, bem como o que é um módulo e um pacote. Tendo isso em mente, podemos utilizar os termos de maneira mais corriqueira e coloquial, de acordo com a situação :)"
   ]
  },
  {
   "cell_type": "markdown",
   "id": "efc52e61",
   "metadata": {},
   "source": [
    "Em resumo,\n",
    "\n",
    "- Um **módulo** é um arquivo de extensão .py com código em Python nele (comumente definição de funções, classes, etc.);\n",
    "\n",
    "- Um **pacote** é uma coleção de módulos. Costuma ser uma pasta com os módulos e o arquivo especial \\_\\_init\\_\\_.py vazio;\n",
    "\n",
    "- Uma **biblioteca** é uma coleção de pacotes ou módulos.\n",
    "\n",
    "<img src=https://cdn.programiz.com/sites/tutorial2program/files/PackageModuleStructure.jpg width=500>"
   ]
  },
  {
   "cell_type": "markdown",
   "id": "59167fcb",
   "metadata": {},
   "source": [
    "Agora que já entendemos o conceitual, vamos criar nossos próprios módulos/pacotes/bibliotecas!"
   ]
  },
  {
   "cell_type": "markdown",
   "id": "dea8ead0",
   "metadata": {},
   "source": [
    "nossa estrutura:\n",
    "\n",
    "aula_3_biblioteca -> aula_3_pacote -> aula3_modulo.py"
   ]
  },
  {
   "cell_type": "code",
   "execution_count": 25,
   "id": "a595ef91",
   "metadata": {},
   "outputs": [],
   "source": [
    "# from aula3_biblioteca.aula3_pacote.aula3_modulo import nossa_funcao"
   ]
  },
  {
   "cell_type": "code",
   "execution_count": null,
   "id": "7e8cee33",
   "metadata": {},
   "outputs": [],
   "source": [
    "from aula3_biblioteca import nossa_funcao"
   ]
  },
  {
   "cell_type": "code",
   "execution_count": 26,
   "id": "9ba5a982",
   "metadata": {},
   "outputs": [
    {
     "name": "stdout",
     "output_type": "stream",
     "text": [
      "Estou dentro do módulo da aula 3\n"
     ]
    }
   ],
   "source": [
    "nossa_funcao()"
   ]
  },
  {
   "cell_type": "markdown",
   "id": "cccc1c94",
   "metadata": {},
   "source": [
    "## 3) Criando a importando nossos próprios modulos/pacotes/bibliotecas\n",
    "\n",
    "Como vimos acima, podemos fazer um programa no Jupyter Notebook, e exportá-lo com a extensão \".py\", para, por exemplo, executá-lo no terminal, ou em alguma outra plataforma.\n",
    "\n",
    "Com isso, podemos criar **nossos próprios módulos**, ou, se quisermos, **pacotes e bibliotecas!**"
   ]
  },
  {
   "cell_type": "markdown",
   "id": "f15dea99",
   "metadata": {},
   "source": [
    "Para isso, basta criarmos arquivos \".py\", e o resto da infraestrutura necessária, conforme vimos acima. Vamos fazer isso!"
   ]
  },
  {
   "cell_type": "markdown",
   "id": "26aeeb46",
   "metadata": {},
   "source": [
    "Após criar o módulo/pacote/biblioteca, podemos importo-la como fazemos com qualquer outra bilioteca"
   ]
  },
  {
   "cell_type": "markdown",
   "id": "ec772ca8",
   "metadata": {},
   "source": [
    "Vamos modularizar as classes do exercício desafio que fizemos no começo da aula. Para isso, vamos inicialmente"
   ]
  },
  {
   "cell_type": "code",
   "execution_count": null,
   "id": "be4a540a",
   "metadata": {},
   "outputs": [],
   "source": []
  },
  {
   "cell_type": "markdown",
   "id": "5a02025a",
   "metadata": {},
   "source": [
    "## Exercícios"
   ]
  },
  {
   "cell_type": "markdown",
   "id": "673bbacc",
   "metadata": {},
   "source": [
    "### 1) Crie uma classe `Bola` cujos atributos são cor e raio. \n",
    "\n",
    "Crie um método para calcular a área dessa bola (obs.: a área de uma esfera é $4 \\pi r^2$). \n",
    "\n",
    "Crie um método que imprime a cor da bola. \n",
    "\n",
    "Crie um método para calcular o volume da bola (obs.: o volume de uma esfera é $\\frac{4}{3}\\pi r^3$). "
   ]
  },
  {
   "cell_type": "code",
   "execution_count": 45,
   "id": "7ed712a2",
   "metadata": {},
   "outputs": [],
   "source": [
    "from math import pi\n",
    "\n",
    "class Esfera:\n",
    "    def __init__(self, raio:float, cor:str) -> None:\n",
    "        self._raio = raio\n",
    "        self.cor = cor\n",
    "\n",
    "\n",
    "    def volume(self):\n",
    "        volume_calculado = (4/3) * pi * (self._raio ** 3)\n",
    "        return volume_calculado\n",
    "    \n",
    "    def area_superficie(self) -> float:\n",
    "        area_calculada = 4 * pi * (self._raio ** 2)\n",
    "        return area_calculada\n",
    "    \n",
    "    def imprime_cor(self):\n",
    "        print(f'A cor da esféra é {self.cor}')\n",
    "    \n",
    "    @property\n",
    "    def raio(self) -> int:\n",
    "        return self._raio\n",
    "        "
   ]
  },
  {
   "cell_type": "markdown",
   "id": "7d839bde",
   "metadata": {},
   "source": [
    "### 2. Crie uma classe `Retangulo` cujos atributos são `lado_a` e `lado_b`. \n",
    "\n",
    "Crie um método para calcular a área desse retângulo. \n",
    "\n",
    "Crie um objeto dessa classe e calcule a área e a imprima em seguida.\n"
   ]
  },
  {
   "cell_type": "code",
   "execution_count": 46,
   "id": "03382a37",
   "metadata": {},
   "outputs": [],
   "source": [
    "class Retangulo:\n",
    "    def __init__(self, base: float, altura: float) -> None:\n",
    "        self._base = base\n",
    "        self._altura = altura\n",
    "        self.area = 0\n",
    "        self.perimetro = 0\n",
    "\n",
    "    def calcular_area(self):\n",
    "        self.area = self._base * self._altura\n",
    "        print(self.area)\n",
    "\n",
    "    def calcular_perimitro(self):\n",
    "        self.perimetro = 2 * (self._base + self._altura)\n",
    "        print(self.perimetro)\n",
    "\n",
    "    @property\n",
    "    def base(self) -> float:\n",
    "        return self._base\n",
    "    \n",
    "    @property\n",
    "    def altura(self) -> float:\n",
    "        return self._altura\n",
    "    \n",
    "    @base.setter\n",
    "    def base(self, nova_base:float) -> None:\n",
    "        self._base = nova_base\n",
    "\n",
    "    @altura.setter\n",
    "    def altura(self, nova_altura:float) -> None:\n",
    "        self._altura = nova_altura"
   ]
  },
  {
   "cell_type": "markdown",
   "id": "a6e2590d",
   "metadata": {},
   "source": [
    "### 3. Empacote ambas as classes num package chamado Geometria e faça uso do pacote importado\n",
    "\n",
    "Instancie um objeto de cada classe e calcule suas áreas"
   ]
  },
  {
   "cell_type": "code",
   "execution_count": 2,
   "id": "a57cccc4",
   "metadata": {},
   "outputs": [],
   "source": [
    "# from geometria.esfera import Esfera\n",
    "# from geometria.retangulo import Retangulo\n",
    "\n",
    "# criei um atalho de importação dentro do __init__\n",
    "from geometria import Esfera, Retangulo"
   ]
  },
  {
   "cell_type": "code",
   "execution_count": 3,
   "id": "891ec30b",
   "metadata": {},
   "outputs": [],
   "source": [
    "e1 = Esfera(2, 'amarelo')"
   ]
  },
  {
   "cell_type": "code",
   "execution_count": 4,
   "id": "dd1218a0",
   "metadata": {},
   "outputs": [
    {
     "data": {
      "text/plain": [
       "50.26548245743669"
      ]
     },
     "execution_count": 4,
     "metadata": {},
     "output_type": "execute_result"
    }
   ],
   "source": [
    "e1.area_superficie()"
   ]
  },
  {
   "cell_type": "code",
   "execution_count": 5,
   "id": "3fe99693",
   "metadata": {},
   "outputs": [
    {
     "name": "stdout",
     "output_type": "stream",
     "text": [
      "A cor da esféra é amarelo\n"
     ]
    }
   ],
   "source": [
    "e1.imprime_cor()"
   ]
  },
  {
   "cell_type": "code",
   "execution_count": 5,
   "id": "5a7b1654",
   "metadata": {},
   "outputs": [
    {
     "data": {
      "text/plain": [
       "33.510321638291124"
      ]
     },
     "execution_count": 5,
     "metadata": {},
     "output_type": "execute_result"
    }
   ],
   "source": [
    "e1.volume()"
   ]
  },
  {
   "cell_type": "code",
   "execution_count": 6,
   "id": "e3ad8e70",
   "metadata": {},
   "outputs": [],
   "source": [
    "rt1 = Retangulo(5.0, 3.0)"
   ]
  },
  {
   "cell_type": "code",
   "execution_count": 7,
   "id": "d2d9e48a",
   "metadata": {},
   "outputs": [
    {
     "name": "stdout",
     "output_type": "stream",
     "text": [
      "15.0\n"
     ]
    }
   ],
   "source": [
    "rt1.calcular_area()"
   ]
  },
  {
   "cell_type": "code",
   "execution_count": 8,
   "id": "6bb7d3cd",
   "metadata": {},
   "outputs": [
    {
     "name": "stdout",
     "output_type": "stream",
     "text": [
      "16.0\n"
     ]
    }
   ],
   "source": [
    "rt1.calcular_perimitro()"
   ]
  }
 ],
 "metadata": {
  "kernelspec": {
   "display_name": "Python 3 (ipykernel)",
   "language": "python",
   "name": "python3"
  },
  "language_info": {
   "codemirror_mode": {
    "name": "ipython",
    "version": 3
   },
   "file_extension": ".py",
   "mimetype": "text/x-python",
   "name": "python",
   "nbconvert_exporter": "python",
   "pygments_lexer": "ipython3",
   "version": "3.12.2"
  }
 },
 "nbformat": 4,
 "nbformat_minor": 5
}
