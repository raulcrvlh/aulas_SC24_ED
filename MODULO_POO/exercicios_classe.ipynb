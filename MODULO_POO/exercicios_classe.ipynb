{
 "cells": [
  {
   "cell_type": "markdown",
   "metadata": {},
   "source": [
    "# Aula 2: Exercícios"
   ]
  },
  {
   "cell_type": "code",
   "execution_count": null,
   "metadata": {},
   "outputs": [],
   "source": []
  },
  {
   "cell_type": "markdown",
   "metadata": {},
   "source": [
    "# Programação Orientada a Objetos\n",
    "- Foco em **modelar** o mundo real, ou seja, representar coisas do mundo real\n",
    "- Descrição de entidades com características, habilidades e ações\n",
    "- O programa surge da interação entre esses modelos\n",
    "- Amplamente utilizado no desenvolvimento de sistemas\n",
    "\n",
    "&nbsp;\n",
    "\n",
    "## Benefícios da POO\n",
    "- Facilidade em reutilizar as entidades para resolver problemas semelhantes\n",
    "- Facilidade para incorporar o código em outros projetos\n",
    "\n",
    "&nbsp;\n",
    "\n",
    "## Mas o que são objetos?\n",
    "- Entidades que compões um programa\n",
    "- Cada objeto é responsável por executar determinadas tarefas\n",
    "- O conjunto de tarefas define seu comportamento\n",
    "\n",
    "&nbsp;\n",
    "\n",
    "## Características, estado e funções\n",
    "- Representações lógicas de objetos do mundo real, com **características**, **estados** e **funções**\n",
    "- As características são chamadas de **atributos** ou **propriedades**\n",
    "- O **estado** pode ser entendido como uma característica (ou um conjunto de características) mais flexíveis\n",
    "- **Funções** são ações que o objeto pode realizar\n",
    " \n",
    "&nbsp;\n",
    "\n",
    "## Objetos são reais ou abstratos?\n",
    "- Objetos podem ser representações reais (pessoas) ou abstratas (departamento de TI)"
   ]
  },
  {
   "cell_type": "markdown",
   "metadata": {},
   "source": [
    "### Exercício 1\n",
    "Uma lâmpada com dimmer"
   ]
  },
  {
   "cell_type": "code",
   "execution_count": null,
   "metadata": {},
   "outputs": [],
   "source": []
  },
  {
   "cell_type": "code",
   "execution_count": null,
   "metadata": {},
   "outputs": [],
   "source": []
  },
  {
   "cell_type": "markdown",
   "metadata": {},
   "source": [
    "\n",
    "### Exercício 2\n",
    "Um carro"
   ]
  },
  {
   "cell_type": "code",
   "execution_count": null,
   "metadata": {},
   "outputs": [],
   "source": []
  },
  {
   "cell_type": "code",
   "execution_count": null,
   "metadata": {},
   "outputs": [],
   "source": []
  },
  {
   "cell_type": "markdown",
   "metadata": {},
   "source": [
    "\n",
    "### Exercício 3\n",
    "Um quadrado (incluir cálculo de área e perímetro)"
   ]
  },
  {
   "cell_type": "code",
   "execution_count": 2,
   "metadata": {},
   "outputs": [],
   "source": [
    "from math import sqrt\n",
    "\n",
    "class Quadrado:\n",
    "    def __init__(self, lado: float) -> None:\n",
    "        self._lado = lado\n",
    "        self.area = 0\n",
    "        self.perimetro = 0\n",
    "\n",
    "    def calcular_area(self):\n",
    "        self.area = self._lado ** 2\n",
    "        print(self.area)\n",
    "\n",
    "    def calcular_perimitro(self):\n",
    "        self.perimetro = 4 * sqrt(self.area)\n",
    "        print(self.perimetro)\n",
    "    \n",
    "    @property\n",
    "    def lado(self):\n",
    "        return self._lado\n",
    "    \n",
    "    @lado.setter\n",
    "    def lado(self, novo_lado):\n",
    "        self._lado = novo_lado"
   ]
  },
  {
   "cell_type": "code",
   "execution_count": 3,
   "metadata": {},
   "outputs": [],
   "source": [
    "q1 = Quadrado(5)"
   ]
  },
  {
   "cell_type": "code",
   "execution_count": 4,
   "metadata": {},
   "outputs": [
    {
     "name": "stdout",
     "output_type": "stream",
     "text": [
      "25\n"
     ]
    }
   ],
   "source": [
    "q1.calcular_area()"
   ]
  },
  {
   "cell_type": "code",
   "execution_count": 5,
   "metadata": {},
   "outputs": [
    {
     "name": "stdout",
     "output_type": "stream",
     "text": [
      "20.0\n"
     ]
    }
   ],
   "source": [
    "q1.calcular_perimitro()"
   ]
  },
  {
   "cell_type": "code",
   "execution_count": 6,
   "metadata": {},
   "outputs": [],
   "source": [
    "q1.lado = 6"
   ]
  },
  {
   "cell_type": "code",
   "execution_count": 7,
   "metadata": {},
   "outputs": [
    {
     "name": "stdout",
     "output_type": "stream",
     "text": [
      "36\n"
     ]
    }
   ],
   "source": [
    "q1.calcular_area()"
   ]
  },
  {
   "cell_type": "code",
   "execution_count": 8,
   "metadata": {},
   "outputs": [
    {
     "name": "stdout",
     "output_type": "stream",
     "text": [
      "24.0\n"
     ]
    }
   ],
   "source": [
    "q1.calcular_perimitro()"
   ]
  },
  {
   "cell_type": "markdown",
   "metadata": {},
   "source": [
    "### Exercício 4\n",
    "\n",
    "Um retângulo (incluir área e perímetro)"
   ]
  },
  {
   "cell_type": "code",
   "execution_count": 9,
   "metadata": {},
   "outputs": [],
   "source": [
    "class Retangulo:\n",
    "    def __init__(self, base: float, altura: float) -> None:\n",
    "        self._base = base\n",
    "        self._altura = altura\n",
    "        self.area = 0\n",
    "        self.perimetro = 0\n",
    "\n",
    "    def calcular_area(self):\n",
    "        self.area = self._base * self._altura\n",
    "        print(self.area)\n",
    "\n",
    "    def calcular_perimitro(self):\n",
    "        self.perimetro = 2 * (self._base + self._altura)\n",
    "        print(self.perimetro)\n",
    "\n",
    "    @property\n",
    "    def base(self) -> float:\n",
    "        return self._base\n",
    "    \n",
    "    @property\n",
    "    def altura(self) -> float:\n",
    "        return self._altura\n",
    "    \n",
    "    @base.setter\n",
    "    def base(self, nova_base:float) -> None:\n",
    "        self._base = nova_base\n",
    "\n",
    "    @altura.setter\n",
    "    def altura(self, nova_altura:float) -> None:\n",
    "        self._altura = nova_altura"
   ]
  },
  {
   "cell_type": "code",
   "execution_count": 10,
   "metadata": {},
   "outputs": [],
   "source": [
    "r1 = Retangulo(5,8)"
   ]
  },
  {
   "cell_type": "code",
   "execution_count": 11,
   "metadata": {},
   "outputs": [
    {
     "name": "stdout",
     "output_type": "stream",
     "text": [
      "40\n"
     ]
    }
   ],
   "source": [
    "r1.calcular_area()"
   ]
  },
  {
   "cell_type": "code",
   "execution_count": 12,
   "metadata": {},
   "outputs": [
    {
     "name": "stdout",
     "output_type": "stream",
     "text": [
      "26\n"
     ]
    }
   ],
   "source": [
    "r1.calcular_perimitro()"
   ]
  },
  {
   "cell_type": "code",
   "execution_count": 13,
   "metadata": {},
   "outputs": [],
   "source": [
    "r1.altura = 4"
   ]
  },
  {
   "cell_type": "code",
   "execution_count": 14,
   "metadata": {},
   "outputs": [
    {
     "name": "stdout",
     "output_type": "stream",
     "text": [
      "20\n"
     ]
    }
   ],
   "source": [
    "r1.calcular_area()"
   ]
  },
  {
   "cell_type": "code",
   "execution_count": 15,
   "metadata": {},
   "outputs": [
    {
     "name": "stdout",
     "output_type": "stream",
     "text": [
      "18\n"
     ]
    }
   ],
   "source": [
    "r1.calcular_perimitro()"
   ]
  },
  {
   "cell_type": "code",
   "execution_count": 16,
   "metadata": {},
   "outputs": [],
   "source": [
    "r1.base = 2"
   ]
  },
  {
   "cell_type": "code",
   "execution_count": 17,
   "metadata": {},
   "outputs": [
    {
     "name": "stdout",
     "output_type": "stream",
     "text": [
      "8\n"
     ]
    }
   ],
   "source": [
    "r1.calcular_area()"
   ]
  },
  {
   "cell_type": "code",
   "execution_count": 18,
   "metadata": {},
   "outputs": [
    {
     "name": "stdout",
     "output_type": "stream",
     "text": [
      "12\n"
     ]
    }
   ],
   "source": [
    "r1.calcular_perimitro()"
   ]
  },
  {
   "cell_type": "markdown",
   "metadata": {},
   "source": [
    "### Exercício 5\n",
    "\n",
    "Uma Bola (incluir volume e área de superfície)"
   ]
  },
  {
   "cell_type": "code",
   "execution_count": 19,
   "metadata": {},
   "outputs": [],
   "source": [
    "from math import pi\n",
    "\n",
    "class Esfera:\n",
    "    def __init__(self, raio) -> None:\n",
    "        self._raio = raio\n",
    "\n",
    "    def volume(self):\n",
    "        volume_calculado = (4/3) * pi * (self._raio ** 3)\n",
    "        return volume_calculado\n",
    "    \n",
    "    def area_superficie(self) -> float:\n",
    "        area_calculada = 4 * pi * (self._raio ** 2)\n",
    "        return area_calculada\n",
    "    \n",
    "    @property\n",
    "    def raio(self) -> int:\n",
    "        return self._raio\n",
    "        "
   ]
  },
  {
   "cell_type": "code",
   "execution_count": 20,
   "metadata": {},
   "outputs": [],
   "source": [
    "e1 = Esfera(raio = 2)"
   ]
  },
  {
   "cell_type": "code",
   "execution_count": 21,
   "metadata": {},
   "outputs": [
    {
     "data": {
      "text/plain": [
       "33.510321638291124"
      ]
     },
     "execution_count": 21,
     "metadata": {},
     "output_type": "execute_result"
    }
   ],
   "source": [
    "e1.volume()"
   ]
  },
  {
   "cell_type": "code",
   "execution_count": 22,
   "metadata": {},
   "outputs": [
    {
     "data": {
      "text/plain": [
       "50.26548245743669"
      ]
     },
     "execution_count": 22,
     "metadata": {},
     "output_type": "execute_result"
    }
   ],
   "source": [
    "e1.area_superficie()"
   ]
  },
  {
   "cell_type": "code",
   "execution_count": 23,
   "metadata": {},
   "outputs": [],
   "source": [
    "from math import pi\n",
    "\n",
    "class Cilindro:\n",
    "    def __init__(self, diametro: float, altura: float) -> None:\n",
    "        self._diametro = diametro\n",
    "        self._altura = altura\n",
    "        self.raio = 0\n",
    "        self.area = 0\n",
    "        self.volume = 0\n",
    "\n",
    "    def calcular_area(self):\n",
    "        self.raio = self._diametro / 2\n",
    "        self.area = pi * (self.raio) ** 2 \n",
    "        print(self.area)\n",
    "\n",
    "    def calcular_volume(self):\n",
    "        self.volume = self.area * self._altura\n",
    "        print(self.volume)\n",
    "\n",
    "    @property\n",
    "    def diametro(self) -> float:\n",
    "        return self._diametro\n",
    "    \n",
    "    @property\n",
    "    def altura(self) -> float:\n",
    "        return self._altura\n",
    "    \n",
    "    @diametro.setter\n",
    "    def diametro(self, novo_diametro) -> float:\n",
    "        self._diametro = novo_diametro\n",
    "\n",
    "    @altura.setter\n",
    "    def altura(self, nova_altura) -> float:\n",
    "        self._altura = nova_altura\n"
   ]
  },
  {
   "cell_type": "code",
   "execution_count": 24,
   "metadata": {},
   "outputs": [],
   "source": [
    "c1 = Cilindro(8, 8)"
   ]
  },
  {
   "cell_type": "code",
   "execution_count": 25,
   "metadata": {},
   "outputs": [
    {
     "name": "stdout",
     "output_type": "stream",
     "text": [
      "50.26548245743669\n"
     ]
    }
   ],
   "source": [
    "c1.calcular_area()"
   ]
  },
  {
   "cell_type": "code",
   "execution_count": 26,
   "metadata": {},
   "outputs": [
    {
     "name": "stdout",
     "output_type": "stream",
     "text": [
      "402.1238596594935\n"
     ]
    }
   ],
   "source": [
    "c1.calcular_volume()"
   ]
  },
  {
   "cell_type": "code",
   "execution_count": 27,
   "metadata": {},
   "outputs": [],
   "source": [
    "c1.altura = 6"
   ]
  },
  {
   "cell_type": "code",
   "execution_count": 28,
   "metadata": {},
   "outputs": [
    {
     "data": {
      "text/plain": [
       "6"
      ]
     },
     "execution_count": 28,
     "metadata": {},
     "output_type": "execute_result"
    }
   ],
   "source": [
    "c1._altura"
   ]
  },
  {
   "cell_type": "code",
   "execution_count": 29,
   "metadata": {},
   "outputs": [
    {
     "data": {
      "text/plain": [
       "8"
      ]
     },
     "execution_count": 29,
     "metadata": {},
     "output_type": "execute_result"
    }
   ],
   "source": [
    "c1._diametro"
   ]
  },
  {
   "cell_type": "code",
   "execution_count": 30,
   "metadata": {},
   "outputs": [
    {
     "name": "stdout",
     "output_type": "stream",
     "text": [
      "50.26548245743669\n"
     ]
    }
   ],
   "source": [
    "c1.calcular_area()"
   ]
  },
  {
   "cell_type": "code",
   "execution_count": 31,
   "metadata": {},
   "outputs": [
    {
     "name": "stdout",
     "output_type": "stream",
     "text": [
      "301.59289474462014\n"
     ]
    }
   ],
   "source": [
    "c1.calcular_volume()"
   ]
  },
  {
   "cell_type": "code",
   "execution_count": 32,
   "metadata": {},
   "outputs": [],
   "source": [
    "c1.diametro = 6"
   ]
  },
  {
   "cell_type": "code",
   "execution_count": 33,
   "metadata": {},
   "outputs": [
    {
     "data": {
      "text/plain": [
       "6"
      ]
     },
     "execution_count": 33,
     "metadata": {},
     "output_type": "execute_result"
    }
   ],
   "source": [
    "c1._diametro"
   ]
  },
  {
   "cell_type": "code",
   "execution_count": 34,
   "metadata": {},
   "outputs": [
    {
     "name": "stdout",
     "output_type": "stream",
     "text": [
      "28.274333882308138\n"
     ]
    }
   ],
   "source": [
    "c1.calcular_area()"
   ]
  },
  {
   "cell_type": "code",
   "execution_count": 35,
   "metadata": {},
   "outputs": [
    {
     "name": "stdout",
     "output_type": "stream",
     "text": [
      "169.64600329384882\n"
     ]
    }
   ],
   "source": [
    "c1.calcular_volume()"
   ]
  },
  {
   "cell_type": "markdown",
   "metadata": {},
   "source": [
    "### Exercício 6\n",
    "Escreva a classe que represente a abstração de um triângulo.\n",
    "\n",
    "Além dos atributos e método construtor, a classe deverá possuir também um método que retorne se o triângulo é\n",
    "\n",
    "- Equilátero: tem 3 lados iguais\n",
    "- Isósceles: tem 2 lados iguais\n",
    "- Escaleno: tem 3 lados diferentes\n",
    "\n",
    "O método deverá retornar uma string contendo o nome do triângulo (equilátero, isósceles ou escaleno)\n",
    "\n",
    "## Atenção:\n",
    "\n",
    "Para cada triângulo, deifina o métdo de área e perímetro."
   ]
  },
  {
   "cell_type": "code",
   "execution_count": 36,
   "metadata": {},
   "outputs": [],
   "source": [
    "class Triangulo:\n",
    "    def __init__(self, base:float, lado1:float, lado2:float) -> None:\n",
    "        self._base = base\n",
    "        self._lado1 = lado1\n",
    "        self._lado2 = lado2\n",
    "\n",
    "    def verificar_tiangulo(self) -> str:\n",
    "        if self._base == self._lado1:\n",
    "            if self._base == self._lado2:\n",
    "                return \"Equilátero\"\n",
    "            return \"Isóceles\"\n",
    "            \n",
    "        elif self._base == self.lado2:\n",
    "            if self._base == self._lado1:\n",
    "                return \"Equilátero\"\n",
    "            return \"Isóceles\"\n",
    "        \n",
    "        elif self._base != self._lado1 and self._base != self._lado2 and self._lado1 != self._lado2:\n",
    "            return \"Escaleno\"\n",
    "        else:\n",
    "            return \"Isso não é um triângulo\"\n",
    "\n",
    "    \n",
    "    @property\n",
    "    def base(self) -> float:\n",
    "        return self._base\n",
    "    \n",
    "    @property\n",
    "    def lado1(self) -> float:\n",
    "        return self._lado1\n",
    "    \n",
    "    @property\n",
    "    def lado2(self) -> float:\n",
    "        return self._lado2\n",
    "    \n",
    "    @base.setter\n",
    "    def base(self, nova_base) -> None:\n",
    "        self._base = nova_base\n",
    "    \n",
    "    @lado1.setter\n",
    "    def lado1(self, novo_lado1) -> None:\n",
    "        self._lado1 = novo_lado1\n",
    "    \n",
    "    @lado2.setter\n",
    "    def lado2(self, nova_lado2) -> None:\n",
    "        self._lado2 = nova_lado2"
   ]
  },
  {
   "cell_type": "code",
   "execution_count": 37,
   "metadata": {},
   "outputs": [],
   "source": [
    "t1 = Triangulo(1,1,1)"
   ]
  },
  {
   "cell_type": "code",
   "execution_count": 38,
   "metadata": {},
   "outputs": [
    {
     "data": {
      "text/plain": [
       "'Equilátero'"
      ]
     },
     "execution_count": 38,
     "metadata": {},
     "output_type": "execute_result"
    }
   ],
   "source": [
    "t1.verificar_tiangulo()"
   ]
  },
  {
   "cell_type": "code",
   "execution_count": 39,
   "metadata": {},
   "outputs": [],
   "source": [
    "t2 = Triangulo (1, 2, 1)"
   ]
  },
  {
   "cell_type": "code",
   "execution_count": 40,
   "metadata": {},
   "outputs": [
    {
     "data": {
      "text/plain": [
       "'Isóceles'"
      ]
     },
     "execution_count": 40,
     "metadata": {},
     "output_type": "execute_result"
    }
   ],
   "source": [
    "t2.verificar_tiangulo()"
   ]
  },
  {
   "cell_type": "code",
   "execution_count": 41,
   "metadata": {},
   "outputs": [],
   "source": [
    "t3 = Triangulo(1, 1, 3)"
   ]
  },
  {
   "cell_type": "code",
   "execution_count": 42,
   "metadata": {},
   "outputs": [
    {
     "data": {
      "text/plain": [
       "'Isóceles'"
      ]
     },
     "execution_count": 42,
     "metadata": {},
     "output_type": "execute_result"
    }
   ],
   "source": [
    "t3.verificar_tiangulo()"
   ]
  },
  {
   "cell_type": "code",
   "execution_count": 43,
   "metadata": {},
   "outputs": [],
   "source": [
    "t4 = Triangulo(3, 1, 3)"
   ]
  },
  {
   "cell_type": "code",
   "execution_count": 44,
   "metadata": {},
   "outputs": [
    {
     "data": {
      "text/plain": [
       "'Isóceles'"
      ]
     },
     "execution_count": 44,
     "metadata": {},
     "output_type": "execute_result"
    }
   ],
   "source": [
    "t4.verificar_tiangulo()"
   ]
  },
  {
   "cell_type": "code",
   "execution_count": 45,
   "metadata": {},
   "outputs": [],
   "source": [
    "t5 = Triangulo (1, 2, 3)"
   ]
  },
  {
   "cell_type": "code",
   "execution_count": 46,
   "metadata": {},
   "outputs": [
    {
     "data": {
      "text/plain": [
       "'Escaleno'"
      ]
     },
     "execution_count": 46,
     "metadata": {},
     "output_type": "execute_result"
    }
   ],
   "source": [
    "t5.verificar_tiangulo()"
   ]
  },
  {
   "cell_type": "markdown",
   "metadata": {},
   "source": [
    "\n",
    "### Exercício 7\n",
    "\n",
    "Escreva a classe que represente a abstração de uma pessoa. \n",
    "\n",
    "A classe deverá ter os atributos:\n",
    "\n",
    "- altura (float)\n",
    "- peso (float)\n",
    "- sexo (string \"M\" ou \"F\")\n",
    "- imc\n",
    "\n",
    "Além do método construtor, a classe deverá possuir os seguintes métodos:\n",
    "\n",
    "- **calcular_imc(parâmetros) -> float**\n",
    "    - Esse método deverá calcular o IMC da pessoa de acordo com a fórmula ```IMC=Peso/Altura^2```\n",
    "    - Deve ser calculado no construtor, e atualizar a propriedade imc\n",
    "\n",
    "&nbsp;\n",
    "\n",
    "- **verificar_imd() -> None**\n",
    "    - Esse método deverá exibir na tela o IMC da pessoa (valor e classificação), de acordo com a tabela abaixo\n",
    "\n",
    "    &nbsp;\n",
    "    \n",
    "    | Classificação | Homem | Mulher |\n",
    "    | ------------- | ----- | ------ |\n",
    "    | Obesidade mórbida | 40 ou + | 39 ou + |\n",
    "    | Obesidade moderada | 30 a 39,9 | 29 a 38,9 |\n",
    "    | Obesidade leve | 25 a 25,9 | 24 a 28,9 |\n",
    "    | Normal | 20 a 24,9 | 19 a 23,9 |\n",
    "    | Abaixo do normal | - de 20 | - de 19 |"
   ]
  },
  {
   "cell_type": "code",
   "execution_count": 47,
   "metadata": {},
   "outputs": [],
   "source": [
    "class Pessoa:\n",
    "    def __init__(self, altura:float, peso: float, sexo:str) -> None:\n",
    "        self.altura = altura\n",
    "        self.peso = peso\n",
    "        self.sexo = sexo[:1].capitalize()\n",
    "        self.imc = 0\n",
    "    \n",
    "    def calcular_imc(self):\n",
    "        self.imc = self.peso / (self.altura ** 2)\n",
    "        # return self.imc\n",
    "\n",
    "    def verificar_imc(self):\n",
    "        if (self.imc >= 40 and self.sexo == \"M\") or (self.imc >= 39 and self.sexo == \"F\"):\n",
    "            return f\"IMC: {self.imc:.2f} -> Obesidade Mórbida\"\n",
    "        elif (30 < self.imc <= 39.9 and self.sexo == \"M\") or (29 < self.imc <= 38.9 and self.sexo == \"F\"):\n",
    "            return f\"IMC: {self.imc:.2f} -> Obesidade Moderada\"\n",
    "        elif (25 < self.imc <= 29.9 and self.sexo == \"M\") or (24 < self.imc <= 28.9 and self.sexo == \"F\"):\n",
    "            return f\"IMC: {self.imc:.2f} -> Obesidade Leve\"\n",
    "        elif (20 < self.imc <= 24.9 and self.sexo == \"M\") or (19 < self.imc <= 23.9 and self.sexo == \"F\"):\n",
    "            return f\"IMC: {self.imc:.2f} -> Normal\"\n",
    "        elif (self.imc < 20 and self.sexo == \"M\") or (self.imc < 19 and self.sexo == \"F\"):\n",
    "            return f\"IMC: {self.imc:.2f} -> Abaixo do Normal\"\n",
    "        else:\n",
    "            return f\"IMC {self.imc:.2f} FORA DO RANGE\""
   ]
  },
  {
   "cell_type": "code",
   "execution_count": 48,
   "metadata": {},
   "outputs": [],
   "source": [
    "p1 = Pessoa(1.84, 150, \"M\")"
   ]
  },
  {
   "cell_type": "code",
   "execution_count": 49,
   "metadata": {},
   "outputs": [],
   "source": [
    "p1.calcular_imc()"
   ]
  },
  {
   "cell_type": "code",
   "execution_count": 50,
   "metadata": {},
   "outputs": [
    {
     "data": {
      "text/plain": [
       "'IMC: 44.31 -> Obesidade Mórbida'"
      ]
     },
     "execution_count": 50,
     "metadata": {},
     "output_type": "execute_result"
    }
   ],
   "source": [
    "p1.verificar_imc()"
   ]
  },
  {
   "cell_type": "code",
   "execution_count": 51,
   "metadata": {},
   "outputs": [],
   "source": [
    "p2 = Pessoa(1.66, 60, \"feminino\")"
   ]
  },
  {
   "cell_type": "code",
   "execution_count": 52,
   "metadata": {},
   "outputs": [],
   "source": [
    "p2.calcular_imc()"
   ]
  },
  {
   "cell_type": "code",
   "execution_count": 53,
   "metadata": {},
   "outputs": [
    {
     "data": {
      "text/plain": [
       "'IMC: 21.77 -> Normal'"
      ]
     },
     "execution_count": 53,
     "metadata": {},
     "output_type": "execute_result"
    }
   ],
   "source": [
    "p2.verificar_imc()"
   ]
  },
  {
   "cell_type": "markdown",
   "metadata": {},
   "source": [
    "### Exercício 8\n",
    "\n",
    "Crie uma classe `Cliente` cujos atributos são nome, idade e e-mail. Construa um método que imprima as informações tal como abaixo:\n",
    "\n",
    "```\n",
    "Nome: Fulano de Tal\n",
    "Idade: 40\n",
    "E-mail: fulano@mail.com\n",
    "```"
   ]
  },
  {
   "cell_type": "code",
   "execution_count": 54,
   "metadata": {},
   "outputs": [],
   "source": [
    "class Cliente:\n",
    "    def __init__(self, nome:str, idade:int, email:str) -> None:\n",
    "        self._nome = nome\n",
    "        self._idade = idade\n",
    "        self._email = email\n",
    "    \n",
    "    def mostrar_cliente(self) -> dict:\n",
    "        return {\"Nome\": str(self._nome), \"Idade\": int(self._idade), \"email\": str(self._email)}\n",
    "    \n",
    "    #getters\n",
    "    @property\n",
    "    def nome(self) -> str:\n",
    "        return self._nome\n",
    "    \n",
    "    @property\n",
    "    def idade(self) -> int:\n",
    "        return self._idade\n",
    "    \n",
    "    @ property\n",
    "    def email(self) -> str:\n",
    "        return self._email\n",
    "    \n",
    "    #setters\n",
    "    @email.setter\n",
    "    def email(self, novo_email) -> None:\n",
    "        if (\"@gmail.com\" or \"@hotmail.com\") not in self._email:\n",
    "            print(\"e_mail inválido.\")\n",
    "        else:\n",
    "            self._email = novo_email"
   ]
  },
  {
   "cell_type": "code",
   "execution_count": 55,
   "metadata": {},
   "outputs": [],
   "source": [
    "c1 = Cliente(\"João\", 30, \"joao@gmail.com\")"
   ]
  },
  {
   "cell_type": "code",
   "execution_count": 56,
   "metadata": {},
   "outputs": [
    {
     "data": {
      "text/plain": [
       "{'Nome': 'João', 'Idade': 30, 'email': 'joao@gmail.com'}"
      ]
     },
     "execution_count": 56,
     "metadata": {},
     "output_type": "execute_result"
    }
   ],
   "source": [
    "c1.mostrar_cliente()"
   ]
  },
  {
   "cell_type": "code",
   "execution_count": 57,
   "metadata": {},
   "outputs": [],
   "source": [
    "c1.email = \"joaog@gmail.com\""
   ]
  },
  {
   "cell_type": "code",
   "execution_count": 58,
   "metadata": {},
   "outputs": [
    {
     "data": {
      "text/plain": [
       "'joaog@gmail.com'"
      ]
     },
     "execution_count": 58,
     "metadata": {},
     "output_type": "execute_result"
    }
   ],
   "source": [
    "c1.email"
   ]
  },
  {
   "cell_type": "code",
   "execution_count": 59,
   "metadata": {},
   "outputs": [],
   "source": [
    "class Cliente:\n",
    "    def __init__(self, nome:str, idade:int, email:str, altura:float) -> None:\n",
    "        self._nome = nome\n",
    "        self._idade = idade\n",
    "        self._email = email\n",
    "        self._altura = altura\n",
    "    \n",
    "    # criando uma representação \"pythonica\" para mostrar o cliente usando o método mágico __repr__\n",
    "    def __repr__(self) -> None:\n",
    "        texto = f\"Nome: {self._nome} \\nIdade: {self._idade} \\nemail: {self._email} \\naltura: {self._altura}\"\n",
    "        return texto\n",
    "    \n",
    "    def __len__(self) -> float:\n",
    "        return int(self._altura)\n",
    "    \n",
    "        #getters\n",
    "    @property\n",
    "    def nome(self) -> str:\n",
    "        return self._nome\n",
    "    \n",
    "    @property\n",
    "    def idade(self) -> int:\n",
    "        return self._idade\n",
    "    \n",
    "    @ property\n",
    "    def email(self) -> str:\n",
    "        return self._email\n",
    "    \n",
    "    #setters\n",
    "    @email.setter\n",
    "    def email(self, novo_email) -> None:\n",
    "        if (\"@gmail.com\" or \"@hotmail.com\") not in self._email:\n",
    "            print(\"e_mail inválido.\")\n",
    "        else:\n",
    "            self._email = novo_email"
   ]
  },
  {
   "cell_type": "code",
   "execution_count": 60,
   "metadata": {},
   "outputs": [],
   "source": [
    "c2 = Cliente('raul', 30, 'raulze@gmail.com', altura=1.74)"
   ]
  },
  {
   "cell_type": "code",
   "execution_count": 61,
   "metadata": {},
   "outputs": [
    {
     "name": "stdout",
     "output_type": "stream",
     "text": [
      "Nome: raul \n",
      "Idade: 30 \n",
      "email: raulze@gmail.com \n",
      "altura: 1.74\n"
     ]
    }
   ],
   "source": [
    "print(c2)"
   ]
  },
  {
   "cell_type": "code",
   "execution_count": 62,
   "metadata": {},
   "outputs": [
    {
     "data": {
      "text/plain": [
       "{'_nome': 'raul', '_idade': 30, '_email': 'raulze@gmail.com', '_altura': 1.74}"
      ]
     },
     "execution_count": 62,
     "metadata": {},
     "output_type": "execute_result"
    }
   ],
   "source": [
    "c2.__dict__"
   ]
  },
  {
   "cell_type": "code",
   "execution_count": 63,
   "metadata": {},
   "outputs": [
    {
     "data": {
      "text/plain": [
       "1"
      ]
     },
     "execution_count": 63,
     "metadata": {},
     "output_type": "execute_result"
    }
   ],
   "source": [
    "len(c2)"
   ]
  },
  {
   "cell_type": "markdown",
   "metadata": {},
   "source": [
    "\n",
    "### Exercício 9\n",
    "\n",
    "Com base no exercício anterior, crie um sistema de cadastro com dicionários e a classe `Cliente`; cada cliente deve ter como chave o seu CPF. Seu programa deve perguntar se o usuário quer cadastrar um novo cliente, alterar um cadastro ou sair. \n",
    "\n",
    "Obs.: tente fazer esse exercício pode criando uma classe `Sistema`, que irá controlar o sistema de cadastros. Essa classe deve ter o atributo cadastro e os métodos para imprimir os cadastrados, cadastrar um novo, alterar um cadastro ou sair."
   ]
  },
  {
   "cell_type": "code",
   "execution_count": 65,
   "metadata": {},
   "outputs": [
    {
     "name": "stdout",
     "output_type": "stream",
     "text": [
      "\n",
      "Escolha uma opção:\n",
      "1. Cadastrar novo cliente\n",
      "2. Alterar cadastro existente\n",
      "3. Imprimir clientes cadastrados\n",
      "4. Sair\n",
      "Cliente com CPF 06974654979 cadastrado com sucesso!\n",
      "\n",
      "Escolha uma opção:\n",
      "1. Cadastrar novo cliente\n",
      "2. Alterar cadastro existente\n",
      "3. Imprimir clientes cadastrados\n",
      "4. Sair\n",
      "CPF: 06974654979\n",
      "Nome: raul\n",
      "Idade: 30\n",
      "E-mail: raul@gmail.com.br\n",
      "--------------------\n",
      "\n",
      "Escolha uma opção:\n",
      "1. Cadastrar novo cliente\n",
      "2. Alterar cadastro existente\n",
      "3. Imprimir clientes cadastrados\n",
      "4. Sair\n",
      "Saindo do sistema. Até logo!\n"
     ]
    }
   ],
   "source": [
    "class Cliente:\n",
    "    def __init__(self, nome: str, idade: int, email: str) -> None:\n",
    "        self.nome = nome\n",
    "        self.idade = idade\n",
    "        self.email = email\n",
    "\n",
    "    def mostrar_cliente(self) -> dict:\n",
    "        return {\"Nome\": self.nome, \"Idade\": self.idade, \"E-mail\": self.email}\n",
    "\n",
    "\n",
    "class Sistema:\n",
    "    def __init__(self) -> None:\n",
    "        self.cadastro = {}\n",
    "\n",
    "    def cadastrar_cliente(self, cpf: str):\n",
    "        nome = input(\"Digite o nome do cliente: \")\n",
    "        idade = int(input(\"Digite a idade do cliente: \"))\n",
    "        email = input(\"Digite o e-mail do cliente: \")\n",
    "        self.cadastro[cpf] = Cliente(nome, idade, email)\n",
    "        print(f\"Cliente com CPF {cpf} cadastrado com sucesso!\")\n",
    "\n",
    "    def alterar_cadastro(self, cpf: str):\n",
    "        if cpf in self.cadastro:\n",
    "            nome = input(\"Digite o novo nome do cliente: \")\n",
    "            idade = int(input(\"Digite a nova idade do cliente: \"))\n",
    "            email = input(\"Digite o novo e-mail do cliente: \")\n",
    "            self.cadastro[cpf] = Cliente(nome, idade, email)\n",
    "            print(f\"Cadastro do cliente com CPF {cpf} alterado com sucesso!\")\n",
    "        else:\n",
    "            print(\"Cliente não encontrado.\")\n",
    "\n",
    "    def imprimir_cadastrados(self):\n",
    "        if not self.cadastro:\n",
    "            print(\"Nenhum cliente cadastrado.\")\n",
    "        else:\n",
    "            for cpf, cliente in self.cadastro.items():\n",
    "                print(f\"CPF: {cpf}\")\n",
    "                info_cliente = cliente.mostrar_cliente()\n",
    "                for key, value in info_cliente.items():\n",
    "                    print(f\"{key}: {value}\")\n",
    "                print(\"-\" * 20)\n",
    "\n",
    "    def sair(self) -> bool:\n",
    "        print(\"Saindo do sistema. Até logo!\")\n",
    "        return True\n",
    "\n",
    "    def menu(self) -> None:\n",
    "        while True:\n",
    "            print(\"\\nEscolha uma opção:\")\n",
    "            print(\"1. Cadastrar novo cliente\")\n",
    "            print(\"2. Alterar cadastro existente\")\n",
    "            print(\"3. Imprimir clientes cadastrados\")\n",
    "            print(\"4. Sair\")\n",
    "\n",
    "            opcao = input(\"Opção: \")\n",
    "\n",
    "            if opcao == \"1\":\n",
    "                cpf = input(\"Digite o CPF do cliente: \")\n",
    "                if cpf not in self.cadastro:\n",
    "                    self.cadastrar_cliente(cpf)\n",
    "                else:\n",
    "                    print(\"Cliente já cadastrado.\")\n",
    "\n",
    "            elif opcao == \"2\":\n",
    "                cpf = input(\"Digite o CPF do cliente que deseja alterar: \")\n",
    "                self.alterar_cadastro(cpf)\n",
    "\n",
    "            elif opcao == \"3\":\n",
    "                self.imprimir_cadastrados()\n",
    "\n",
    "            elif opcao == \"4\":\n",
    "                if self.sair():\n",
    "                    break\n",
    "\n",
    "            else:\n",
    "                print(\"Opção inválida. Tente novamente.\")\n",
    "\n",
    "sistema = Sistema()\n",
    "sistema.menu()"
   ]
  },
  {
   "cell_type": "code",
   "execution_count": null,
   "metadata": {},
   "outputs": [],
   "source": []
  },
  {
   "cell_type": "code",
   "execution_count": null,
   "metadata": {},
   "outputs": [],
   "source": []
  },
  {
   "cell_type": "markdown",
   "metadata": {},
   "source": [
    "### Exercício 10\n",
    "\n",
    "Crie uma classe `Televisor`cujos atributos são: fabricante; modelo; canal atual; lista de canais; volume.\n",
    "\n",
    "Faça métodos aumentar/diminuir volume, trocar o canal e sintonizar um novo canal, que adiciona um novo canal à lista de canais (somente se esse canal não estiver nessa lista). No atributo lista de canais, devem estar armazenados todos os canais já sintonizados dessa TV. \n",
    "\n",
    "Obs.: o volume não pode ser menor que zero e maior que cem; só se pode trocar para um canal que já esteja na lista de canais."
   ]
  },
  {
   "cell_type": "code",
   "execution_count": 83,
   "metadata": {},
   "outputs": [],
   "source": [
    "from random import randint\n",
    "\n",
    "class Televisor:\n",
    "    def __init__(self, fabricante:str, modelo:str, canal_atual:int) -> None:\n",
    "        self.fabricante = fabricante\n",
    "        self.modelo = modelo\n",
    "        self.canal_atual = canal_atual\n",
    "        self.lista_canais = []\n",
    "        self.volume = 10\n",
    "\n",
    "    def aumentar_volume(self) -> None:\n",
    "        if self.volume < 100:\n",
    "            self.volume += 5\n",
    "            print(self.volume)\n",
    "        else:\n",
    "            print(f'Volume máximo: {self.volume}')\n",
    "\n",
    "    def diminuir_volume(self) -> None:\n",
    "        if self.volume > 0:\n",
    "            self.volume -= 5\n",
    "            print(self.volume)\n",
    "        else:\n",
    "            print('MUDO!')\n",
    "        \n",
    "    def sintonizar_canal(self) -> None:\n",
    "        canal = self.canal_atual\n",
    "        print(f'O canal {canal} será adiconado a lista')\n",
    "        print(f'Lista atual de canais: {self.lista_canais}')\n",
    "        if canal not in self.lista_canais:\n",
    "            self.lista_canais.append(canal)\n",
    "            print(f'Lista de canais atualizada: {self.lista_canais}')\n",
    "        else:\n",
    "            print(f'O canal {canal} já está sincronizado')\n",
    "    \n",
    "    def trocar_canal(self) -> int:\n",
    "        self.canal_atual = randint(1,100)\n",
    "        print(f'O canal atual é {self.canal_atual}')\n",
    "        return self.canal_atual  \n"
   ]
  },
  {
   "cell_type": "code",
   "execution_count": 84,
   "metadata": {},
   "outputs": [],
   "source": [
    "tv = Televisor('samsung', 'abcde123', canal_atual=5)"
   ]
  },
  {
   "cell_type": "code",
   "execution_count": 92,
   "metadata": {},
   "outputs": [
    {
     "name": "stdout",
     "output_type": "stream",
     "text": [
      "30\n"
     ]
    }
   ],
   "source": [
    "tv.aumentar_volume()"
   ]
  },
  {
   "cell_type": "code",
   "execution_count": 93,
   "metadata": {},
   "outputs": [
    {
     "name": "stdout",
     "output_type": "stream",
     "text": [
      "25\n"
     ]
    }
   ],
   "source": [
    "tv.diminuir_volume()"
   ]
  },
  {
   "cell_type": "code",
   "execution_count": 94,
   "metadata": {},
   "outputs": [
    {
     "name": "stdout",
     "output_type": "stream",
     "text": [
      "O canal 5 será adiconado a lista\n",
      "Lista atual de canais: []\n",
      "Lista de canais atualizada: [5]\n"
     ]
    }
   ],
   "source": [
    "tv.sintonizar_canal()"
   ]
  },
  {
   "cell_type": "code",
   "execution_count": 95,
   "metadata": {},
   "outputs": [
    {
     "name": "stdout",
     "output_type": "stream",
     "text": [
      "O canal atual é 61\n"
     ]
    },
    {
     "data": {
      "text/plain": [
       "61"
      ]
     },
     "execution_count": 95,
     "metadata": {},
     "output_type": "execute_result"
    }
   ],
   "source": [
    "tv.trocar_canal()"
   ]
  },
  {
   "cell_type": "code",
   "execution_count": 96,
   "metadata": {},
   "outputs": [
    {
     "name": "stdout",
     "output_type": "stream",
     "text": [
      "O canal 61 será adiconado a lista\n",
      "Lista atual de canais: [5]\n",
      "Lista de canais atualizada: [5, 61]\n"
     ]
    }
   ],
   "source": [
    "tv.sintonizar_canal()"
   ]
  },
  {
   "cell_type": "markdown",
   "metadata": {},
   "source": [
    "### Exercício 11\n",
    "\n",
    "Crie uma classe `ControleRemoto` cujo atributo é televisão (isso é, recebe um objeto da classe do exercício 7). Crie métodos para aumentar/diminuir volume, trocar o canal e sintonizar um novo canal, que adiciona um novo canal à lista de canais (somente se esse canal não estiver nessa lista).\n"
   ]
  },
  {
   "cell_type": "code",
   "execution_count": 97,
   "metadata": {},
   "outputs": [],
   "source": [
    "class ControleRemoto:\n",
    "    def __init__(self, tv):\n",
    "        self.tv = tv\n",
    "\n",
    "    def aumenta_volume(self):\n",
    "        self.tv.aumentar_volume()\n",
    "\n",
    "    def diminui_volume(self):\n",
    "        self.tv.diminuir_volume()\n",
    "\n",
    "    def troca_canal(self):\n",
    "        self.tv.trocar_canal()\n",
    "\n",
    "    def sintoniza_canal(self):\n",
    "        self.tv.sintonizar_canal()\n"
   ]
  },
  {
   "cell_type": "code",
   "execution_count": 98,
   "metadata": {},
   "outputs": [],
   "source": [
    "c1 = ControleRemoto(tv)"
   ]
  },
  {
   "cell_type": "code",
   "execution_count": 99,
   "metadata": {},
   "outputs": [
    {
     "name": "stdout",
     "output_type": "stream",
     "text": [
      "30\n"
     ]
    }
   ],
   "source": [
    "c1.aumenta_volume()"
   ]
  },
  {
   "cell_type": "code",
   "execution_count": 100,
   "metadata": {},
   "outputs": [
    {
     "name": "stdout",
     "output_type": "stream",
     "text": [
      "25\n"
     ]
    }
   ],
   "source": [
    "c1.diminui_volume()"
   ]
  },
  {
   "cell_type": "code",
   "execution_count": 101,
   "metadata": {},
   "outputs": [
    {
     "name": "stdout",
     "output_type": "stream",
     "text": [
      "O canal atual é 23\n"
     ]
    }
   ],
   "source": [
    "c1.troca_canal()"
   ]
  },
  {
   "cell_type": "code",
   "execution_count": 102,
   "metadata": {},
   "outputs": [
    {
     "name": "stdout",
     "output_type": "stream",
     "text": [
      "O canal 23 será adiconado a lista\n",
      "Lista atual de canais: [5, 61]\n",
      "Lista de canais atualizada: [5, 61, 23]\n"
     ]
    }
   ],
   "source": [
    "c1.sintoniza_canal()"
   ]
  },
  {
   "cell_type": "markdown",
   "metadata": {},
   "source": [
    "### Exercício 12\n",
    "\n",
    "Remodele a classe televisor, mas agora defina uma classe Canal para os canais. Adapte a solução para que ela continue funcionando adequadamente"
   ]
  },
  {
   "cell_type": "code",
   "execution_count": null,
   "metadata": {},
   "outputs": [],
   "source": []
  }
 ],
 "metadata": {
  "kernelspec": {
   "display_name": "Python 3",
   "language": "python",
   "name": "python3"
  },
  "language_info": {
   "codemirror_mode": {
    "name": "ipython",
    "version": 3
   },
   "file_extension": ".py",
   "mimetype": "text/x-python",
   "name": "python",
   "nbconvert_exporter": "python",
   "pygments_lexer": "ipython3",
   "version": "3.12.2"
  }
 },
 "nbformat": 4,
 "nbformat_minor": 2
}
